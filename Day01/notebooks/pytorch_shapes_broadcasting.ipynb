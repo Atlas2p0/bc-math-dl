{
 "cells": [
  {
   "cell_type": "code",
   "execution_count": 1,
   "id": "38195ca7",
   "metadata": {},
   "outputs": [],
   "source": [
    "import torch"
   ]
  },
  {
   "cell_type": "markdown",
   "id": "1b363034",
   "metadata": {},
   "source": [
    "## Exercise 1\n",
    "\n",
    "* Create a 1D tensor from a Python list\n",
    "\n",
    "* Create a 2D tensor of zeros with shape (3, 4)\n",
    "\n",
    "* Create a 3D tensor of random values between 0 and 1 with shape (2, 3, 4)\n",
    "\n",
    "* Create a tensor of ones with the same shape as the random tensor\n",
    "\n",
    "* Print the shape, dtype, and device of each tensor"
   ]
  },
  {
   "cell_type": "code",
   "execution_count": 2,
   "id": "0e6f9e8d",
   "metadata": {},
   "outputs": [
    {
     "data": {
      "text/plain": [
       "tensor([1., 2., 3., 4., 5.], dtype=torch.float16)"
      ]
     },
     "execution_count": 2,
     "metadata": {},
     "output_type": "execute_result"
    }
   ],
   "source": [
    "# Creating a python list\n",
    "my_list= [1,2,3,4,5]\n",
    "# Creating a 1D tensor from the list\n",
    "tensor_from_list= torch.tensor(my_list, dtype= torch.float16)\n",
    "tensor_from_list"
   ]
  },
  {
   "cell_type": "code",
   "execution_count": 3,
   "id": "828cfffb",
   "metadata": {},
   "outputs": [
    {
     "name": "stdout",
     "output_type": "stream",
     "text": [
      "tensor([[0., 0., 0., 0.],\n",
      "        [0., 0., 0., 0.],\n",
      "        [0., 0., 0., 0.]], dtype=torch.float16)\n",
      "torch.Size([3, 4])\n"
     ]
    }
   ],
   "source": [
    "# Creating a 2D tensor of zeros with shape (3,4)\n",
    "zeros= torch.zeros(size= (3,4), dtype= torch.float16)\n",
    "print(zeros)\n",
    "print(zeros.shape)"
   ]
  },
  {
   "cell_type": "code",
   "execution_count": 4,
   "id": "06baef71",
   "metadata": {},
   "outputs": [
    {
     "name": "stdout",
     "output_type": "stream",
     "text": [
      "Tensor: tensor([[[0.8201, 0.6196, 0.9309, 0.8735],\n",
      "         [0.3843, 0.6424, 0.9878, 0.3363],\n",
      "         [0.8443, 0.9954, 0.3878, 0.9327]],\n",
      "\n",
      "        [[0.8179, 0.1278, 0.1536, 0.0688],\n",
      "         [0.3725, 0.8183, 0.6082, 0.7560],\n",
      "         [0.1133, 0.9141, 0.8748, 0.6121]]])\n",
      "Shape: torch.Size([2, 3, 4])\n"
     ]
    }
   ],
   "source": [
    "upper_bound= 1\n",
    "lower_bound= 0\n",
    "\n",
    "rand_tensor= (upper_bound - lower_bound) * torch.rand(size= (2,3,4))\n",
    "\n",
    "print(f\"Tensor: {rand_tensor}\")\n",
    "print(f\"Shape: {rand_tensor.shape}\")"
   ]
  },
  {
   "cell_type": "code",
   "execution_count": 5,
   "id": "0b5c17f6",
   "metadata": {},
   "outputs": [
    {
     "name": "stdout",
     "output_type": "stream",
     "text": [
      "Tensor: tensor([[[1., 1., 1., 1.],\n",
      "         [1., 1., 1., 1.],\n",
      "         [1., 1., 1., 1.]],\n",
      "\n",
      "        [[1., 1., 1., 1.],\n",
      "         [1., 1., 1., 1.],\n",
      "         [1., 1., 1., 1.]]])\n",
      "Shape: torch.Size([2, 3, 4])\n"
     ]
    }
   ],
   "source": [
    "ones_like_rand= torch.ones_like(rand_tensor)\n",
    "\n",
    "print(f\"Tensor: {ones_like_rand}\")\n",
    "print(f\"Shape: {ones_like_rand.shape}\")"
   ]
  },
  {
   "cell_type": "code",
   "execution_count": 6,
   "id": "556c3b1a",
   "metadata": {},
   "outputs": [
    {
     "name": "stdout",
     "output_type": "stream",
     "text": [
      "Tensor 1: tensor([1., 2., 3., 4., 5.], dtype=torch.float16)\n",
      "Shape: torch.Size([5])\n",
      "dtype: torch.float16\n",
      "device: cpu\n",
      "--------------------\n",
      "Tensor 2: tensor([[0., 0., 0., 0.],\n",
      "        [0., 0., 0., 0.],\n",
      "        [0., 0., 0., 0.]], dtype=torch.float16)\n",
      "Shape: torch.Size([3, 4])\n",
      "dtype: torch.float16\n",
      "device: cpu\n",
      "--------------------\n",
      "Tensor 3: tensor([[[0.8201, 0.6196, 0.9309, 0.8735],\n",
      "         [0.3843, 0.6424, 0.9878, 0.3363],\n",
      "         [0.8443, 0.9954, 0.3878, 0.9327]],\n",
      "\n",
      "        [[0.8179, 0.1278, 0.1536, 0.0688],\n",
      "         [0.3725, 0.8183, 0.6082, 0.7560],\n",
      "         [0.1133, 0.9141, 0.8748, 0.6121]]])\n",
      "Shape: torch.Size([2, 3, 4])\n",
      "dtype: torch.float32\n",
      "device: cpu\n",
      "--------------------\n",
      "Tensor 4: tensor([[[1., 1., 1., 1.],\n",
      "         [1., 1., 1., 1.],\n",
      "         [1., 1., 1., 1.]],\n",
      "\n",
      "        [[1., 1., 1., 1.],\n",
      "         [1., 1., 1., 1.],\n",
      "         [1., 1., 1., 1.]]])\n",
      "Shape: torch.Size([2, 3, 4])\n",
      "dtype: torch.float32\n",
      "device: cpu\n",
      "--------------------\n"
     ]
    }
   ],
   "source": [
    "print(f\"Tensor 1: {tensor_from_list}\")\n",
    "print(f\"Shape: {tensor_from_list.shape}\")\n",
    "print(f\"dtype: {tensor_from_list.dtype}\")\n",
    "print(f\"device: {tensor_from_list.device}\")\n",
    "print(\"-\"*20)\n",
    "\n",
    "print(f\"Tensor 2: {zeros}\")\n",
    "print(f\"Shape: {zeros.shape}\")\n",
    "print(f\"dtype: {zeros.dtype}\")\n",
    "print(f\"device: {zeros.device}\")\n",
    "print(\"-\"*20)\n",
    "\n",
    "print(f\"Tensor 3: {rand_tensor}\")\n",
    "print(f\"Shape: {rand_tensor.shape}\")\n",
    "print(f\"dtype: {rand_tensor.dtype}\")\n",
    "print(f\"device: {rand_tensor.device}\")\n",
    "print(\"-\"*20)\n",
    "\n",
    "print(f\"Tensor 4: {ones_like_rand}\")\n",
    "print(f\"Shape: {ones_like_rand.shape}\")\n",
    "print(f\"dtype: {ones_like_rand.dtype}\")\n",
    "print(f\"device: {ones_like_rand.device}\")\n",
    "print(\"-\"*20)"
   ]
  },
  {
   "cell_type": "markdown",
   "id": "83b66e46",
   "metadata": {},
   "source": [
    "## Exercise 2: Tensor Shapes and Reshaping\n",
    "* 1. Create a 1D tensor with 12 elements\n",
    "* 2. Reshape it to a 2D tensor of shape (3, 4)\n",
    "* 3. Reshape it to a 3D tensor of shape (2, 2, 3)\n",
    "* 4. Use view() to create a tensor of shape (6, 2)\n",
    "* 5. Use unsqueeze() to add a dimension at position 0\n",
    "* 6. Use squeeze() to remove any dimension of size 1"
   ]
  },
  {
   "cell_type": "code",
   "execution_count": 7,
   "id": "e22ec872",
   "metadata": {},
   "outputs": [
    {
     "name": "stdout",
     "output_type": "stream",
     "text": [
      "Starting Tensor: tensor([ 2.0000,  5.0000,  1.0000,  9.0000,  2.0000,  6.6000, 72.0000,  8.8000,\n",
      "        25.0000,  4.0000,  3.0000, 25.0000])\n",
      "Starting Shape: torch.Size([12])\n",
      "--------------------\n",
      "Reshaped 2D Tensor: tensor([[ 2.0000,  5.0000,  1.0000,  9.0000],\n",
      "        [ 2.0000,  6.6000, 72.0000,  8.8000],\n",
      "        [25.0000,  4.0000,  3.0000, 25.0000]])\n",
      "Shape after reshaping to 2D: torch.Size([3, 4])\n",
      "--------------------\n",
      "Reshaped 3D Tensor: tensor([[[ 2.0000,  5.0000,  1.0000],\n",
      "         [ 9.0000,  2.0000,  6.6000]],\n",
      "\n",
      "        [[72.0000,  8.8000, 25.0000],\n",
      "         [ 4.0000,  3.0000, 25.0000]]])\n",
      "Shape after reshaping to 3D: torch.Size([2, 2, 3])\n"
     ]
    }
   ],
   "source": [
    "# 1D Tensor with 12 elements\n",
    "elements_list= [2,5,1,9,2,6.6,72,8.8,25,4,3,25]\n",
    "elements_tensor= torch.tensor(elements_list)\n",
    "print(f\"Starting Tensor: {elements_tensor}\")\n",
    "print(f\"Starting Shape: {elements_tensor.shape}\")\n",
    "print(\"-\" * 20)\n",
    "\n",
    "reshaped_two_d= elements_tensor.reshape(shape= (3, 4))\n",
    "print(f\"Reshaped 2D Tensor: {reshaped_two_d}\")\n",
    "print(f\"Shape after reshaping to 2D: {reshaped_two_d.shape}\")\n",
    "print(\"-\" * 20)\n",
    "\n",
    "reshaped_three_d= reshaped_two_d.reshape(shape= (2,2,3))\n",
    "print(f\"Reshaped 3D Tensor: {reshaped_three_d}\")\n",
    "print(f\"Shape after reshaping to 3D: {reshaped_three_d.shape}\")"
   ]
  },
  {
   "cell_type": "code",
   "execution_count": 8,
   "id": "52e9edab",
   "metadata": {},
   "outputs": [
    {
     "name": "stdout",
     "output_type": "stream",
     "text": [
      "New (6,2) Tensor using view: tensor([[ 2.0000,  5.0000],\n",
      "        [ 1.0000,  9.0000],\n",
      "        [ 2.0000,  6.6000],\n",
      "        [72.0000,  8.8000],\n",
      "        [25.0000,  4.0000],\n",
      "        [ 3.0000, 25.0000]])\n",
      "Shape: torch.Size([6, 2])\n",
      "Unsqueezed: tensor([[[ 2.0000,  5.0000],\n",
      "         [ 1.0000,  9.0000],\n",
      "         [ 2.0000,  6.6000],\n",
      "         [72.0000,  8.8000],\n",
      "         [25.0000,  4.0000],\n",
      "         [ 3.0000, 25.0000]]])\n",
      "Unsqueezed shape: torch.Size([1, 6, 2])\n",
      "Squeezed back to original: tensor([[ 2.0000,  5.0000],\n",
      "        [ 1.0000,  9.0000],\n",
      "        [ 2.0000,  6.6000],\n",
      "        [72.0000,  8.8000],\n",
      "        [25.0000,  4.0000],\n",
      "        [ 3.0000, 25.0000]])\n",
      "Squeezed shape to original: torch.Size([6, 2])\n"
     ]
    }
   ],
   "source": [
    "new_tensor_view= reshaped_three_d.view(6,2)\n",
    "print(f\"New (6,2) Tensor using view: {new_tensor_view}\")\n",
    "print(f\"Shape: {new_tensor_view.shape}\")\n",
    "new_tensor_view_unsqueezed= new_tensor_view.unsqueeze(dim= 0)\n",
    "print(f\"Unsqueezed: {new_tensor_view_unsqueezed}\")\n",
    "print(f\"Unsqueezed shape: {new_tensor_view_unsqueezed.shape}\")\n",
    "new_tensor_view_squeezed= new_tensor_view_unsqueezed.squeeze()\n",
    "print(f\"Squeezed back to original: {new_tensor_view_squeezed}\")\n",
    "print(f\"Squeezed shape to original: {new_tensor_view_squeezed.shape}\")"
   ]
  },
  {
   "cell_type": "markdown",
   "id": "8353106a",
   "metadata": {},
   "source": [
    "## Exercise 3: Basic Broadcasting\n",
    "* Create a tensor A of shape (3, 1)\n",
    "\n",
    "* Create a tensor B of shape (1, 4)\n",
    "\n",
    "* Add A and B and observe the result\n",
    "\n",
    "* Create a tensor C of shape (3, 4)\n",
    "\n",
    "* Multiply C by a scalar (tensor of shape ())\n",
    "\n",
    "* Create a tensor D of shape (4,)\n",
    "\n",
    "* Add C and D and observe the result"
   ]
  },
  {
   "cell_type": "code",
   "execution_count": 9,
   "id": "cd147449",
   "metadata": {},
   "outputs": [
    {
     "name": "stdout",
     "output_type": "stream",
     "text": [
      "Tensor A: tensor([[11.8125],\n",
      "        [11.1484],\n",
      "        [ 5.7266]], dtype=torch.float16)\n",
      "Tensor A Shape: torch.Size([3, 1])\n",
      "----------\n",
      "Tensor B: tensor([[ 5.6523, 13.1875,  6.3711,  5.9336]], dtype=torch.float16)\n",
      "Tesnor B Shape: torch.Size([1, 4])\n",
      "Tensor A+B: tensor([[17.4688, 25.0000, 18.1875, 17.7500],\n",
      "        [16.7969, 24.3438, 17.5156, 17.0781],\n",
      "        [11.3750, 18.9062, 12.0938, 11.6562]], dtype=torch.float16)\n"
     ]
    }
   ],
   "source": [
    "upper_bound= 30\n",
    "lower_bound= 5\n",
    "A= (upper_bound - lower_bound) * torch.rand(size=(3,1), dtype= torch.float16)\n",
    "B= (upper_bound - lower_bound) * torch.rand(size=(1,4), dtype= torch.float16)\n",
    "print(f\"Tensor A: {A}\")\n",
    "print(f\"Tensor A Shape: {A.shape}\")\n",
    "print(\"-\"*10)\n",
    "print(f\"Tensor B: {B}\")\n",
    "print(f\"Tesnor B Shape: {B.shape}\")\n",
    "\n",
    "A_plus_B= A + B\n",
    "print(f\"Tensor A+B: {A_plus_B}\")"
   ]
  },
  {
   "cell_type": "code",
   "execution_count": 10,
   "id": "5e890b06",
   "metadata": {},
   "outputs": [
    {
     "name": "stdout",
     "output_type": "stream",
     "text": [
      "Tensor C: tensor([[20.9219,  4.3828,  2.3066, 12.8750],\n",
      "        [19.5469, 17.7188, 20.7344,  2.6250],\n",
      "        [18.3281, 10.3750, 19.4688,  8.8047]], dtype=torch.float16)\n",
      "Tensor C Shape: torch.Size([3, 4])\n",
      "Scalar k: 2 | Shape: torch.Size([])\n",
      "kC: tensor([[41.8438,  8.7656,  4.6133, 25.7500],\n",
      "        [39.0938, 35.4375, 41.4688,  5.2500],\n",
      "        [36.6562, 20.7500, 38.9375, 17.6094]], dtype=torch.float16) | Shape: torch.Size([3, 4])\n"
     ]
    }
   ],
   "source": [
    "C= (upper_bound - lower_bound) * torch.rand(size= (3, 4), dtype= torch.float16)\n",
    "scalar_k= torch.tensor(2)\n",
    "print(f\"Tensor C: {C}\")\n",
    "print(f\"Tensor C Shape: {C.shape}\")\n",
    "print(f\"Scalar k: {scalar_k} | Shape: {scalar_k.shape}\")\n",
    "print(f\"kC: {scalar_k * C} | Shape: {(scalar_k * C).shape}\")"
   ]
  },
  {
   "cell_type": "code",
   "execution_count": 11,
   "id": "def58ac5",
   "metadata": {},
   "outputs": [
    {
     "name": "stdout",
     "output_type": "stream",
     "text": [
      "Tensor D: tensor([12.9076, 15.5646, 15.0989,  5.7806])\n",
      "Tensor D Shape: torch.Size([4])\n",
      "Tensor C+D: tensor([[33.8295, 19.9474, 17.4056, 18.6556],\n",
      "        [32.4545, 33.2833, 35.8333,  8.4056],\n",
      "        [31.2358, 25.9396, 34.5677, 14.5853]]) | Shape: torch.Size([3, 4])\n"
     ]
    }
   ],
   "source": [
    "D= (upper_bound - lower_bound) * torch.rand(size=(4,))\n",
    "print(f\"Tensor D: {D}\")\n",
    "print(f\"Tensor D Shape: {D.shape}\")\n",
    "print(f\"Tensor C+D: {C + D} | Shape: {(C + D).shape}\")"
   ]
  },
  {
   "cell_type": "markdown",
   "id": "42c0e572",
   "metadata": {},
   "source": [
    "## Exercise 4: Advanced Broadcasting Operations\n",
    "\n",
    "* Create a tensor X of shape (5, 4) with random values\n",
    " \n",
    "* Create a tensor Y of shape (4,) with values [1, 2, 3, 4]\n",
    " \n",
    "* Subtract Y from each row of X\n",
    " \n",
    "* Create a tensor Z of shape (5, 1) with values [10, 20, 30, 40, 50]\n",
    " \n",
    "* Add Z to each column of the result from step 3\n",
    " \n",
    "* Create a tensor M of shape (3, 1, 4) and tensor N of shape (2, 4)\n",
    " \n",
    "* Add M and N and explain the broadcasting"
   ]
  },
  {
   "cell_type": "code",
   "execution_count": 12,
   "id": "7199715c",
   "metadata": {},
   "outputs": [
    {
     "name": "stdout",
     "output_type": "stream",
     "text": [
      "Tensor X: tensor([[6.4715, 2.1144, 9.8830, 9.5979],\n",
      "        [8.8961, 4.5710, 8.2781, 7.4386],\n",
      "        [8.0124, 1.4778, 2.3078, 9.3694],\n",
      "        [4.8934, 6.5349, 2.8707, 0.7675],\n",
      "        [6.8197, 3.3112, 3.8701, 4.6595]])\n",
      "Tensor Y: tensor([1, 2, 3, 4])\n",
      "Tensor X - Y: tensor([[ 5.4715,  0.1144,  6.8830,  5.5979],\n",
      "        [ 7.8961,  2.5710,  5.2781,  3.4386],\n",
      "        [ 7.0124, -0.5222, -0.6922,  5.3694],\n",
      "        [ 3.8934,  4.5349, -0.1293, -3.2325],\n",
      "        [ 5.8197,  1.3112,  0.8701,  0.6595]])\n",
      "X-Y Shape: torch.Size([5, 4])\n"
     ]
    }
   ],
   "source": [
    "upper_bound= 10\n",
    "lower_bound= 0\n",
    "X= (upper_bound - lower_bound) * torch.rand(size=(5, 4))\n",
    "Y= torch.tensor([1,2,3,4])\n",
    "X_m_Y= X - Y\n",
    "print(f\"Tensor X: {X}\")\n",
    "print(f\"Tensor Y: {Y}\")\n",
    "print(f\"Tensor X - Y: {X_m_Y}\")\n",
    "print(f\"X-Y Shape: {(X_m_Y).shape}\")\n"
   ]
  },
  {
   "cell_type": "code",
   "execution_count": null,
   "id": "431b4594",
   "metadata": {},
   "outputs": [],
   "source": []
  },
  {
   "cell_type": "code",
   "execution_count": 13,
   "id": "8a6dc7f0",
   "metadata": {},
   "outputs": [
    {
     "name": "stdout",
     "output_type": "stream",
     "text": [
      "Z + Col 1= tensor([15.4715, 27.8961, 37.0124, 43.8934, 55.8197])\n",
      "Z + Col 2= tensor([10.1144, 22.5710, 29.4778, 44.5349, 51.3112])\n",
      "Z + Col 3= tensor([16.8830, 25.2781, 29.3078, 39.8707, 50.8701])\n",
      "Z + Col 4= tensor([15.5979, 23.4386, 35.3694, 36.7675, 50.6595])\n"
     ]
    }
   ],
   "source": [
    "Z= torch.tensor([10,20,30,40,50])\n",
    "for i in range(X_m_Y.shape[1]):\n",
    "    print(f\"Z + Col {i + 1}= {Z + X_m_Y[:,i]}\")\n",
    "    \n"
   ]
  },
  {
   "cell_type": "code",
   "execution_count": 14,
   "id": "40c4ec15",
   "metadata": {},
   "outputs": [
    {
     "name": "stdout",
     "output_type": "stream",
     "text": [
      "Tensor M: tensor([[[2.3394, 9.3994, 0.0149, 1.6941]],\n",
      "\n",
      "        [[7.8083, 7.4877, 9.0345, 5.9620]],\n",
      "\n",
      "        [[0.9765, 2.1690, 2.7237, 5.9263]]])\n",
      "Tensor M Shape: torch.Size([3, 1, 4])\n",
      "--------------------\n",
      "Tensor N: tensor([[8.1271, 1.0940, 0.7872, 2.8865],\n",
      "        [3.0781, 5.5412, 3.4205, 4.2151]])\n",
      "Tensor N Shape: torch.Size([2, 4])\n",
      "\n",
      "Result of M + N:\n",
      " tensor([[[10.4665, 10.4934,  0.8021,  4.5806],\n",
      "         [ 5.4176, 14.9406,  3.4354,  5.9092]],\n",
      "\n",
      "        [[15.9354,  8.5817,  9.8217,  8.8484],\n",
      "         [10.8864, 13.0289, 12.4549, 10.1771]],\n",
      "\n",
      "        [[ 9.1036,  3.2629,  3.5109,  8.8128],\n",
      "         [ 4.0547,  7.7102,  6.1442, 10.1414]]])\n",
      "Shape of result: torch.Size([3, 2, 4])\n",
      "\n",
      "Broadcasting explanation:\n",
      "- M (3, 1, 4) is broadcasted to (3, 2, 4) by repeating along dimension 1\n",
      "- N (2, 4) is broadcasted to (1, 2, 4) and then to (3, 2, 4) by repeating along dimension 0\n",
      "- Element-wise addition is performed on the broadcasted tensors\n"
     ]
    }
   ],
   "source": [
    "M= (upper_bound - lower_bound) * torch.rand(size= (3, 1, 4))\n",
    "N= (upper_bound - lower_bound) * torch.rand(size=(2,4))\n",
    "print(f\"Tensor M: {M}\")\n",
    "print(f\"Tensor M Shape: {M.shape}\")\n",
    "print(\"-\"*20)\n",
    "print(f\"Tensor N: {N}\")\n",
    "print(f\"Tensor N Shape: {N.shape}\")\n",
    "result_mn = M + N\n",
    "print(\"\\nResult of M + N:\\n\", result_mn)\n",
    "print(\"Shape of result:\", result_mn.shape)\n",
    "print(\"\\nBroadcasting explanation:\")\n",
    "print(\"- M (3, 1, 4) is broadcasted to (3, 2, 4) by repeating along dimension 1\")\n",
    "print(\"- N (2, 4) is broadcasted to (1, 2, 4) and then to (3, 2, 4) by repeating along dimension 0\")\n",
    "print(\"- Element-wise addition is performed on the broadcasted tensors\")\n"
   ]
  },
  {
   "cell_type": "markdown",
   "id": "ff1f7e99",
   "metadata": {},
   "source": [
    "## Exercise 5: Practical Application - Normalizing Data\n",
    "\n",
    "* Create a tensor representing a dataset of shape (100, 5) with random values between 0 and 100\n",
    "\n",
    "* Calculate the mean of each column (feature)\n",
    "\n",
    "* Calculate the standard deviation of each column (feature)\n",
    "\n",
    "* Normalize the dataset by subtracting the mean and dividing by the standard deviation for each column\n",
    "\n",
    "* Verify that the normalized data has approximately zero mean and unit standard deviation for each column"
   ]
  },
  {
   "cell_type": "code",
   "execution_count": 15,
   "id": "347c642a",
   "metadata": {},
   "outputs": [
    {
     "name": "stdout",
     "output_type": "stream",
     "text": [
      "Original Data First 5 Rows: tensor([[88.2269, 91.5004, 38.2864, 95.9306, 39.0448],\n",
      "        [60.0895, 25.6572, 79.3641, 94.0771, 13.3186],\n",
      "        [93.4598, 59.3580, 86.9404, 56.7715, 74.1094],\n",
      "        [42.9404, 88.5443, 57.3904, 26.6580, 62.7449],\n",
      "        [26.9632, 44.1364, 29.6921, 83.1685, 10.5315]])\n",
      "Dataset Shape: torch.Size([100, 5])\n",
      "Features Mean: tensor([49.8762, 45.0017, 50.1827, 50.0841, 43.4298])\n",
      "Features Standard Deviation: tensor([28.1781, 27.5750, 29.9273, 29.6868, 28.9575])\n",
      "Normalized Data First 5 Rows: tensor([[ 1.3610,  1.6863, -0.3975,  1.5443, -0.1514],\n",
      "        [ 0.3625, -0.7015,  0.9751,  1.4819, -1.0398],\n",
      "        [ 1.5467,  0.5206,  1.2282,  0.2253,  1.0595],\n",
      "        [-0.2461,  1.5791,  0.2408, -0.7891,  0.6670],\n",
      "        [-0.8131, -0.0314, -0.6847,  1.1144, -1.1361]])\n"
     ]
    }
   ],
   "source": [
    "upper_bound= 100\n",
    "torch.manual_seed(42)\n",
    "dataset= upper_bound * torch.rand(size= (100, 5))\n",
    "print(f\"Original Data First 5 Rows: {dataset[:5]}\")\n",
    "print(f\"Dataset Shape: {dataset.shape}\")\n",
    "mean= torch.mean(dataset, dim= 0)\n",
    "print(f\"Features Mean: {mean}\")\n",
    "std= torch.std(dataset, dim= 0)\n",
    "print(f\"Features Standard Deviation: {std}\")\n",
    "normalized_dataset= (dataset - mean) / std\n",
    "print(f\"Normalized Data First 5 Rows: {normalized_dataset[:5]}\")\n"
   ]
  },
  {
   "cell_type": "code",
   "execution_count": 17,
   "id": "574c1832",
   "metadata": {},
   "outputs": [
    {
     "name": "stdout",
     "output_type": "stream",
     "text": [
      "\n",
      "Verification:\n",
      "Means are close to zero: True\n",
      "Standard deviations are close to one: True\n"
     ]
    }
   ],
   "source": [
    "# Check if the means are close to zero and standard deviations are close to 1\n",
    "normalized_mean= torch.mean(normalized_dataset, dim= 0)\n",
    "normalized_std= torch.std(normalized_dataset, dim= 0)\n",
    "print(\"\\nVerification:\")\n",
    "print(\"Means are close to zero:\", torch.allclose(normalized_mean, torch.zeros_like(normalized_mean), atol=1e-6))\n",
    "print(\"Standard deviations are close to one:\", torch.allclose(normalized_std, torch.ones_like(normalized_std), atol=1e-6))"
   ]
  },
  {
   "cell_type": "markdown",
   "id": "c6769deb",
   "metadata": {},
   "source": [
    "## Exercise 6: Broadcasting with Different Data Types\n",
    "\n",
    "* Create a tensor A of shape (3, 4) with float32 values\n",
    "\n",
    "* Create a tensor B of shape (4,) with int32 values\n",
    "\n",
    "* Try to add A and B and observe what happens\n",
    "\n",
    "* Create a tensor C on CPU and a tensor D on GPU (if CUDA is available)\n",
    "\n",
    "* Try to add C and D and observe what happen\n",
    "s\n",
    "\n",
    "* Fix any issues and successfully perform the operations"
   ]
  },
  {
   "cell_type": "code",
   "execution_count": 24,
   "id": "9ae180e0",
   "metadata": {},
   "outputs": [
    {
     "name": "stdout",
     "output_type": "stream",
     "text": [
      "\n",
      "Result of A + B:\n",
      " tensor([[1.3862, 3.3813, 4.8341, 4.7025],\n",
      "        [1.7091, 3.5340, 3.5066, 4.5272],\n",
      "        [2.6161, 2.1287, 4.1223, 5.8834]])\n",
      "Data type of result: torch.float32\n",
      "\n",
      "Observation: PyTorch automatically upcasts the int32 tensor to float32\n"
     ]
    }
   ],
   "source": [
    "A= 2 * torch.rand(size= (3, 4), dtype= torch.float32)\n",
    "B= torch.tensor([1,2,3,4], dtype= torch.int32)\n",
    "try:\n",
    "    result = A + B\n",
    "    print(\"\\nResult of A + B:\\n\", result)\n",
    "    print(\"Data type of result:\", result.dtype)\n",
    "    print(\"\\nObservation: PyTorch automatically upcasts the int32 tensor to float32\")\n",
    "except Exception as e:\n",
    "    print(\"\\nError:\", e)"
   ]
  },
  {
   "cell_type": "code",
   "execution_count": 26,
   "id": "b6a704cc",
   "metadata": {},
   "outputs": [
    {
     "name": "stdout",
     "output_type": "stream",
     "text": [
      "\n",
      "Error: Expected all tensors to be on the same device, but found at least two devices, cuda:0 and cpu!\n"
     ]
    }
   ],
   "source": [
    "C= torch.tensor([1,2,3,4], device= torch.device('cpu'))\n",
    "D= torch.tensor([3,4,5,6], device= torch.device('cuda'))\n",
    "\n",
    "try:\n",
    "    result= C+D\n",
    "    print(\"\\nResult of A + B:\\n\", result)\n",
    "    print(\"Data type of result:\", result.dtype)\n",
    "except Exception as e:\n",
    "    print(\"\\nError:\", e)"
   ]
  },
  {
   "cell_type": "code",
   "execution_count": 31,
   "id": "52138bbb",
   "metadata": {},
   "outputs": [
    {
     "name": "stdout",
     "output_type": "stream",
     "text": [
      "\n",
      "Result of A + B:\n",
      " tensor([ 4,  6,  8, 10], device='cuda:0')\n",
      "Data type of result: torch.int64\n"
     ]
    }
   ],
   "source": [
    "# Fixing the problem\n",
    "device= D.device\n",
    "C= C.to(device)\n",
    "try:\n",
    "    result= C+D\n",
    "    print(\"\\nResult of A + B:\\n\", result)\n",
    "    print(\"Data type of result:\", result.dtype)\n",
    "except Exception as e:\n",
    "    print(\"\\nError:\", e)\n"
   ]
  }
 ],
 "metadata": {
  "kernelspec": {
   "display_name": "dl_env",
   "language": "python",
   "name": "python3"
  },
  "language_info": {
   "codemirror_mode": {
    "name": "ipython",
    "version": 3
   },
   "file_extension": ".py",
   "mimetype": "text/x-python",
   "name": "python",
   "nbconvert_exporter": "python",
   "pygments_lexer": "ipython3",
   "version": "3.12.3"
  }
 },
 "nbformat": 4,
 "nbformat_minor": 5
}
