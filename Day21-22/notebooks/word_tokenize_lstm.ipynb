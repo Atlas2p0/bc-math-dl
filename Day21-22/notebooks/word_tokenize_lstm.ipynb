{
 "cells": [
  {
   "cell_type": "code",
   "execution_count": 1,
   "id": "047e0e3c",
   "metadata": {},
   "outputs": [],
   "source": [
    "import pandas as pd\n",
    "from nltk.tokenize import word_tokenize\n",
    "import os\n",
    "import nltk\n",
    "import re\n",
    "import torch\n",
    "from collections import Counter\n",
    "from sklearn.model_selection import train_test_split\n",
    "from sklearn.metrics import accuracy_score\n",
    "from torch.utils.data import Dataset, DataLoader\n",
    "from torch.nn.utils.rnn import pad_sequence, pack_padded_sequence\n",
    "from torch import nn\n",
    "import matplotlib.pyplot as plt\n",
    "import pickle"
   ]
  },
  {
   "cell_type": "code",
   "execution_count": 2,
   "id": "bf575bf3",
   "metadata": {},
   "outputs": [],
   "source": [
    "# Directories\n",
    "cwd= os.getcwd()\n",
    "data_dir= os.path.join(cwd, \"../data/\")\n",
    "artifacts_dir= os.path.join(cwd, \"../artifacts/\")"
   ]
  },
  {
   "cell_type": "code",
   "execution_count": 3,
   "id": "039c6c42",
   "metadata": {},
   "outputs": [],
   "source": [
    "df= pd.read_csv(data_dir + \"IMDB-Dataset.csv\")"
   ]
  },
  {
   "cell_type": "code",
   "execution_count": 4,
   "id": "5fba7dab",
   "metadata": {},
   "outputs": [
    {
     "data": {
      "application/vnd.microsoft.datawrangler.viewer.v0+json": {
       "columns": [
        {
         "name": "index",
         "rawType": "int64",
         "type": "integer"
        },
        {
         "name": "review",
         "rawType": "object",
         "type": "string"
        },
        {
         "name": "sentiment",
         "rawType": "object",
         "type": "string"
        }
       ],
       "ref": "88ef53fe-6c0a-4944-bd13-9e5c8e8390a9",
       "rows": [
        [
         "0",
         "One of the other reviewers has mentioned that after watching just 1 Oz episode you'll be hooked. They are right, as this is exactly what happened with me.<br /><br />The first thing that struck me about Oz was its brutality and unflinching scenes of violence, which set in right from the word GO. Trust me, this is not a show for the faint hearted or timid. This show pulls no punches with regards to drugs, sex or violence. Its is hardcore, in the classic use of the word.<br /><br />It is called OZ as that is the nickname given to the Oswald Maximum Security State Penitentary. It focuses mainly on Emerald City, an experimental section of the prison where all the cells have glass fronts and face inwards, so privacy is not high on the agenda. Em City is home to many..Aryans, Muslims, gangstas, Latinos, Christians, Italians, Irish and more....so scuffles, death stares, dodgy dealings and shady agreements are never far away.<br /><br />I would say the main appeal of the show is due to the fact that it goes where other shows wouldn't dare. Forget pretty pictures painted for mainstream audiences, forget charm, forget romance...OZ doesn't mess around. The first episode I ever saw struck me as so nasty it was surreal, I couldn't say I was ready for it, but as I watched more, I developed a taste for Oz, and got accustomed to the high levels of graphic violence. Not just violence, but injustice (crooked guards who'll be sold out for a nickel, inmates who'll kill on order and get away with it, well mannered, middle class inmates being turned into prison bitches due to their lack of street skills or prison experience) Watching Oz, you may become comfortable with what is uncomfortable viewing....thats if you can get in touch with your darker side.",
         "positive"
        ],
        [
         "1",
         "A wonderful little production. <br /><br />The filming technique is very unassuming- very old-time-BBC fashion and gives a comforting, and sometimes discomforting, sense of realism to the entire piece. <br /><br />The actors are extremely well chosen- Michael Sheen not only \"has got all the polari\" but he has all the voices down pat too! You can truly see the seamless editing guided by the references to Williams' diary entries, not only is it well worth the watching but it is a terrificly written and performed piece. A masterful production about one of the great master's of comedy and his life. <br /><br />The realism really comes home with the little things: the fantasy of the guard which, rather than use the traditional 'dream' techniques remains solid then disappears. It plays on our knowledge and our senses, particularly with the scenes concerning Orton and Halliwell and the sets (particularly of their flat with Halliwell's murals decorating every surface) are terribly well done.",
         "positive"
        ],
        [
         "2",
         "I thought this was a wonderful way to spend time on a too hot summer weekend, sitting in the air conditioned theater and watching a light-hearted comedy. The plot is simplistic, but the dialogue is witty and the characters are likable (even the well bread suspected serial killer). While some may be disappointed when they realize this is not Match Point 2: Risk Addiction, I thought it was proof that Woody Allen is still fully in control of the style many of us have grown to love.<br /><br />This was the most I'd laughed at one of Woody's comedies in years (dare I say a decade?). While I've never been impressed with Scarlet Johanson, in this she managed to tone down her \"sexy\" image and jumped right into a average, but spirited young woman.<br /><br />This may not be the crown jewel of his career, but it was wittier than \"Devil Wears Prada\" and more interesting than \"Superman\" a great comedy to go see with friends.",
         "positive"
        ],
        [
         "3",
         "Basically there's a family where a little boy (Jake) thinks there's a zombie in his closet & his parents are fighting all the time.<br /><br />This movie is slower than a soap opera... and suddenly, Jake decides to become Rambo and kill the zombie.<br /><br />OK, first of all when you're going to make a film you must Decide if its a thriller or a drama! As a drama the movie is watchable. Parents are divorcing & arguing like in real life. And then we have Jake with his closet which totally ruins all the film! I expected to see a BOOGEYMAN similar movie, and instead i watched a drama with some meaningless thriller spots.<br /><br />3 out of 10 just for the well playing parents & descent dialogs. As for the shots with Jake: just ignore them.",
         "negative"
        ],
        [
         "4",
         "Petter Mattei's \"Love in the Time of Money\" is a visually stunning film to watch. Mr. Mattei offers us a vivid portrait about human relations. This is a movie that seems to be telling us what money, power and success do to people in the different situations we encounter. <br /><br />This being a variation on the Arthur Schnitzler's play about the same theme, the director transfers the action to the present time New York where all these different characters meet and connect. Each one is connected in one way, or another to the next person, but no one seems to know the previous point of contact. Stylishly, the film has a sophisticated luxurious look. We are taken to see how these people live and the world they live in their own habitat.<br /><br />The only thing one gets out of all these souls in the picture is the different stages of loneliness each one inhabits. A big city is not exactly the best place in which human relations find sincere fulfillment, as one discerns is the case with most of the people we encounter.<br /><br />The acting is good under Mr. Mattei's direction. Steve Buscemi, Rosario Dawson, Carol Kane, Michael Imperioli, Adrian Grenier, and the rest of the talented cast, make these characters come alive.<br /><br />We wish Mr. Mattei good luck and await anxiously for his next work.",
         "positive"
        ]
       ],
       "shape": {
        "columns": 2,
        "rows": 5
       }
      },
      "text/html": [
       "<div>\n",
       "<style scoped>\n",
       "    .dataframe tbody tr th:only-of-type {\n",
       "        vertical-align: middle;\n",
       "    }\n",
       "\n",
       "    .dataframe tbody tr th {\n",
       "        vertical-align: top;\n",
       "    }\n",
       "\n",
       "    .dataframe thead th {\n",
       "        text-align: right;\n",
       "    }\n",
       "</style>\n",
       "<table border=\"1\" class=\"dataframe\">\n",
       "  <thead>\n",
       "    <tr style=\"text-align: right;\">\n",
       "      <th></th>\n",
       "      <th>review</th>\n",
       "      <th>sentiment</th>\n",
       "    </tr>\n",
       "  </thead>\n",
       "  <tbody>\n",
       "    <tr>\n",
       "      <th>0</th>\n",
       "      <td>One of the other reviewers has mentioned that ...</td>\n",
       "      <td>positive</td>\n",
       "    </tr>\n",
       "    <tr>\n",
       "      <th>1</th>\n",
       "      <td>A wonderful little production. &lt;br /&gt;&lt;br /&gt;The...</td>\n",
       "      <td>positive</td>\n",
       "    </tr>\n",
       "    <tr>\n",
       "      <th>2</th>\n",
       "      <td>I thought this was a wonderful way to spend ti...</td>\n",
       "      <td>positive</td>\n",
       "    </tr>\n",
       "    <tr>\n",
       "      <th>3</th>\n",
       "      <td>Basically there's a family where a little boy ...</td>\n",
       "      <td>negative</td>\n",
       "    </tr>\n",
       "    <tr>\n",
       "      <th>4</th>\n",
       "      <td>Petter Mattei's \"Love in the Time of Money\" is...</td>\n",
       "      <td>positive</td>\n",
       "    </tr>\n",
       "  </tbody>\n",
       "</table>\n",
       "</div>"
      ],
      "text/plain": [
       "                                              review sentiment\n",
       "0  One of the other reviewers has mentioned that ...  positive\n",
       "1  A wonderful little production. <br /><br />The...  positive\n",
       "2  I thought this was a wonderful way to spend ti...  positive\n",
       "3  Basically there's a family where a little boy ...  negative\n",
       "4  Petter Mattei's \"Love in the Time of Money\" is...  positive"
      ]
     },
     "execution_count": 4,
     "metadata": {},
     "output_type": "execute_result"
    }
   ],
   "source": [
    "df.head(5)"
   ]
  },
  {
   "cell_type": "code",
   "execution_count": 5,
   "id": "b4dc0740",
   "metadata": {},
   "outputs": [],
   "source": [
    "# Text Preprocessing Utils\n",
    "def clean_text(text):\n",
    "\n",
    "    # Patterns to detect and replace\n",
    "    urls= r'https?://\\S+|www\\.\\S+'\n",
    "    html_tags= r'<[^>]+>'\n",
    "    # Punctuation Specific Patterns\n",
    "    punct_repetition= r'(!|\\?|\\.){2,}'\n",
    "    ellipsis= r'\\.{3,}|\\.\\s*\\.\\s*\\.|…'\n",
    "    quotes= r'[“”]'\n",
    "    apostrophes= r\"[‘’]\"\n",
    "    hyphens= r'\\b\\d+-\\d+\\b'\n",
    "\n",
    "\n",
    "    # Clean Text using Regex\n",
    "    cleaned_text= text.lower()\n",
    "    cleaned_text= re.sub(urls, ' ', cleaned_text)\n",
    "    cleaned_text= re.sub(html_tags, ' ', cleaned_text)\n",
    "\n",
    "    cleaned_text= re.sub(punct_repetition, r'\\1', cleaned_text)\n",
    "    cleaned_text= re.sub(ellipsis, '...', cleaned_text)\n",
    "    cleaned_text= re.sub(quotes, r'\"', cleaned_text)\n",
    "    cleaned_text= re.sub(apostrophes, r\"'\", cleaned_text)\n",
    "    cleaned_text= re.sub(hyphens, ' ', cleaned_text)\n",
    "    \n",
    "    # Removing Extra Spaces\n",
    "    cleaned_text= re.sub(r'\\s+', ' ', cleaned_text)\n",
    "    cleaned_text= cleaned_text.strip()\n",
    "\n",
    "    return cleaned_text"
   ]
  },
  {
   "cell_type": "code",
   "execution_count": 6,
   "id": "f2263f53",
   "metadata": {},
   "outputs": [
    {
     "name": "stderr",
     "output_type": "stream",
     "text": [
      "[nltk_data] Downloading package punkt_tab to /home/atlas/nltk_data...\n",
      "[nltk_data]   Package punkt_tab is already up-to-date!\n"
     ]
    },
    {
     "data": {
      "text/plain": [
       "True"
      ]
     },
     "execution_count": 6,
     "metadata": {},
     "output_type": "execute_result"
    }
   ],
   "source": [
    "nltk.download('punkt_tab')"
   ]
  },
  {
   "cell_type": "code",
   "execution_count": 7,
   "id": "85b6eef1",
   "metadata": {},
   "outputs": [
    {
     "data": {
      "application/vnd.microsoft.datawrangler.viewer.v0+json": {
       "columns": [
        {
         "name": "index",
         "rawType": "int64",
         "type": "integer"
        },
        {
         "name": "cleaned_review",
         "rawType": "object",
         "type": "string"
        }
       ],
       "ref": "fbfb487b-1067-45d7-ad89-a99b01204aa4",
       "rows": [
        [
         "0",
         "one of the other reviewers has mentioned that after watching just 1 oz episode you'll be hooked. they are right, as this is exactly what happened with me. the first thing that struck me about oz was its brutality and unflinching scenes of violence, which set in right from the word go. trust me, this is not a show for the faint hearted or timid. this show pulls no punches with regards to drugs, sex or violence. its is hardcore, in the classic use of the word. it is called oz as that is the nickname given to the oswald maximum security state penitentary. it focuses mainly on emerald city, an experimental section of the prison where all the cells have glass fronts and face inwards, so privacy is not high on the agenda. em city is home to many.aryans, muslims, gangstas, latinos, christians, italians, irish and more.so scuffles, death stares, dodgy dealings and shady agreements are never far away. i would say the main appeal of the show is due to the fact that it goes where other shows wouldn't dare. forget pretty pictures painted for mainstream audiences, forget charm, forget romance.oz doesn't mess around. the first episode i ever saw struck me as so nasty it was surreal, i couldn't say i was ready for it, but as i watched more, i developed a taste for oz, and got accustomed to the high levels of graphic violence. not just violence, but injustice (crooked guards who'll be sold out for a nickel, inmates who'll kill on order and get away with it, well mannered, middle class inmates being turned into prison bitches due to their lack of street skills or prison experience) watching oz, you may become comfortable with what is uncomfortable viewing.thats if you can get in touch with your darker side."
        ],
        [
         "1",
         "a wonderful little production. the filming technique is very unassuming- very old-time-bbc fashion and gives a comforting, and sometimes discomforting, sense of realism to the entire piece. the actors are extremely well chosen- michael sheen not only \"has got all the polari\" but he has all the voices down pat too! you can truly see the seamless editing guided by the references to williams' diary entries, not only is it well worth the watching but it is a terrificly written and performed piece. a masterful production about one of the great master's of comedy and his life. the realism really comes home with the little things: the fantasy of the guard which, rather than use the traditional 'dream' techniques remains solid then disappears. it plays on our knowledge and our senses, particularly with the scenes concerning orton and halliwell and the sets (particularly of their flat with halliwell's murals decorating every surface) are terribly well done."
        ],
        [
         "2",
         "i thought this was a wonderful way to spend time on a too hot summer weekend, sitting in the air conditioned theater and watching a light-hearted comedy. the plot is simplistic, but the dialogue is witty and the characters are likable (even the well bread suspected serial killer). while some may be disappointed when they realize this is not match point 2: risk addiction, i thought it was proof that woody allen is still fully in control of the style many of us have grown to love. this was the most i'd laughed at one of woody's comedies in years (dare i say a decade?). while i've never been impressed with scarlet johanson, in this she managed to tone down her \"sexy\" image and jumped right into a average, but spirited young woman. this may not be the crown jewel of his career, but it was wittier than \"devil wears prada\" and more interesting than \"superman\" a great comedy to go see with friends."
        ],
        [
         "3",
         "basically there's a family where a little boy (jake) thinks there's a zombie in his closet & his parents are fighting all the time. this movie is slower than a soap opera. and suddenly, jake decides to become rambo and kill the zombie. ok, first of all when you're going to make a film you must decide if its a thriller or a drama! as a drama the movie is watchable. parents are divorcing & arguing like in real life. and then we have jake with his closet which totally ruins all the film! i expected to see a boogeyman similar movie, and instead i watched a drama with some meaningless thriller spots. 3 out of 10 just for the well playing parents & descent dialogs. as for the shots with jake: just ignore them."
        ],
        [
         "4",
         "petter mattei's \"love in the time of money\" is a visually stunning film to watch. mr. mattei offers us a vivid portrait about human relations. this is a movie that seems to be telling us what money, power and success do to people in the different situations we encounter. this being a variation on the arthur schnitzler's play about the same theme, the director transfers the action to the present time new york where all these different characters meet and connect. each one is connected in one way, or another to the next person, but no one seems to know the previous point of contact. stylishly, the film has a sophisticated luxurious look. we are taken to see how these people live and the world they live in their own habitat. the only thing one gets out of all these souls in the picture is the different stages of loneliness each one inhabits. a big city is not exactly the best place in which human relations find sincere fulfillment, as one discerns is the case with most of the people we encounter. the acting is good under mr. mattei's direction. steve buscemi, rosario dawson, carol kane, michael imperioli, adrian grenier, and the rest of the talented cast, make these characters come alive. we wish mr. mattei good luck and await anxiously for his next work."
        ]
       ],
       "shape": {
        "columns": 1,
        "rows": 5
       }
      },
      "text/plain": [
       "0    one of the other reviewers has mentioned that ...\n",
       "1    a wonderful little production. the filming tec...\n",
       "2    i thought this was a wonderful way to spend ti...\n",
       "3    basically there's a family where a little boy ...\n",
       "4    petter mattei's \"love in the time of money\" is...\n",
       "Name: cleaned_review, dtype: object"
      ]
     },
     "execution_count": 7,
     "metadata": {},
     "output_type": "execute_result"
    }
   ],
   "source": [
    "df['cleaned_review']= df['review'].apply(lambda x: clean_text(x))\n",
    "df['cleaned_review'].head(5)"
   ]
  },
  {
   "cell_type": "code",
   "execution_count": 8,
   "id": "82c6e758",
   "metadata": {},
   "outputs": [
    {
     "data": {
      "application/vnd.microsoft.datawrangler.viewer.v0+json": {
       "columns": [
        {
         "name": "index",
         "rawType": "int64",
         "type": "integer"
        },
        {
         "name": "word_tokenized_review",
         "rawType": "object",
         "type": "unknown"
        }
       ],
       "ref": "a0b27f9f-3929-4a3c-87ee-599ec656c860",
       "rows": [
        [
         "0",
         "['one', 'of', 'the', 'other', 'reviewers', 'has', 'mentioned', 'that', 'after', 'watching', 'just', '1', 'oz', 'episode', 'you', \"'ll\", 'be', 'hooked', '.', 'they', 'are', 'right', ',', 'as', 'this', 'is', 'exactly', 'what', 'happened', 'with', 'me', '.', 'the', 'first', 'thing', 'that', 'struck', 'me', 'about', 'oz', 'was', 'its', 'brutality', 'and', 'unflinching', 'scenes', 'of', 'violence', ',', 'which', 'set', 'in', 'right', 'from', 'the', 'word', 'go', '.', 'trust', 'me', ',', 'this', 'is', 'not', 'a', 'show', 'for', 'the', 'faint', 'hearted', 'or', 'timid', '.', 'this', 'show', 'pulls', 'no', 'punches', 'with', 'regards', 'to', 'drugs', ',', 'sex', 'or', 'violence', '.', 'its', 'is', 'hardcore', ',', 'in', 'the', 'classic', 'use', 'of', 'the', 'word', '.', 'it', 'is', 'called', 'oz', 'as', 'that', 'is', 'the', 'nickname', 'given', 'to', 'the', 'oswald', 'maximum', 'security', 'state', 'penitentary', '.', 'it', 'focuses', 'mainly', 'on', 'emerald', 'city', ',', 'an', 'experimental', 'section', 'of', 'the', 'prison', 'where', 'all', 'the', 'cells', 'have', 'glass', 'fronts', 'and', 'face', 'inwards', ',', 'so', 'privacy', 'is', 'not', 'high', 'on', 'the', 'agenda', '.', 'em', 'city', 'is', 'home', 'to', 'many.aryans', ',', 'muslims', ',', 'gangstas', ',', 'latinos', ',', 'christians', ',', 'italians', ',', 'irish', 'and', 'more.so', 'scuffles', ',', 'death', 'stares', ',', 'dodgy', 'dealings', 'and', 'shady', 'agreements', 'are', 'never', 'far', 'away', '.', 'i', 'would', 'say', 'the', 'main', 'appeal', 'of', 'the', 'show', 'is', 'due', 'to', 'the', 'fact', 'that', 'it', 'goes', 'where', 'other', 'shows', 'would', \"n't\", 'dare', '.', 'forget', 'pretty', 'pictures', 'painted', 'for', 'mainstream', 'audiences', ',', 'forget', 'charm', ',', 'forget', 'romance.oz', 'does', \"n't\", 'mess', 'around', '.', 'the', 'first', 'episode', 'i', 'ever', 'saw', 'struck', 'me', 'as', 'so', 'nasty', 'it', 'was', 'surreal', ',', 'i', 'could', \"n't\", 'say', 'i', 'was', 'ready', 'for', 'it', ',', 'but', 'as', 'i', 'watched', 'more', ',', 'i', 'developed', 'a', 'taste', 'for', 'oz', ',', 'and', 'got', 'accustomed', 'to', 'the', 'high', 'levels', 'of', 'graphic', 'violence', '.', 'not', 'just', 'violence', ',', 'but', 'injustice', '(', 'crooked', 'guards', 'who', \"'ll\", 'be', 'sold', 'out', 'for', 'a', 'nickel', ',', 'inmates', 'who', \"'ll\", 'kill', 'on', 'order', 'and', 'get', 'away', 'with', 'it', ',', 'well', 'mannered', ',', 'middle', 'class', 'inmates', 'being', 'turned', 'into', 'prison', 'bitches', 'due', 'to', 'their', 'lack', 'of', 'street', 'skills', 'or', 'prison', 'experience', ')', 'watching', 'oz', ',', 'you', 'may', 'become', 'comfortable', 'with', 'what', 'is', 'uncomfortable', 'viewing.thats', 'if', 'you', 'can', 'get', 'in', 'touch', 'with', 'your', 'darker', 'side', '.']"
        ],
        [
         "1",
         "['a', 'wonderful', 'little', 'production', '.', 'the', 'filming', 'technique', 'is', 'very', 'unassuming-', 'very', 'old-time-bbc', 'fashion', 'and', 'gives', 'a', 'comforting', ',', 'and', 'sometimes', 'discomforting', ',', 'sense', 'of', 'realism', 'to', 'the', 'entire', 'piece', '.', 'the', 'actors', 'are', 'extremely', 'well', 'chosen-', 'michael', 'sheen', 'not', 'only', '``', 'has', 'got', 'all', 'the', 'polari', \"''\", 'but', 'he', 'has', 'all', 'the', 'voices', 'down', 'pat', 'too', '!', 'you', 'can', 'truly', 'see', 'the', 'seamless', 'editing', 'guided', 'by', 'the', 'references', 'to', 'williams', \"'\", 'diary', 'entries', ',', 'not', 'only', 'is', 'it', 'well', 'worth', 'the', 'watching', 'but', 'it', 'is', 'a', 'terrificly', 'written', 'and', 'performed', 'piece', '.', 'a', 'masterful', 'production', 'about', 'one', 'of', 'the', 'great', 'master', \"'s\", 'of', 'comedy', 'and', 'his', 'life', '.', 'the', 'realism', 'really', 'comes', 'home', 'with', 'the', 'little', 'things', ':', 'the', 'fantasy', 'of', 'the', 'guard', 'which', ',', 'rather', 'than', 'use', 'the', 'traditional', \"'dream\", \"'\", 'techniques', 'remains', 'solid', 'then', 'disappears', '.', 'it', 'plays', 'on', 'our', 'knowledge', 'and', 'our', 'senses', ',', 'particularly', 'with', 'the', 'scenes', 'concerning', 'orton', 'and', 'halliwell', 'and', 'the', 'sets', '(', 'particularly', 'of', 'their', 'flat', 'with', 'halliwell', \"'s\", 'murals', 'decorating', 'every', 'surface', ')', 'are', 'terribly', 'well', 'done', '.']"
        ],
        [
         "2",
         "['i', 'thought', 'this', 'was', 'a', 'wonderful', 'way', 'to', 'spend', 'time', 'on', 'a', 'too', 'hot', 'summer', 'weekend', ',', 'sitting', 'in', 'the', 'air', 'conditioned', 'theater', 'and', 'watching', 'a', 'light-hearted', 'comedy', '.', 'the', 'plot', 'is', 'simplistic', ',', 'but', 'the', 'dialogue', 'is', 'witty', 'and', 'the', 'characters', 'are', 'likable', '(', 'even', 'the', 'well', 'bread', 'suspected', 'serial', 'killer', ')', '.', 'while', 'some', 'may', 'be', 'disappointed', 'when', 'they', 'realize', 'this', 'is', 'not', 'match', 'point', '2', ':', 'risk', 'addiction', ',', 'i', 'thought', 'it', 'was', 'proof', 'that', 'woody', 'allen', 'is', 'still', 'fully', 'in', 'control', 'of', 'the', 'style', 'many', 'of', 'us', 'have', 'grown', 'to', 'love', '.', 'this', 'was', 'the', 'most', 'i', \"'d\", 'laughed', 'at', 'one', 'of', 'woody', \"'s\", 'comedies', 'in', 'years', '(', 'dare', 'i', 'say', 'a', 'decade', '?', ')', '.', 'while', 'i', \"'ve\", 'never', 'been', 'impressed', 'with', 'scarlet', 'johanson', ',', 'in', 'this', 'she', 'managed', 'to', 'tone', 'down', 'her', '``', 'sexy', \"''\", 'image', 'and', 'jumped', 'right', 'into', 'a', 'average', ',', 'but', 'spirited', 'young', 'woman', '.', 'this', 'may', 'not', 'be', 'the', 'crown', 'jewel', 'of', 'his', 'career', ',', 'but', 'it', 'was', 'wittier', 'than', '``', 'devil', 'wears', 'prada', \"''\", 'and', 'more', 'interesting', 'than', '``', 'superman', \"''\", 'a', 'great', 'comedy', 'to', 'go', 'see', 'with', 'friends', '.']"
        ],
        [
         "3",
         "['basically', 'there', \"'s\", 'a', 'family', 'where', 'a', 'little', 'boy', '(', 'jake', ')', 'thinks', 'there', \"'s\", 'a', 'zombie', 'in', 'his', 'closet', '&', 'his', 'parents', 'are', 'fighting', 'all', 'the', 'time', '.', 'this', 'movie', 'is', 'slower', 'than', 'a', 'soap', 'opera', '.', 'and', 'suddenly', ',', 'jake', 'decides', 'to', 'become', 'rambo', 'and', 'kill', 'the', 'zombie', '.', 'ok', ',', 'first', 'of', 'all', 'when', 'you', \"'re\", 'going', 'to', 'make', 'a', 'film', 'you', 'must', 'decide', 'if', 'its', 'a', 'thriller', 'or', 'a', 'drama', '!', 'as', 'a', 'drama', 'the', 'movie', 'is', 'watchable', '.', 'parents', 'are', 'divorcing', '&', 'arguing', 'like', 'in', 'real', 'life', '.', 'and', 'then', 'we', 'have', 'jake', 'with', 'his', 'closet', 'which', 'totally', 'ruins', 'all', 'the', 'film', '!', 'i', 'expected', 'to', 'see', 'a', 'boogeyman', 'similar', 'movie', ',', 'and', 'instead', 'i', 'watched', 'a', 'drama', 'with', 'some', 'meaningless', 'thriller', 'spots', '.', '3', 'out', 'of', '10', 'just', 'for', 'the', 'well', 'playing', 'parents', '&', 'descent', 'dialogs', '.', 'as', 'for', 'the', 'shots', 'with', 'jake', ':', 'just', 'ignore', 'them', '.']"
        ],
        [
         "4",
         "['petter', 'mattei', \"'s\", '``', 'love', 'in', 'the', 'time', 'of', 'money', \"''\", 'is', 'a', 'visually', 'stunning', 'film', 'to', 'watch', '.', 'mr.', 'mattei', 'offers', 'us', 'a', 'vivid', 'portrait', 'about', 'human', 'relations', '.', 'this', 'is', 'a', 'movie', 'that', 'seems', 'to', 'be', 'telling', 'us', 'what', 'money', ',', 'power', 'and', 'success', 'do', 'to', 'people', 'in', 'the', 'different', 'situations', 'we', 'encounter', '.', 'this', 'being', 'a', 'variation', 'on', 'the', 'arthur', 'schnitzler', \"'s\", 'play', 'about', 'the', 'same', 'theme', ',', 'the', 'director', 'transfers', 'the', 'action', 'to', 'the', 'present', 'time', 'new', 'york', 'where', 'all', 'these', 'different', 'characters', 'meet', 'and', 'connect', '.', 'each', 'one', 'is', 'connected', 'in', 'one', 'way', ',', 'or', 'another', 'to', 'the', 'next', 'person', ',', 'but', 'no', 'one', 'seems', 'to', 'know', 'the', 'previous', 'point', 'of', 'contact', '.', 'stylishly', ',', 'the', 'film', 'has', 'a', 'sophisticated', 'luxurious', 'look', '.', 'we', 'are', 'taken', 'to', 'see', 'how', 'these', 'people', 'live', 'and', 'the', 'world', 'they', 'live', 'in', 'their', 'own', 'habitat', '.', 'the', 'only', 'thing', 'one', 'gets', 'out', 'of', 'all', 'these', 'souls', 'in', 'the', 'picture', 'is', 'the', 'different', 'stages', 'of', 'loneliness', 'each', 'one', 'inhabits', '.', 'a', 'big', 'city', 'is', 'not', 'exactly', 'the', 'best', 'place', 'in', 'which', 'human', 'relations', 'find', 'sincere', 'fulfillment', ',', 'as', 'one', 'discerns', 'is', 'the', 'case', 'with', 'most', 'of', 'the', 'people', 'we', 'encounter', '.', 'the', 'acting', 'is', 'good', 'under', 'mr.', 'mattei', \"'s\", 'direction', '.', 'steve', 'buscemi', ',', 'rosario', 'dawson', ',', 'carol', 'kane', ',', 'michael', 'imperioli', ',', 'adrian', 'grenier', ',', 'and', 'the', 'rest', 'of', 'the', 'talented', 'cast', ',', 'make', 'these', 'characters', 'come', 'alive', '.', 'we', 'wish', 'mr.', 'mattei', 'good', 'luck', 'and', 'await', 'anxiously', 'for', 'his', 'next', 'work', '.']"
        ]
       ],
       "shape": {
        "columns": 1,
        "rows": 5
       }
      },
      "text/plain": [
       "0    [one, of, the, other, reviewers, has, mentione...\n",
       "1    [a, wonderful, little, production, ., the, fil...\n",
       "2    [i, thought, this, was, a, wonderful, way, to,...\n",
       "3    [basically, there, 's, a, family, where, a, li...\n",
       "4    [petter, mattei, 's, ``, love, in, the, time, ...\n",
       "Name: word_tokenized_review, dtype: object"
      ]
     },
     "execution_count": 8,
     "metadata": {},
     "output_type": "execute_result"
    }
   ],
   "source": [
    "df['word_tokenized_review']= df['cleaned_review'].apply(lambda x: word_tokenize(x))\n",
    "df['word_tokenized_review'].head(5)"
   ]
  },
  {
   "cell_type": "code",
   "execution_count": 9,
   "id": "74eb8f68",
   "metadata": {},
   "outputs": [],
   "source": [
    "def build_vocab(tokenized_texts, min_freq= 1, special_tokens= None):\n",
    "\n",
    "    if special_tokens is None:\n",
    "        special_tokens= ['<PAD>', '<UNK>']\n",
    "    \n",
    "    word_freq= Counter()\n",
    "    for text in tokenized_texts:\n",
    "        word_freq.update(text)\n",
    "    \n",
    "    print(f\"Total words in corpus: {sum(word_freq.values())}\")\n",
    "    print(f\"Unique words before filtering: {len(word_freq)}\")\n",
    "\n",
    "    # First adding special tokens\n",
    "    vocab= {}\n",
    "    for idx, token in enumerate(special_tokens):\n",
    "        vocab[token]= idx\n",
    "    \n",
    "    # Add all words that meet min_freq requirement\n",
    "    current_idx= len(special_tokens)\n",
    "    for word, freq in word_freq.most_common():\n",
    "        if freq >= min_freq:\n",
    "            vocab[word]= current_idx\n",
    "            current_idx+= 1\n",
    "        else:\n",
    "            pass\n",
    "\n",
    "    # Reverse vocab for decoding\n",
    "    reverse_vocab= {idx: word for word, idx in vocab.items()}\n",
    "\n",
    "    print(f\"Final vocab size (including special tokens): {len(vocab)}\")\n",
    "    return vocab, reverse_vocab"
   ]
  },
  {
   "cell_type": "code",
   "execution_count": 10,
   "id": "4ca9fc29",
   "metadata": {},
   "outputs": [],
   "source": [
    "X_train, X_test, Y_train, Y_test= train_test_split(df['word_tokenized_review'], df['sentiment'], test_size= 0.1, random_state= 42, stratify= df['sentiment'])"
   ]
  },
  {
   "cell_type": "code",
   "execution_count": 11,
   "id": "8d9d4550",
   "metadata": {},
   "outputs": [
    {
     "name": "stdout",
     "output_type": "stream",
     "text": [
      "Total words in corpus: 11871902\n",
      "Unique words before filtering: 149904\n",
      "Final vocab size (including special tokens): 149906\n"
     ]
    }
   ],
   "source": [
    "vocab_dict, reverse_vocab_dict= build_vocab(X_train)"
   ]
  },
  {
   "cell_type": "code",
   "execution_count": 12,
   "id": "e07702e7",
   "metadata": {},
   "outputs": [],
   "source": [
    "def encode_text(tokens, vocab):\n",
    "    unk_id= vocab.get('<UNK>', 1)\n",
    "    return [vocab.get(word, unk_id) for word in tokens]\n",
    "\n",
    "def decode_text(ids, reverse_vocab):\n",
    "    tokens= [reverse_vocab.get(i, '<ERR>') for i in ids]\n",
    "    return ' '.join(tokens)\n"
   ]
  },
  {
   "cell_type": "code",
   "execution_count": 13,
   "id": "76bb5c9e",
   "metadata": {},
   "outputs": [
    {
     "name": "stdout",
     "output_type": "stream",
     "text": [
      "\n",
      "Test Encoding:\n",
      "Original: ['this', 'is', 'a', 'great', 'movie', 'unknownword']\n",
      "Encoded:  [13, 9, 6, 97, 20, 1]\n",
      "Decoded:  'this is a great movie <UNK>'\n"
     ]
    }
   ],
   "source": [
    "test_tokens = ['this', 'is', 'a', 'great', 'movie', 'unknownword']\n",
    "encoded = encode_text(test_tokens, vocab_dict)\n",
    "decoded = decode_text(encoded, reverse_vocab_dict)\n",
    "print(f\"\\nTest Encoding:\")\n",
    "print(f\"Original: {test_tokens}\")\n",
    "print(f\"Encoded:  {encoded}\")\n",
    "print(f\"Decoded:  '{decoded}'\")"
   ]
  },
  {
   "cell_type": "code",
   "execution_count": 14,
   "id": "0fb15089",
   "metadata": {},
   "outputs": [],
   "source": [
    "df['encoded_texts']= df['word_tokenized_review'].apply(lambda x: encode_text(x, vocab_dict))\n",
    "df.to_csv(data_dir+\"preprocessed_imdb_dataset.csv\")\n"
   ]
  },
  {
   "cell_type": "code",
   "execution_count": 15,
   "id": "c45afad8",
   "metadata": {},
   "outputs": [],
   "source": [
    "class WordTokensDataset(Dataset):\n",
    "    def __init__(self, encoded_texts, labels):\n",
    "        self.encoded_texts= encoded_texts\n",
    "        self.labels= labels\n",
    "\n",
    "    def __len__(self):\n",
    "        return len(self.encoded_texts)\n",
    "    \n",
    "    def __getitem__(self, idx):\n",
    "        encoded_text= self.encoded_texts.iloc[idx]\n",
    "        sentiment= 1 if self.labels.iloc[idx] == 'positive' else  0\n",
    "        return  {\n",
    "            'input_ids': torch.tensor(encoded_text, dtype= torch.long),\n",
    "            'label': torch.tensor(sentiment, dtype= torch.long)\n",
    "        }\n",
    "        "
   ]
  },
  {
   "cell_type": "code",
   "execution_count": 16,
   "id": "7bb09d9b",
   "metadata": {},
   "outputs": [],
   "source": [
    "X_train, X_test, Y_train, Y_test= train_test_split(df['encoded_texts'], df['sentiment'], test_size= 0.1, random_state= 42, stratify= df['sentiment'])"
   ]
  },
  {
   "cell_type": "code",
   "execution_count": 17,
   "id": "55444b83",
   "metadata": {},
   "outputs": [],
   "source": [
    "train_dataset= WordTokensDataset(X_train, Y_train)\n",
    "val_dataset= WordTokensDataset(X_test, Y_test)"
   ]
  },
  {
   "cell_type": "code",
   "execution_count": 18,
   "id": "6e9e77c5",
   "metadata": {},
   "outputs": [],
   "source": [
    "def custom_collate_fn(batch):\n",
    "    # Separating input_ids and labels\n",
    "    input_ids= [item['input_ids'] for item in batch]\n",
    "    labels= [item['label'] for item in batch]\n",
    "    \n",
    "    # Padding sequences to the longest sequence in the batch\n",
    "    padded_input_ids= pad_sequence(input_ids, batch_first= True, padding_value= 0)\n",
    "\n",
    "    # Attention mask to ignore padding\n",
    "    attention_mask= (padded_input_ids != 0).long()\n",
    "    # Converting labels to tensor\n",
    "    labels= torch.stack(labels)\n",
    "\n",
    "    return {\n",
    "        'input_ids': padded_input_ids,\n",
    "        'attention_mask': attention_mask,\n",
    "        'labels': labels\n",
    "    }"
   ]
  },
  {
   "cell_type": "code",
   "execution_count": 19,
   "id": "536288df",
   "metadata": {},
   "outputs": [
    {
     "data": {
      "text/plain": [
       "(tensor([  456,    26,     2,   646,    40,   488, 36819,     4,     2,  4652,\n",
       "             7, 16059,     9,    52,     2,   200,   491,     7,     6,  3263,\n",
       "          2070,    42,  2280,    33,   246,  1643,  1430, 13078,   199,    18,\n",
       "           124,   353,     3,     2,   342,     9,  5569,     4,     5,   200,\n",
       "           540, 54349,    24,  2935,  3106,    23,     9,    37,     6, 18180,\n",
       "             3,   337,  3247,     8,    33,   343,    15,  4005,     4,   540,\n",
       "          2268,     8,   430,     6, 36820,     3,  2057,  2077,    18,  1337,\n",
       "          1004,     8,   998,   318,  3535,  2701,   611,     4,     2,   230,\n",
       "            22,   767,    45,     2,   176,    88,   633,   891,   786, 24034,\n",
       "            16,   168,    53,  6043,  2127,    88,     9,  2753,  3091,  2701,\n",
       "          2961,    40, 40713,   300,  1375,     7,    92,  2701,   119,    21,\n",
       "         19902,    10,    18,   422,    45, 33854, 40714,     4, 14684,  2756,\n",
       "             5,  1960,  6540,     3,    45,    44,   121,     7,     2, 71145,\n",
       "         36821,    37,  7696,    13,   342,    10,   437,    45,    13,    16,\n",
       "             6, 71146, 71147,  6689,  1118,     8,   348,     2,   176,  5931,\n",
       "            57,  2701,  2961,   776,    88,    10,  1159,    11,    14,  1171,\n",
       "             5,    17,     6,    22,    11,   104,   210,   215,     3,     0,\n",
       "             0,     0,     0,     0,     0,     0,     0,     0,     0,     0,\n",
       "             0,     0,     0,     0,     0,     0,     0,     0,     0,     0,\n",
       "             0,     0,     0,     0,     0,     0,     0,     0,     0,     0,\n",
       "             0,     0,     0,     0,     0,     0,     0,     0,     0,     0,\n",
       "             0,     0,     0,     0,     0,     0,     0,     0,     0,     0,\n",
       "             0,     0,     0,     0,     0,     0,     0,     0,     0,     0,\n",
       "             0,     0,     0,     0,     0,     0,     0,     0,     0,     0,\n",
       "             0,     0,     0,     0,     0,     0,     0,     0,     0,     0,\n",
       "             0,     0,     0,     0,     0,     0,     0,     0,     0,     0,\n",
       "             0,     0,     0,     0,     0,     0,     0,     0,     0,     0,\n",
       "             0,     0,     0,     0,     0,     0,     0,     0,     0,     0,\n",
       "             0,     0,     0,     0,     0,     0,     0,     0,     0,     0,\n",
       "             0,     0,     0,     0,     0,     0,     0,     0,     0,     0,\n",
       "             0,     0,     0,     0,     0,     0,     0,     0,     0,     0,\n",
       "             0,     0,     0,     0,     0,     0,     0,     0,     0,     0,\n",
       "             0,     0,     0,     0,     0,     0,     0,     0,     0,     0,\n",
       "             0,     0,     0,     0,     0,     0,     0,     0,     0,     0,\n",
       "             0,     0,     0,     0,     0,     0,     0,     0,     0,     0,\n",
       "             0,     0,     0,     0,     0,     0,     0,     0,     0,     0,\n",
       "             0,     0,     0,     0,     0,     0,     0,     0,     0,     0,\n",
       "             0,     0,     0,     0,     0,     0,     0,     0,     0,     0,\n",
       "             0,     0,     0,     0,     0,     0,     0,     0,     0,     0,\n",
       "             0,     0,     0,     0,     0,     0,     0,     0,     0,     0,\n",
       "             0,     0,     0,     0,     0,     0,     0,     0,     0,     0,\n",
       "             0,     0,     0,     0,     0,     0,     0,     0,     0,     0,\n",
       "             0,     0,     0,     0,     0,     0,     0,     0,     0,     0,\n",
       "             0,     0,     0,     0,     0,     0,     0,     0,     0,     0,\n",
       "             0,     0,     0,     0,     0,     0,     0,     0,     0,     0,\n",
       "             0,     0,     0,     0,     0,     0,     0,     0,     0,     0,\n",
       "             0,     0,     0,     0,     0,     0,     0,     0,     0,     0,\n",
       "             0,     0,     0,     0,     0,     0,     0,     0,     0,     0,\n",
       "             0,     0,     0,     0,     0,     0,     0,     0,     0,     0,\n",
       "             0,     0,     0,     0,     0,     0,     0,     0,     0,     0,\n",
       "             0,     0,     0,     0,     0,     0,     0,     0,     0,     0,\n",
       "             0,     0,     0,     0,     0,     0,     0,     0,     0,     0,\n",
       "             0,     0,     0,     0,     0,     0,     0,     0,     0,     0,\n",
       "             0,     0,     0,     0,     0,     0,     0,     0,     0,     0,\n",
       "             0,     0,     0,     0,     0,     0,     0,     0,     0,     0,\n",
       "             0,     0,     0,     0,     0,     0,     0,     0,     0,     0,\n",
       "             0,     0,     0,     0,     0,     0,     0,     0,     0,     0,\n",
       "             0,     0,     0,     0,     0,     0,     0,     0,     0,     0,\n",
       "             0,     0,     0,     0,     0,     0,     0,     0,     0,     0,\n",
       "             0,     0,     0,     0,     0,     0,     0,     0,     0,     0,\n",
       "             0,     0,     0,     0,     0,     0,     0,     0,     0,     0,\n",
       "             0,     0,     0,     0,     0,     0,     0,     0,     0,     0,\n",
       "             0,     0,     0,     0,     0,     0,     0,     0,     0,     0,\n",
       "             0,     0,     0,     0,     0,     0,     0,     0,     0,     0,\n",
       "             0,     0,     0,     0,     0,     0,     0,     0,     0,     0,\n",
       "             0,     0,     0,     0,     0,     0,     0,     0,     0,     0,\n",
       "             0,     0,     0,     0,     0,     0,     0,     0,     0,     0,\n",
       "             0,     0,     0,     0,     0,     0,     0,     0,     0,     0,\n",
       "             0,     0,     0,     0,     0,     0,     0,     0,     0,     0,\n",
       "             0,     0,     0,     0,     0,     0,     0,     0,     0,     0,\n",
       "             0,     0,     0,     0,     0,     0,     0,     0,     0,     0,\n",
       "             0,     0,     0,     0,     0,     0,     0,     0,     0,     0,\n",
       "             0,     0,     0,     0,     0,     0,     0,     0,     0,     0,\n",
       "             0,     0,     0,     0,     0,     0,     0,     0,     0,     0,\n",
       "             0,     0,     0,     0,     0,     0,     0,     0,     0,     0,\n",
       "             0,     0,     0,     0,     0,     0,     0,     0,     0,     0,\n",
       "             0,     0,     0,     0,     0,     0,     0,     0,     0,     0,\n",
       "             0,     0,     0,     0,     0,     0,     0,     0,     0,     0,\n",
       "             0,     0,     0,     0,     0,     0,     0,     0,     0,     0,\n",
       "             0,     0,     0,     0,     0,     0,     0,     0,     0,     0,\n",
       "             0,     0,     0,     0,     0,     0,     0,     0,     0,     0,\n",
       "             0,     0,     0,     0,     0,     0,     0,     0,     0,     0,\n",
       "             0,     0,     0,     0,     0,     0]),\n",
       " torch.Size([32, 826]))"
      ]
     },
     "execution_count": 19,
     "metadata": {},
     "output_type": "execute_result"
    }
   ],
   "source": [
    "batch_size= 32\n",
    "train_loader= DataLoader(train_dataset,\n",
    "                         batch_size= batch_size,\n",
    "                         shuffle= False,\n",
    "                         collate_fn= custom_collate_fn)\n",
    "val_loader= DataLoader(val_dataset,\n",
    "                       batch_size= batch_size,\n",
    "                       shuffle= False,\n",
    "                       collate_fn= custom_collate_fn)\n",
    "batch= next(iter(train_loader))\n",
    "batch['input_ids'][1], batch['input_ids'].shape"
   ]
  },
  {
   "cell_type": "code",
   "execution_count": 20,
   "id": "a5ccc1df",
   "metadata": {},
   "outputs": [],
   "source": [
    "class LSTM(nn.Module):\n",
    "    def __init__(self, vocab_size, embedding_dim, hidden_dim, output_dim, n_layers, bidirectional, dropout):\n",
    "        super().__init__()\n",
    "\n",
    "        self.embedding= nn.Embedding(vocab_size, embedding_dim)\n",
    "        self.lstm= nn.LSTM(embedding_dim,\n",
    "                           hidden_dim,\n",
    "                           num_layers= n_layers,\n",
    "                           bidirectional= bidirectional,\n",
    "                           dropout= dropout,\n",
    "                           batch_first= True)\n",
    "        self.fc= nn.Linear(hidden_dim * 2 if bidirectional else hidden_dim, output_dim)\n",
    "\n",
    "        self.dropout= nn.Dropout(dropout)\n",
    "        self._init_weights()\n",
    "\n",
    "    def _init_weights(self):\n",
    "        for name, param in self.named_parameters():\n",
    "            if 'weight' in name:\n",
    "                if 'lstm.weight' in name and len(param.size()) >= 2:\n",
    "                    nn.init.orthogonal_(param)\n",
    "                elif 'embedding.weight' in name:\n",
    "                    nn.init.uniform_(param, -0.1, 0.1)\n",
    "                elif 'fc.weight' in name:\n",
    "                    nn.init.xavier_uniform_(param)\n",
    "            elif 'bias' in name:\n",
    "                nn.init.zeros_(param)\n",
    "    \n",
    "    def forward(self, text, text_lengths):\n",
    "        embedded= self.dropout(self.embedding(text))\n",
    "\n",
    "        packed_embedded= pack_padded_sequence(embedded, text_lengths.cpu(), batch_first= True, enforce_sorted= False)\n",
    "\n",
    "        packed_output, (hidden, cell)= self.lstm(packed_embedded)\n",
    "\n",
    "        if self.lstm.bidirectional:\n",
    "            hidden= self.dropout(torch.cat((hidden[-2, :, :], hidden[-1, :, :]), dim= 1))\n",
    "        else:\n",
    "            hidden= self.dropout(hidden[-1, :, :])\n",
    "        \n",
    "        output= self.fc(hidden)\n",
    "        \n",
    "        return output"
   ]
  },
  {
   "cell_type": "code",
   "execution_count": 21,
   "id": "d819e73d",
   "metadata": {},
   "outputs": [],
   "source": [
    "def train_model(model,\n",
    "                train_loader,\n",
    "                val_loader,\n",
    "                optimizer,\n",
    "                scheduler,\n",
    "                criterion,\n",
    "                device,\n",
    "                n_epochs= 10):\n",
    "    model.to(device)\n",
    "    train_losses= []\n",
    "    train_accuracies= []\n",
    "    val_losses= []\n",
    "    val_accuracies= []\n",
    "\n",
    "    # Early Stopping\n",
    "    best_val_accuracy= 0\n",
    "    min_delta= 0.2\n",
    "    patience= 3\n",
    "    epochs_with_no_improvement= 0\n",
    "\n",
    "    for epoch in range(1, n_epochs + 1):\n",
    "        model.train()\n",
    "        all_predictions= []\n",
    "        all_labels= []\n",
    "        train_loss= 0\n",
    "        for batch in train_loader:\n",
    "            input_ids= batch['input_ids'].to(device)\n",
    "            attention_mask= batch['attention_mask'].to(device)\n",
    "            labels= batch['labels'].to(device)\n",
    "\n",
    "            text_lengths= attention_mask.sum(dim=1)\n",
    "\n",
    "            optimizer.zero_grad()\n",
    "\n",
    "            predictions= model(input_ids, text_lengths).squeeze(1)\n",
    "\n",
    "            loss= criterion(predictions, labels.float())\n",
    "\n",
    "            loss.backward()\n",
    "            optimizer.step()\n",
    "            \n",
    "            train_loss+= loss.item()\n",
    "            binary_preds= torch.round(torch.sigmoid(predictions))\n",
    "            binary_preds= binary_preds.detach()\n",
    "            all_predictions.extend(binary_preds.cpu().numpy())\n",
    "            all_labels.extend(labels.cpu().numpy())\n",
    "            \n",
    "        avg_train_loss= train_loss / len(train_loader)\n",
    "        train_losses.append(avg_train_loss)\n",
    "\n",
    "        accuracy= accuracy_score(all_labels, all_predictions)\n",
    "        train_accuracies.append(accuracy)\n",
    "\n",
    "\n",
    "        model.eval()\n",
    "        val_loss= 0\n",
    "        all_predictions= []\n",
    "        all_labels= []\n",
    "\n",
    "        with torch.no_grad():\n",
    "            for batch in val_loader:\n",
    "                input_ids= batch['input_ids'].to(device)\n",
    "                attention_mask= batch['attention_mask'].to(device)\n",
    "                labels= batch['labels'].to(device)\n",
    "\n",
    "                text_lengths= attention_mask.sum(dim= 1)\n",
    "\n",
    "                predictions= model(input_ids, text_lengths).squeeze(1)\n",
    "                loss= criterion(predictions, labels.float())\n",
    "                val_loss+= loss.item()\n",
    "\n",
    "                binary_preds= torch.round(torch.sigmoid(predictions))\n",
    "                binary_preds= binary_preds.detach()\n",
    "                all_predictions.extend(binary_preds.cpu().numpy())\n",
    "                all_labels.extend(labels.cpu().numpy())\n",
    "\n",
    "            avg_val_loss= val_loss / len(val_loader)\n",
    "            val_losses.append(avg_val_loss)\n",
    "\n",
    "            accuracy= accuracy_score(all_labels, all_predictions)\n",
    "            val_accuracies.append(accuracy)\n",
    "        \n",
    "        scheduler.step(avg_val_loss)\n",
    "        \n",
    "        epochs= [e for e in range(1, epoch+1)]\n",
    "        print(f\"Epoch: {epoch}\")\n",
    "        print(f\"Train Loss: {train_losses[-1]:.4f}, Train Accuracy: {100 * train_accuracies[-1]:.2f}%\")\n",
    "        print(f\"Val Loss: {val_losses[-1]:.4f}, Val Accuracy: {100 * val_accuracies[-1]:.2f}%\")\n",
    "        print(\"-\"*30)\n",
    "        \n",
    "        if best_val_accuracy + min_delta < val_accuracies[-1]:\n",
    "            best_val_accuracy= val_accuracies[-1]\n",
    "            epochs_with_no_improvement= 0\n",
    "        else:\n",
    "            epochs_with_no_improvement+= 1\n",
    "        if epochs_with_no_improvement >= patience:\n",
    "            print(f\"Early stopping triggerred during epoch {epoch}, No improvement in {patience} epochs\")\n",
    "            break\n",
    "\n",
    "    print(\"=\"*80)\n",
    "    \n",
    "    return {\n",
    "        'train_losses': train_losses,\n",
    "        'train_accuracies': train_accuracies,\n",
    "        'val_losses': val_losses,\n",
    "        'val_accuracies': val_accuracies,\n",
    "        'epochs': epochs\n",
    "    }"
   ]
  },
  {
   "cell_type": "code",
   "execution_count": 22,
   "id": "6470210e",
   "metadata": {},
   "outputs": [
    {
     "name": "stdout",
     "output_type": "stream",
     "text": [
      "Epoch: 1\n",
      "Train Loss: 0.5618, Train Accuracy: 70.48%\n",
      "Val Loss: 0.4380, Val Accuracy: 80.16%\n",
      "------------------------------\n",
      "Epoch: 2\n",
      "Train Loss: 0.2936, Train Accuracy: 87.97%\n",
      "Val Loss: 0.2507, Val Accuracy: 90.08%\n",
      "------------------------------\n",
      "Epoch: 3\n",
      "Train Loss: 0.1564, Train Accuracy: 94.24%\n",
      "Val Loss: 0.2578, Val Accuracy: 89.76%\n",
      "------------------------------\n",
      "Epoch: 4\n",
      "Train Loss: 0.0989, Train Accuracy: 96.66%\n",
      "Val Loss: 0.2896, Val Accuracy: 90.18%\n",
      "------------------------------\n",
      "Early stopping triggerred during epoch 4, No improvement in 3 epochs\n",
      "================================================================================\n"
     ]
    }
   ],
   "source": [
    "torch.manual_seed(42)\n",
    "VOCAB_SIZE= len(vocab_dict)\n",
    "EMBEDDING_DIM= 128\n",
    "HIDDEN_DIM= 256\n",
    "OUTPUT_DIM= 1\n",
    "N_LAYERS= 2\n",
    "BIDIRECTIONAL= True\n",
    "DROPOUT= 0.3\n",
    "LEARNING_RATE= 0.001\n",
    "model= LSTM(VOCAB_SIZE, EMBEDDING_DIM, HIDDEN_DIM, OUTPUT_DIM, N_LAYERS, BIDIRECTIONAL, DROPOUT)\n",
    "optimizer= torch.optim.Adam(model.parameters(), lr= LEARNING_RATE)\n",
    "scheduler= torch.optim.lr_scheduler.ReduceLROnPlateau(optimizer, mode= 'min', factor= 0.1, patience= 3)\n",
    "criterion= nn.BCEWithLogitsLoss()\n",
    "device= torch.device('cuda' if torch.cuda.is_available() else 'cpu')\n",
    "\n",
    "history= train_model(model, train_loader, val_loader, optimizer, scheduler, criterion, device)"
   ]
  },
  {
   "cell_type": "code",
   "execution_count": 23,
   "id": "e1bb3d89",
   "metadata": {},
   "outputs": [
    {
     "data": {
      "image/png": "[encoded data removed]",
      "text/plain": [
       "<Figure size 1600x700 with 2 Axes>"
      ]
     },
     "metadata": {},
     "output_type": "display_data"
    }
   ],
   "source": [
    "fig, axes= plt.subplots(1, 2, figsize= (16, 7))\n",
    "\n",
    "axes[0].plot(history['epochs'], history['train_losses'], label= 'Train', alpha= 0.7)\n",
    "axes[0].plot(history['epochs'], history['val_losses'], label= 'Val', linewidth= 2)\n",
    "axes[0].grid(True)\n",
    "axes[0].set_xlabel('Epoch')\n",
    "axes[0].set_ylabel('Loss')\n",
    "axes[0].set_title('LSTM Words Loss')\n",
    "axes[0].legend()\n",
    "\n",
    "axes[1].plot(history['epochs'], history['train_accuracies'], label= 'Train', alpha= 0.7)\n",
    "axes[1].plot(history['epochs'], history['val_accuracies'], label= 'Val', linewidth= 2)\n",
    "axes[1].grid(True)\n",
    "axes[1].set_xlabel('Epoch')\n",
    "axes[1].set_ylabel('Accuracy (%)')\n",
    "axes[1].set_title('LSTM Words Accuracy')\n",
    "axes[1].legend()\n",
    "\n",
    "\n",
    "plt.tight_layout()\n",
    "plt.show()"
   ]
  },
  {
   "cell_type": "code",
   "execution_count": 24,
   "id": "db936e5d",
   "metadata": {},
   "outputs": [],
   "source": [
    "torch.save(model.state_dict(), artifacts_dir+\"LSTM_Words_2layers_0.1val.pth\")"
   ]
  },
  {
   "cell_type": "code",
   "execution_count": 25,
   "id": "adf48f32",
   "metadata": {},
   "outputs": [],
   "source": [
    "with open(artifacts_dir+'vocab_dict.pkl', 'wb') as f:\n",
    "    pickle.dump(vocab_dict, f)\n",
    "    "
   ]
  },
  {
   "cell_type": "code",
   "execution_count": 26,
   "id": "d0e2be8a",
   "metadata": {},
   "outputs": [],
   "source": [
    "def predict_sentiment(review_text, model, vocab, device, max_length= 512):\n",
    "   \n",
    "    cleaned_text= clean_text(review_text)\n",
    "\n",
    "    tokens= word_tokenize(cleaned_text)\n",
    "\n",
    "    encoded= encode_text(tokens, vocab)\n",
    "\n",
    "    if len(encoded) > max_length:\n",
    "        encoded= encoded[:max_length]\n",
    "    \n",
    "    input_tensor= torch.tensor(encoded, dtype= torch.long).unsqueeze(0).to(device)\n",
    "\n",
    "    text_length= torch.tensor([len(encoded)], dtype= torch.long).to(device)\n",
    "\n",
    "    model.eval()\n",
    "\n",
    "    with torch.no_grad():\n",
    "        output= model(input_tensor, text_length)\n",
    "        probability= torch.sigmoid(output).item()\n",
    "        prediction= 1 if probability > 0.5 else 0\n",
    "    return prediction, probability"
   ]
  },
  {
   "cell_type": "code",
   "execution_count": 27,
   "id": "1dce4460",
   "metadata": {},
   "outputs": [
    {
     "name": "stdout",
     "output_type": "stream",
     "text": [
      "Review Text: Just a sweet movie, \n",
      "\n",
      "which is lovely, with beautiful decors. Doesnt deserve the hate it received.\n",
      "\n",
      "Loved the animals and the songs. Gal Gadot is not great as queen. Rachel Zegler is good as always.\n",
      "\n",
      "The dwarfs are funny, with good jokes and lots of gimmicks. The 'prince' is a bit too goofy.\n",
      "\n",
      "His mixed band of merry men does not add much. The end scene was nice, could have been a bit longer. \n",
      "\n",
      "All together I really enjoyed it and can recommend it to many audiences of all ages. \n",
      "\n",
      "Go Watch out in the cinema, where the beautiful backgrounds will be extra great. A modern fairytale. \n",
      "\n",
      "The makers should be proud and ignore the haters.\n",
      "--------------------------------------------------\n",
      "Predicted Sentiment: positive\n"
     ]
    }
   ],
   "source": [
    "review= \"\"\"Just a sweet movie, \n",
    "\n",
    "which is lovely, with beautiful decors. Doesnt deserve the hate it received.\n",
    "\n",
    "Loved the animals and the songs. Gal Gadot is not great as queen. Rachel Zegler is good as always.\n",
    "\n",
    "The dwarfs are funny, with good jokes and lots of gimmicks. The 'prince' is a bit too goofy.\n",
    "\n",
    "His mixed band of merry men does not add much. The end scene was nice, could have been a bit longer. \n",
    "\n",
    "All together I really enjoyed it and can recommend it to many audiences of all ages. \n",
    "\n",
    "Go Watch out in the cinema, where the beautiful backgrounds will be extra great. A modern fairytale. \n",
    "\n",
    "The makers should be proud and ignore the haters.\"\"\"\n",
    "\n",
    "pred, prob= predict_sentiment(review, model, vocab_dict, device)\n",
    "\n",
    "sentiment= 'positive' if pred == 1 else 'negative'\n",
    "\n",
    "print(f\"Review Text: {review}\")\n",
    "print('-'*50)\n",
    "print(f\"Predicted Sentiment: {sentiment}\")"
   ]
  }
 ],
 "metadata": {
  "kernelspec": {
   "display_name": "dl_complete_env",
   "language": "python",
   "name": "python3"
  },
  "language_info": {
   "codemirror_mode": {
    "name": "ipython",
    "version": 3
   },
   "file_extension": ".py",
   "mimetype": "text/x-python",
   "name": "python",
   "nbconvert_exporter": "python",
   "pygments_lexer": "ipython3",
   "version": "3.12.3"
  }
 },
 "nbformat": 4,
 "nbformat_minor": 5
}
