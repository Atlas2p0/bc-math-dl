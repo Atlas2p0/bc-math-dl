{
 "cells": [
  {
   "cell_type": "code",
   "execution_count": null,
   "id": "9ddd6351",
   "metadata": {},
   "outputs": [],
   "source": [
    "import os\n",
    "from datasets import load_dataset, Dataset\n",
    "import datasets\n",
    "import random\n",
    "import numpy as np\n",
    "from collections import Counter\n",
    "from tokenizers import Tokenizer\n",
    "from tokenizers.models import BPE\n",
    "from tokenizers.trainers import BpeTrainer\n",
    "from tokenizers.pre_tokenizers import Whitespace\n",
    "from sacremoses import MosesTokenizer"
   ]
  },
  {
   "cell_type": "code",
   "execution_count": 32,
   "id": "3322d244",
   "metadata": {},
   "outputs": [],
   "source": [
    "# Dirs\n",
    "cwd= os.getcwd()\n",
    "data_dir= os.path.join(cwd, \"../data/\")\n",
    "artifacts_dir= os.path.join(cwd, \"../artifacts/\")\n",
    "en_path= data_dir + 'UNPC.ar-en.en'\n",
    "ar_path= data_dir + 'UNPC.ar-en.ar'\n",
    "en_path= os.path.abspath(en_path)\n",
    "ar_path= os.path.abspath(ar_path)"
   ]
  },
  {
   "cell_type": "code",
   "execution_count": 33,
   "id": "c4a75dbd",
   "metadata": {},
   "outputs": [],
   "source": [
    "dataset= load_dataset('text', data_files= {'en': data_dir+'UNPC.ar-en.en',\n",
    "                                           'ar': data_dir+'UNPC.ar-en.ar'})"
   ]
  },
  {
   "cell_type": "code",
   "execution_count": 34,
   "id": "b36c378c",
   "metadata": {},
   "outputs": [
    {
     "name": "stdout",
     "output_type": "stream",
     "text": [
      "{'text': 'Distr.'} {'text': 'Distr.'}\n",
      "{'text': 'GENERAL'} {'text': 'GENERAL'}\n",
      "{'text': 'A/CN.4/452'} {'text': 'A/CN.4/452'}\n",
      "{'text': '10 May 1993'} {'text': '10 May 1993'}\n",
      "{'text': 'ORIGINAL: ENGLISH/SPANISH'} {'text': 'ORIGINAL: ENGLISH/SPANISH'}\n",
      "{'text': 'INTERNATIONAL LAW COMMISSION'} {'text': 'لجنة القانون الدولي'}\n",
      "{'text': 'Forty-fifth session'} {'text': 'الدورة الخامسة واﻷربعون'}\n",
      "{'text': '3 May-23 July 1993'} {'text': '٣ أيار/ مايو - ٢٣ تموز/يوليه ١٩٩٣'}\n",
      "{'text': 'COMMENTS OF GOVERNMENTS ON THE REPORT OF THE WORKING GROUP'} {'text': 'تعليقات الحكومات على تقرير الفريق العامل المعني'}\n",
      "{'text': 'ON THE QUESTION OF AN INTERNATIONAL CRIMINAL JURISDICTION'} {'text': 'بمسألة إنشاء قضاء جنائي دولي'}\n"
     ]
    }
   ],
   "source": [
    "for i in range(10):\n",
    "    print(dataset['en'][i], dataset['ar'][i])"
   ]
  },
  {
   "cell_type": "code",
   "execution_count": 35,
   "id": "85ed5fa3",
   "metadata": {},
   "outputs": [
    {
     "data": {
      "application/vnd.jupyter.widget-view+json": {
       "model_id": "5a0b083a3bc74f549a5c42e2dc370404",
       "version_major": 2,
       "version_minor": 0
      },
      "text/plain": [
       "Generating train split: 0 examples [00:00, ? examples/s]"
      ]
     },
     "metadata": {},
     "output_type": "display_data"
    },
    {
     "name": "stdout",
     "output_type": "stream",
     "text": [
      "Subset size: 1000000\n"
     ]
    }
   ],
   "source": [
    "total_size= len(dataset['en']) # Total size for random sampling\n",
    "subset_size= 1000000 # 1 Million sentence pair subset\n",
    "# Random seed for reproducibility\n",
    "random.seed(42)\n",
    "indices= random.sample(range(total_size), subset_size)\n",
    "# Sort indices for better memory access\n",
    "indices.sort()\n",
    "\n",
    "def pair_generator():\n",
    "    for idx in indices:\n",
    "        yield{\n",
    "            'en': dataset['en'][idx]['text'], # Direct access without materializing full list\n",
    "            'ar': dataset['ar'][idx]['text']\n",
    "        }\n",
    "# Build the dataset from generator\n",
    "paired_ds= Dataset.from_generator(pair_generator)\n",
    "# Checking size\n",
    "print(f\"Subset size: {len(paired_ds)}\")\n"
   ]
  },
  {
   "cell_type": "code",
   "execution_count": 36,
   "id": "a08c2552",
   "metadata": {},
   "outputs": [
    {
     "name": "stdout",
     "output_type": "stream",
     "text": [
      "EN: &quot; 4. Takes note with appreciation of chapter II of the report of the International Law Commission, entitled &quot; Draft Code of Crimes against the Peace and Security of Mankind &quot; , which was devoted to the question of the possible establishment of an international criminal jurisdiction;\n",
      "AR: &quot; ٤ - تحيط علما مع التقدير بالفصل الثاني من تقرير لجنة القانون الدولي، المعنون &quot; مشروع مدونة الجرائم المخلة بسلم اﻹنسانية وأمنها &quot; ، الذي كرس لمسألة إمكانية إنشاء قضاء جنائي دولي؛\n",
      "\n",
      "EN: Structural and jurisdictional issues\n",
      "AR: المسائل الهيكلية والمسائل المتعلقة بالوﻻية\n",
      "\n",
      "EN: 6. Australia has already noted the importance of the Working Group &apos; s view expressed in paragraph 438 of the report that a court, at least in the first phase of its operations, should not be a full-time body but constituted on each occasion it was required to sit.\n",
      "AR: ٦ - أشارت استراليا فعﻻ الى أهمية رأي الفريق العامل المعرب عنه في الفقرة ٤٣٨ مــن التقرير، ومؤداه أﻻ تكون للمحكمة، في مرحلة عملها اﻷولى على اﻷقل، هيئة متفرغة، وإنما تشكل في كل مناسبة يلزم فيها عقدها.\n",
      "\n"
     ]
    }
   ],
   "source": [
    "# Check a few samples to ensure alignment\n",
    "for i in range(3):\n",
    "    print(f\"EN: {paired_ds[i]['en']}\")\n",
    "    print(f\"AR: {paired_ds[i]['ar']}\")\n",
    "    print()"
   ]
  },
  {
   "cell_type": "code",
   "execution_count": 37,
   "id": "a84bf75e",
   "metadata": {},
   "outputs": [
    {
     "name": "stdout",
     "output_type": "stream",
     "text": [
      "EN words: avg=24.1, min=0, max=1191, std=20.0\n",
      "AR words: avg=21.4, min=1, max=924, std=17.5\n",
      "EN chars: avg=157.3, min=0, max=8135, std=132.5\n",
      "AR chars: avg=132.4, min=1, max=6146, std=111.8\n"
     ]
    },
    {
     "data": {
      "image/png": "[encoded data removed]",
      "text/plain": [
       "<Figure size 640x480 with 1 Axes>"
      ]
     },
     "metadata": {},
     "output_type": "display_data"
    }
   ],
   "source": [
    "# Word-level lengths (using whitespace split as proxy)\n",
    "en_word_lengths= [len(ex['en'].split()) for ex in paired_ds]\n",
    "ar_word_lengths= [len(ex['ar'].split()) for ex in paired_ds]\n",
    "\n",
    "# Char-level lengths (important for subword tokenization )\n",
    "en_char_lengths= [len(ex['en']) for ex in paired_ds]\n",
    "ar_char_lengths= [len(ex['ar']) for ex in paired_ds]\n",
    "\n",
    "# Summarize\n",
    "def print_stats(name, lengths):\n",
    "    print(f\"{name}: avg={np.mean(lengths):.1f}, min={np.min(lengths)}, max={np.max(lengths)}, std={np.std(lengths):.1f}\")\n",
    "    \n",
    "print_stats(\"EN words\", en_word_lengths)\n",
    "print_stats(\"AR words\", ar_word_lengths)\n",
    "print_stats(\"EN chars\", en_char_lengths)\n",
    "print_stats(\"AR chars\", ar_char_lengths)\n",
    "\n",
    "# Plot histograms\n",
    "import matplotlib.pyplot as plt\n",
    "plt.hist(en_word_lengths, bins=50, alpha=0.5, label='EN')\n",
    "plt.hist(ar_word_lengths, bins=50, alpha=0.5, label='AR')\n",
    "plt.legend()\n",
    "plt.title(\"Word Length Distribution\")\n",
    "plt.show()"
   ]
  },
  {
   "cell_type": "code",
   "execution_count": 38,
   "id": "d1e8471f",
   "metadata": {},
   "outputs": [
    {
     "name": "stdout",
     "output_type": "stream",
     "text": [
      "Top 10 EN words: [('the', 2082540), ('of', 1253688), ('and', 917783), ('to', 727739), ('in', 582161), ('for', 292226), ('a', 280714), ('on', 264772), ('that', 225515), ('by', 166107)]\n",
      "Top 10 AR words: [('في', 754286), ('من', 467485), ('على', 306179), ('إلى', 223562), ('أن', 207042), ('-', 185775), ('التي', 151852), ('عن', 125140), ('المتحدة', 101176), ('&quot;', 95929)]\n",
      "EN unique words: 399601, of which 251326 are hapax (62.9%)\n",
      "AR unique words: 711114, of which 418074 are hapax (58.8%)\n"
     ]
    }
   ],
   "source": [
    "# Flatten all words\n",
    "en_words = [word for ex in paired_ds for word in ex['en'].lower().split()]\n",
    "ar_words = [word for ex in paired_ds for word in ex['ar'].split()]  # Arabic split by space\n",
    "\n",
    "# Compute word frequencies\n",
    "en_word_freq = Counter(en_words)\n",
    "ar_word_freq = Counter(ar_words)\n",
    "\n",
    "# Top-k most common\n",
    "print(\"Top 10 EN words:\", en_word_freq.most_common(10))\n",
    "print(\"Top 10 AR words:\", ar_word_freq.most_common(10))\n",
    "\n",
    "# Number of hapax legomena (words appearing only once)\n",
    "en_hapax = sum(1 for count in en_word_freq.values() if count == 1)\n",
    "ar_hapax = sum(1 for count in ar_word_freq.values() if count == 1)\n",
    "print(f\"EN unique words: {len(en_word_freq)}, of which {en_hapax} are hapax ({en_hapax/len(en_word_freq)*100:.1f}%)\")\n",
    "print(f\"AR unique words: {len(ar_word_freq)}, of which {ar_hapax} are hapax ({ar_hapax/len(ar_word_freq)*100:.1f}%)\")"
   ]
  },
  {
   "cell_type": "code",
   "execution_count": 39,
   "id": "c60cdcc0",
   "metadata": {},
   "outputs": [
    {
     "data": {
      "application/vnd.jupyter.widget-view+json": {
       "model_id": "8a955be703244bc5bef665c20f99d952",
       "version_major": 2,
       "version_minor": 0
      },
      "text/plain": [
       "Map:   0%|          | 0/1000000 [00:00<?, ? examples/s]"
      ]
     },
     "metadata": {},
     "output_type": "display_data"
    }
   ],
   "source": [
    "import re\n",
    "\n",
    "def normalize_numerals(text):\n",
    "    \"\"\"\n",
    "    Convert Eastern Arabic numerals (٠-٩) to Western numerals (0-9)\n",
    "    and standardize all number formatting\n",
    "    \"\"\"\n",
    "    # Eastern to Western numeral mapping\n",
    "    eastern_to_western = {\n",
    "        '٠': '0', '١': '1', '٢': '2', '٣': '3', '٤': '4',\n",
    "        '٥': '5', '٦': '6', '٧': '7', '٨': '8', '٩': '9'\n",
    "    }\n",
    "    \n",
    "    # Convert Eastern Arabic numerals\n",
    "    for eastern, western in eastern_to_western.items():\n",
    "        text = text.replace(eastern, western)\n",
    "    \n",
    "    # Standardize number formatting (optional)\n",
    "    text = re.sub(r'(\\d)[\\s,]*(\\d)', r'\\1\\2', text)  # Remove spaces/commas within numbers\n",
    "    \n",
    "    return text\n",
    "\n",
    "# Apply to both languages to ensure consistency\n",
    "normalized_subset = paired_ds.map(lambda ex: {\n",
    "    'en': normalize_numerals(ex['en']),\n",
    "    'ar': normalize_numerals(ex['ar'])\n",
    "})"
   ]
  },
  {
   "cell_type": "code",
   "execution_count": 40,
   "id": "9156437c",
   "metadata": {},
   "outputs": [
    {
     "data": {
      "application/vnd.jupyter.widget-view+json": {
       "model_id": "d1a26b94ada6493780d68b6f9a18de3f",
       "version_major": 2,
       "version_minor": 0
      },
      "text/plain": [
       "Filter:   0%|          | 0/1000000 [00:00<?, ? examples/s]"
      ]
     },
     "metadata": {},
     "output_type": "display_data"
    },
    {
     "name": "stdout",
     "output_type": "stream",
     "text": [
      "Original size: 1000000\n",
      "Filtered size: 954587\n",
      "Removed 45413 mismatched pairs\n"
     ]
    }
   ],
   "source": [
    "# Remove sentence pairs with number mismatch\n",
    "def has_number_mismatch(example):\n",
    "    en_has_numbers= bool(re.search(r'\\d', example['en']))\n",
    "    ar_has_numbers= bool(re.search(r'\\d', example['ar']))\n",
    "    return en_has_numbers != ar_has_numbers\n",
    "# Filter out examples with number mismatches (numerals in one sentence but not in the other)\n",
    "filtered_subset= normalized_subset.filter(\n",
    "    lambda ex: not has_number_mismatch(ex)\n",
    ")\n",
    "print(f\"Original size: {len(normalized_subset)}\")\n",
    "print(f\"Filtered size: {len(filtered_subset)}\")\n",
    "print(f\"Removed {len(normalized_subset) - len(filtered_subset)} mismatched pairs\")"
   ]
  },
  {
   "cell_type": "code",
   "execution_count": null,
   "id": "ff8530bf",
   "metadata": {},
   "outputs": [],
   "source": [
    "# Correlation between EN and AR word lengths\n",
    "correlation = np.corrcoef(en_word_lengths, ar_word_lengths)[0,1]\n",
    "print(f\"Length correlation (EN vs AR words): {correlation:.3f}\")\n",
    "\n",
    "# Spot-check outliers: Pairs with large length ratios\n",
    "ratios = [len(en.split()) / len(ar.split()) for en, ar in zip(filtered_subset['en'], filtered_subset['ar'])]\n",
    "outlier_indices = np.where(np.array(ratios) > 2)[0]  # EN twice as long as AR\n",
    "print(f\"Found {len(outlier_indices)} potential misalignments (ratio > 2)\")"
   ]
  },
  {
   "cell_type": "code",
   "execution_count": 66,
   "id": "eeeb61d6",
   "metadata": {},
   "outputs": [
    {
     "name": "stdout",
     "output_type": "stream",
     "text": [
      "Example outlier: {'en': 'Peru 12 May 1978 10 August 1978 (2)', 'ar': '15 شباط/فبراير 1971)2('}\n"
     ]
    }
   ],
   "source": [
    "if len(outlier_indices) > 0:\n",
    "    print(\"Example outlier:\", filtered_subset[int(outlier_indices[12])])"
   ]
  },
  {
   "cell_type": "code",
   "execution_count": 42,
   "id": "e3c9bd7e",
   "metadata": {},
   "outputs": [
    {
     "name": "stdout",
     "output_type": "stream",
     "text": [
      "Train size: 763669\n",
      "Validation size: 190918\n"
     ]
    }
   ],
   "source": [
    "split_dataset= filtered_subset.train_test_split(test_size= 0.2, seed= 42)\n",
    "train_ds= split_dataset['train']\n",
    "val_ds= split_dataset['test']\n",
    "\n",
    "# Verifying sizes\n",
    "print(f\"Train size: {len(train_ds)}\")\n",
    "print(f\"Validation size: {len(val_ds)}\")\n"
   ]
  },
  {
   "cell_type": "code",
   "execution_count": 43,
   "id": "e65a3760",
   "metadata": {},
   "outputs": [
    {
     "data": {
      "application/vnd.jupyter.widget-view+json": {
       "model_id": "0f6e09f8bc19408599aabf3dfa2c89e7",
       "version_major": 2,
       "version_minor": 0
      },
      "text/plain": [
       "Saving the dataset (0/1 shards):   0%|          | 0/763669 [00:00<?, ? examples/s]"
      ]
     },
     "metadata": {},
     "output_type": "display_data"
    },
    {
     "data": {
      "application/vnd.jupyter.widget-view+json": {
       "model_id": "f9e2599b6a85427ab1410d0548896081",
       "version_major": 2,
       "version_minor": 0
      },
      "text/plain": [
       "Saving the dataset (0/1 shards):   0%|          | 0/190918 [00:00<?, ? examples/s]"
      ]
     },
     "metadata": {},
     "output_type": "display_data"
    }
   ],
   "source": [
    "train_ds.save_to_disk(data_dir+\"train_ds\")\n",
    "val_ds.save_to_disk(data_dir+\"val_ds\")"
   ]
  },
  {
   "cell_type": "code",
   "execution_count": 44,
   "id": "ea38ce11",
   "metadata": {},
   "outputs": [],
   "source": [
    "# Create text file containing all training text for bpe tokenizer\n",
    "with open(data_dir+'bpe_corpus_en.txt', 'w', encoding= 'utf-8') as f_en:\n",
    "    with open(data_dir + 'bpe_corpus_ar.txt', 'w', encoding= 'utf-8') as f_ar:\n",
    "        for example in train_ds:\n",
    "            f_en.write(example['en'] + '\\n')\n",
    "            f_ar.write(example['ar'] + '\\n')\n",
    "    "
   ]
  },
  {
   "cell_type": "code",
   "execution_count": 45,
   "id": "0fde3ca2",
   "metadata": {},
   "outputs": [
    {
     "name": "stdout",
     "output_type": "stream",
     "text": [
      "\n",
      "\n",
      "\n",
      "\n",
      "\n",
      "\n"
     ]
    }
   ],
   "source": [
    "\n",
    "\n",
    "# English tokenizer \n",
    "en_tokenizer = Tokenizer(BPE(unk_token=\"<UNK>\"))\n",
    "en_tokenizer.pre_tokenizer = Whitespace()\n",
    "en_trainer = BpeTrainer(\n",
    "    vocab_size=32000,\n",
    "    special_tokens=[\"<UNK>\", \"<PAD>\", \"<SOS>\", \"<EOS>\"],\n",
    "    min_frequency=2\n",
    ")\n",
    "\n",
    "# Arabic tokenizer using built-in Moses pre-tokenizer\n",
    "# Initialize Moses tokenizer for Arabic\n",
    "mt = MosesTokenizer(lang='ar')\n",
    "\n",
    "# Pre-tokenize the Arabic corpus\n",
    "input_file = data_dir + 'bpe_corpus_ar.txt'\n",
    "output_file = data_dir + 'bpe_corpus_ar_pre_tokenized.txt'\n",
    "\n",
    "with open(input_file, 'r', encoding='utf-8') as f_in, open(output_file, 'w', encoding='utf-8') as f_out:\n",
    "    for line in f_in:\n",
    "        line = line.strip()\n",
    "        if line:\n",
    "            # Tokenize with Moses and join with spaces\n",
    "            tokens = mt.tokenize(line, return_str=True)\n",
    "            f_out.write(tokens + '\\n')\n",
    "        else:\n",
    "            f_out.write('\\n')\n",
    "\n",
    "# Now train on the pre-tokenized corpus\n",
    "ar_tokenizer = Tokenizer(BPE(unk_token=\"<UNK>\"))\n",
    "ar_tokenizer.pre_tokenizer = Whitespace()  # Simple whitespace\n",
    "\n",
    "ar_trainer = BpeTrainer(\n",
    "    vocab_size=45000,\n",
    "    special_tokens=[\"<UNK>\", \"<PAD>\", \"<SOS>\", \"<EOS>\"],\n",
    "    min_frequency=2\n",
    ")\n",
    "# Training and saving\n",
    "en_tokenizer.train(files=[data_dir+'bpe_corpus_en.txt'], trainer=en_trainer)\n",
    "en_tokenizer.save(artifacts_dir + 'bpe_tokenizer_en.json')\n",
    "\n",
    "ar_tokenizer.train(files=[data_dir+'bpe_corpus_ar.txt'], trainer=ar_trainer)\n",
    "ar_tokenizer.save(artifacts_dir + 'bpe_tokenizer_ar.json')  # Save tokenizer"
   ]
  },
  {
   "cell_type": "code",
   "execution_count": 46,
   "id": "4a9791d6",
   "metadata": {},
   "outputs": [
    {
     "name": "stdout",
     "output_type": "stream",
     "text": [
      "Arabic Tokenization: ['وال', 'كتاب', 'ُ', 'على', 'الط', 'اولة', 'ِ']\n",
      "English Tokenization: ['Met', 'am', 'orph', 'osis', 'of', 'the', 'wor', 'm']\n"
     ]
    }
   ],
   "source": [
    "# Loading tokenizers\n",
    "moses_pretokenizer= MosesTokenizer(lang='ar')\n",
    "ar_tokenizer= Tokenizer.from_file(artifacts_dir+\"bpe_tokenizer_ar.json\")\n",
    "\n",
    "en_tokenizer= Tokenizer.from_file(artifacts_dir+\"bpe_tokenizer_en.json\")\n",
    "\n",
    "# Testing tokenizers\n",
    "result = ar_tokenizer.encode(\"والكتابُ على الطاولةِ\")\n",
    "print(f\"Arabic Tokenization: {result.tokens}\")\n",
    "\n",
    "result= en_tokenizer.encode(\"Metamorphosis of the worm\")\n",
    "print(f\"English Tokenization: {result.tokens}\")"
   ]
  },
  {
   "cell_type": "code",
   "execution_count": 48,
   "id": "d06c1706",
   "metadata": {},
   "outputs": [
    {
     "name": "stdout",
     "output_type": "stream",
     "text": [
      "English tokens: ['The', 'quick', 'brow', 'n', 'fo', 'x', 'jum', 'ps', 'over', '123', 'la', 'zy', 'dogs']\n",
      "English IDs: [828, 6469, 29820, 77, 3641, 87, 29261, 3779, 890, 7762, 1000, 19627, 25515]\n",
      "Arabic tokens: ['وال', 'كتاب', 'ُ', 'الجديد', 'على', 'الط', 'اولة', 'ِ', 'يحتوي', 'على', '123', 'صفحة']\n",
      "Arabic IDs: [1158, 12839, 343, 3652, 1156, 1323, 26373, 344, 17158, 1156, 9712, 8985]\n"
     ]
    }
   ],
   "source": [
    "# Test English tokenizer\n",
    "en_sample = \"The quick brown fox jumps over 123 lazy dogs\"\n",
    "en_encoded = en_tokenizer.encode(en_sample)\n",
    "print(\"English tokens:\", en_encoded.tokens)\n",
    "print(\"English IDs:\", en_encoded.ids)\n",
    "\n",
    "# Test Arabic tokenizer with complex example\n",
    "ar_sample = \"والكتابُ الجديد على الطاولةِ يحتوي على 123 صفحة\"\n",
    "ar_encoded = ar_tokenizer.encode(ar_sample)\n",
    "print(\"Arabic tokens:\", ar_encoded.tokens)\n",
    "print(\"Arabic IDs:\", ar_encoded.ids)"
   ]
  }
 ],
 "metadata": {
  "kernelspec": {
   "display_name": "dl_complete_env",
   "language": "python",
   "name": "python3"
  },
  "language_info": {
   "codemirror_mode": {
    "name": "ipython",
    "version": 3
   },
   "file_extension": ".py",
   "mimetype": "text/x-python",
   "name": "python",
   "nbconvert_exporter": "python",
   "pygments_lexer": "ipython3",
   "version": "3.12.3"
  }
 },
 "nbformat": 4,
 "nbformat_minor": 5
}
