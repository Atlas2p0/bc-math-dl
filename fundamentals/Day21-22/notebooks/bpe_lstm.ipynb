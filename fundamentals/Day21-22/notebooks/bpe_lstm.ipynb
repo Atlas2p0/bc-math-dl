{
  "cells": [
    {
      "cell_type": "code",
      "execution_count": 1,
      "id": "3fb78caf",
      "metadata": {
        "id": "3fb78caf"
      },
      "outputs": [],
      "source": [
        "import pandas as pd\n",
        "import os\n",
        "from tokenizers import Tokenizer\n",
        "from tokenizers.models import BPE\n",
        "from tokenizers.trainers import BpeTrainer\n",
        "from tokenizers.pre_tokenizers import Whitespace\n",
        "from tokenizers.processors import TemplateProcessing\n",
        "from tokenizers import normalizers\n",
        "from tokenizers.normalizers import NFD, StripAccents, Lowercase\n",
        "import torch\n",
        "from torch.utils.data import Dataset, DataLoader\n",
        "from torch import nn\n",
        "from sklearn.model_selection import train_test_split\n",
        "from sklearn.metrics import accuracy_score\n",
        "import matplotlib.pyplot as plt\n",
        "import re"
      ]
    },
    {
      "cell_type": "code",
      "execution_count": 2,
      "id": "e82757c7",
      "metadata": {
        "id": "e82757c7"
      },
      "outputs": [],
      "source": [
        "# Directories\n",
        "cwd= os.getcwd()\n",
        "data_dir= cwd + \"/data/\"\n",
        "artifacts_dir= cwd + \"/artifacts/\""
      ]
    },
    {
      "cell_type": "code",
      "execution_count": 3,
      "id": "855df4ed",
      "metadata": {
        "colab": {
          "base_uri": "https://localhost:8080/",
          "height": 241
        },
        "id": "855df4ed",
        "outputId": "8a19325a-d60d-49a5-c956-0b92b576f3bf"
      },
      "outputs": [
        {
          "output_type": "execute_result",
          "data": {
            "text/plain": [
              "0    one of the other reviewers has mentioned that ...\n",
              "1    a wonderful little production. the filming tec...\n",
              "2    i thought this was a wonderful way to spend ti...\n",
              "3    basically there's a family where a little boy ...\n",
              "4    petter mattei's \"love in the time of money\" is...\n",
              "Name: cleaned_review, dtype: object"
            ],
            "text/html": [
              "<div>\n",
              "<style scoped>\n",
              "    .dataframe tbody tr th:only-of-type {\n",
              "        vertical-align: middle;\n",
              "    }\n",
              "\n",
              "    .dataframe tbody tr th {\n",
              "        vertical-align: top;\n",
              "    }\n",
              "\n",
              "    .dataframe thead th {\n",
              "        text-align: right;\n",
              "    }\n",
              "</style>\n",
              "<table border=\"1\" class=\"dataframe\">\n",
              "  <thead>\n",
              "    <tr style=\"text-align: right;\">\n",
              "      <th></th>\n",
              "      <th>cleaned_review</th>\n",
              "    </tr>\n",
              "  </thead>\n",
              "  <tbody>\n",
              "    <tr>\n",
              "      <th>0</th>\n",
              "      <td>one of the other reviewers has mentioned that ...</td>\n",
              "    </tr>\n",
              "    <tr>\n",
              "      <th>1</th>\n",
              "      <td>a wonderful little production. the filming tec...</td>\n",
              "    </tr>\n",
              "    <tr>\n",
              "      <th>2</th>\n",
              "      <td>i thought this was a wonderful way to spend ti...</td>\n",
              "    </tr>\n",
              "    <tr>\n",
              "      <th>3</th>\n",
              "      <td>basically there's a family where a little boy ...</td>\n",
              "    </tr>\n",
              "    <tr>\n",
              "      <th>4</th>\n",
              "      <td>petter mattei's \"love in the time of money\" is...</td>\n",
              "    </tr>\n",
              "  </tbody>\n",
              "</table>\n",
              "</div><br><label><b>dtype:</b> object</label>"
            ]
          },
          "metadata": {},
          "execution_count": 3
        }
      ],
      "source": [
        "df= pd.read_csv(data_dir+\"preprocessed_imdb_dataset.csv\")\n",
        "df['cleaned_review'].head(5)"
      ]
    },
    {
      "cell_type": "code",
      "source": [
        "# Text Preprocessing Utils\n",
        "def clean_text(text):\n",
        "\n",
        "    # Patterns to detect and replace\n",
        "    urls= r'https?://\\S+|www\\.\\S+'\n",
        "    html_tags= r'<[^>]+>'\n",
        "    # Punctuation Specific Patterns\n",
        "    punct_repetition= r'(!|\\?|\\.){2,}'\n",
        "    ellipsis= r'\\.{3,}|\\.\\s*\\.\\s*\\.|…'\n",
        "    quotes= r'[“”]'\n",
        "    apostrophes= r\"[‘’]\"\n",
        "    hyphens= r'\\b\\d+-\\d+\\b'\n",
        "\n",
        "\n",
        "    # Clean Text using Regex\n",
        "    cleaned_text= text.lower()\n",
        "    cleaned_text= re.sub(urls, ' ', cleaned_text)\n",
        "    cleaned_text= re.sub(html_tags, ' ', cleaned_text)\n",
        "\n",
        "    cleaned_text= re.sub(punct_repetition, r'\\1', cleaned_text)\n",
        "    cleaned_text= re.sub(ellipsis, '...', cleaned_text)\n",
        "    cleaned_text= re.sub(quotes, r'\"', cleaned_text)\n",
        "    cleaned_text= re.sub(apostrophes, r\"'\", cleaned_text)\n",
        "    cleaned_text= re.sub(hyphens, ' ', cleaned_text)\n",
        "\n",
        "    # Removing Extra Spaces\n",
        "    cleaned_text= re.sub(r'\\s+', ' ', cleaned_text)\n",
        "    cleaned_text= cleaned_text.strip()\n",
        "\n",
        "    return cleaned_text"
      ],
      "metadata": {
        "id": "fbxxNXb9UxK_"
      },
      "id": "fbxxNXb9UxK_",
      "execution_count": 4,
      "outputs": []
    },
    {
      "cell_type": "code",
      "execution_count": 5,
      "id": "89565df8",
      "metadata": {
        "id": "89565df8"
      },
      "outputs": [],
      "source": [
        "def train_bpe_tokenizer(texts, vocab_size= 30000, min_frequency= 2):\n",
        "    # Initialize a tokenizer\n",
        "    tokenizer= Tokenizer(BPE(unk_token= '[UNK]'))\n",
        "    # Add normalizers\n",
        "    tokenizer.normalizer= normalizers.Sequence([NFD(), StripAccents(), Lowercase()])\n",
        "    # Use whitespace pre-tokenization\n",
        "    tokenizer.pre_tokenizer= Whitespace()\n",
        "    special_tokens= [\"[UNK]\", \"[PAD]\", \"[CLS]\", \"[SEP]\", \"[MASK]\"]\n",
        "    # Initialize trainer\n",
        "    trainer= BpeTrainer(\n",
        "        vocab_size= vocab_size,\n",
        "        special_tokens= special_tokens,\n",
        "        min_frequency= min_frequency,\n",
        "        show_progress= True\n",
        "    )\n",
        "\n",
        "    # Train the tokenizer\n",
        "    tokenizer.train_from_iterator(texts, trainer=trainer)\n",
        "\n",
        "    cls_id= tokenizer.token_to_id(\"[CLS]\")\n",
        "    sep_id= tokenizer.token_to_id(\"[SEP]\")\n",
        "\n",
        "    if cls_id is not None and sep_id is not None:\n",
        "\n",
        "        tokenizer.post_processor = TemplateProcessing(\n",
        "            single=\"[CLS] $A [SEP]\",\n",
        "            pair=\"[CLS] $A [SEP] $B:1 [SEP]:1\",\n",
        "            special_tokens=[\n",
        "                (\"[CLS]\", cls_id),\n",
        "                (\"[SEP]\", sep_id),\n",
        "            ],\n",
        "        )\n",
        "    else:\n",
        "        print(\"Warning: [CLS] or [SEP] tokens not found in vocabulary\")\n",
        "\n",
        "    return tokenizer"
      ]
    },
    {
      "cell_type": "code",
      "execution_count": 6,
      "id": "f2ef3786",
      "metadata": {
        "colab": {
          "base_uri": "https://localhost:8080/"
        },
        "id": "f2ef3786",
        "outputId": "aca7e521-c52e-4b4a-be3e-12ba44e69d28"
      },
      "outputs": [
        {
          "output_type": "stream",
          "name": "stdout",
          "text": [
            "BPE Vocabulary size: 30000\n"
          ]
        }
      ],
      "source": [
        "# Split cleaned text\n",
        "X_train, X_test, Y_train, Y_test= train_test_split(df['cleaned_review'], df['sentiment'], test_size= 0.2, random_state= 42, stratify= df['sentiment'])\n",
        "\n",
        "# Train tokenizer\n",
        "bpe_tokenizer= train_bpe_tokenizer(X_train)\n",
        "\n",
        "# Save the tokenizer\n",
        "bpe_tokenizer.save(artifacts_dir+\"bpe_tokenizer.json\")\n",
        "\n",
        "# Get Vocab size for model init\n",
        "vocab_size= bpe_tokenizer.get_vocab_size()\n",
        "print(f\"BPE Vocabulary size: {vocab_size}\")"
      ]
    },
    {
      "cell_type": "code",
      "execution_count": 7,
      "id": "8c630345",
      "metadata": {
        "id": "8c630345"
      },
      "outputs": [],
      "source": [
        "class BPEDataset(Dataset):\n",
        "    def __init__(self, texts, labels, tokenizer, max_length= 512):\n",
        "        self.texts= texts\n",
        "        self.labels= labels\n",
        "        self.tokenizer= tokenizer\n",
        "        self.max_length= max_length\n",
        "\n",
        "    def __len__(self):\n",
        "        return len(self.texts)\n",
        "    def __getitem__(self, idx):\n",
        "\n",
        "        text= self.texts.iloc[idx] if hasattr(self.texts, 'iloc') else self.texts[idx]\n",
        "        label= self.labels.iloc[idx] if hasattr(self.labels, 'iloc') else self.labels[idx]\n",
        "        sentiment= 1 if label == 'positive' else 0\n",
        "\n",
        "        # Tokenize text\n",
        "        encoding= self.tokenizer.encode(text)\n",
        "\n",
        "        # Get token IDs and create atten mask\n",
        "        input_ids= encoding.ids\n",
        "        attention_mask= [1] * len(input_ids)\n",
        "\n",
        "        # Truncate if necessary\n",
        "        if len(input_ids) > self.max_length:\n",
        "            input_ids= input_ids[:self.max_length]\n",
        "            attention_mask= attention_mask[:self.max_length]\n",
        "        # Pad if necessary\n",
        "        padding_length= self.max_length - len(input_ids)\n",
        "        if padding_length > 0:\n",
        "            input_ids= input_ids + [self.tokenizer.token_to_id(\"[PAD]\")] * padding_length\n",
        "            attention_mask= attention_mask + [0] * padding_length\n",
        "\n",
        "        return {\n",
        "            'input_ids': torch.tensor(input_ids, dtype= torch.long),\n",
        "            'attention_mask': torch.tensor(attention_mask, dtype= torch.long),\n",
        "            'labels': torch.tensor(sentiment, dtype= torch.long)\n",
        "        }"
      ]
    },
    {
      "cell_type": "code",
      "execution_count": 8,
      "id": "44ad15f6",
      "metadata": {
        "id": "44ad15f6"
      },
      "outputs": [],
      "source": [
        "# Creating datasets\n",
        "train_texts= X_train.tolist()\n",
        "train_labels= Y_train.tolist()\n",
        "val_texts= X_test.tolist()\n",
        "val_labels= Y_test.tolist()\n",
        "\n",
        "train_dataset= BPEDataset(train_texts, train_labels, bpe_tokenizer)\n",
        "val_dataset= BPEDataset(val_texts, val_labels, bpe_tokenizer)"
      ]
    },
    {
      "cell_type": "code",
      "execution_count": 9,
      "id": "913363b0",
      "metadata": {
        "id": "913363b0"
      },
      "outputs": [],
      "source": [
        "def bpe_collate_fn(batch):\n",
        "    return {\n",
        "        'input_ids': torch.stack([item['input_ids'] for item in batch]),\n",
        "        'attention_mask': torch.stack([item['attention_mask'] for item in batch]),\n",
        "        'labels': torch.stack([item['labels'] for item in batch])\n",
        "    }"
      ]
    },
    {
      "cell_type": "code",
      "execution_count": 10,
      "id": "cb840086",
      "metadata": {
        "colab": {
          "base_uri": "https://localhost:8080/"
        },
        "id": "cb840086",
        "outputId": "06d633bf-18d3-47c7-9357-a5780e18576f"
      },
      "outputs": [
        {
          "output_type": "execute_result",
          "data": {
            "text/plain": [
              "torch.Size([512])"
            ]
          },
          "metadata": {},
          "execution_count": 10
        }
      ],
      "source": [
        "train_dataset[4]['input_ids'].shape"
      ]
    },
    {
      "cell_type": "code",
      "execution_count": 11,
      "id": "e3045a7c",
      "metadata": {
        "colab": {
          "base_uri": "https://localhost:8080/",
          "height": 107
        },
        "id": "e3045a7c",
        "outputId": "94b43c8a-9f39-460c-ef03-1d1dcb0acccd"
      },
      "outputs": [
        {
          "output_type": "execute_result",
          "data": {
            "text/plain": [
              "'what a refreshing change from the pg movies that have teen girls jumping in and out of bed , young high school boys counting how many girls they can \" hook up \" with , kids drinking , doing drugs , etc ., etc ., etc . carl h ia as en has written so many books that are enjoyable but hardly classic literature . but he has finally written something that middle school kids want to read . and this movie sends a message to kids that maybe they can make a difference , that maybe their voices can be heard . filmed in south florida , the scenery is beautiful and natural and real . who cares if its predictable , and a little corny . so was free willy and look how well that did . this is a good family movie . a rare breed .'"
            ],
            "application/vnd.google.colaboratory.intrinsic+json": {
              "type": "string"
            }
          },
          "metadata": {},
          "execution_count": 11
        }
      ],
      "source": [
        "batch_size= 32\n",
        "train_loader= DataLoader(\n",
        "    train_dataset,\n",
        "    batch_size= batch_size,\n",
        "    shuffle= True,\n",
        "    collate_fn= bpe_collate_fn\n",
        ")\n",
        "val_loader= DataLoader(\n",
        "    val_dataset,\n",
        "    batch_size= batch_size,\n",
        "    shuffle= False,\n",
        "    collate_fn= bpe_collate_fn\n",
        ")\n",
        "batch= next(iter(train_loader))\n",
        "input_ids= batch['input_ids']\n",
        "bpe_tokenizer.decode(input_ids[1].tolist())"
      ]
    },
    {
      "cell_type": "code",
      "execution_count": 12,
      "id": "0b150dcc",
      "metadata": {
        "id": "0b150dcc"
      },
      "outputs": [],
      "source": [
        "class BPELSTM(nn.Module):\n",
        "    def __init__(self,\n",
        "                 vocab_size,\n",
        "                 embedding_dim,\n",
        "                 hidden_dim,\n",
        "                 output_dim,\n",
        "                 n_layers,\n",
        "                 bidirectional,\n",
        "                 dropout):\n",
        "        super().__init__()\n",
        "\n",
        "        self.embedding= nn.Embedding(vocab_size, embedding_dim, padding_idx= 0)\n",
        "        self.lstm= nn.LSTM(\n",
        "            embedding_dim,\n",
        "            hidden_dim,\n",
        "            num_layers= n_layers,\n",
        "            bidirectional= bidirectional,\n",
        "            dropout= dropout if n_layers > 1 else 0,\n",
        "            batch_first= True\n",
        "        )\n",
        "\n",
        "        # Determine the direction multiplier\n",
        "        self.direction= 2 if bidirectional else 1\n",
        "\n",
        "        self.dropout= nn.Dropout(dropout)\n",
        "        self.fc= nn.Linear(hidden_dim * self.direction, output_dim)\n",
        "        self._init_weights()\n",
        "    def _init_weights(self):\n",
        "        for name, param in self.named_parameters():\n",
        "            if 'weight' in name:\n",
        "                if 'lstm.weight' in name and len(param.size()) >= 2:\n",
        "                    nn.init.orthogonal_(param)\n",
        "                elif 'embedding.weight' in name:\n",
        "                    nn.init.uniform_(param, -0.1, 0.1)\n",
        "                elif 'fc.weight' in name:\n",
        "                    nn.init.xavier_uniform_(param)\n",
        "            elif 'bias' in name:\n",
        "                nn.init.zeros_(param)\n",
        "\n",
        "    def forward(self, input_ids, attention_mask):\n",
        "\n",
        "        # Calculate actual sequence lengths from attention mask\n",
        "        text_lengths= attention_mask.sum(dim= 1)\n",
        "\n",
        "        # Embed the input\n",
        "        embedded= self.dropout(self.embedding(input_ids))\n",
        "\n",
        "        # Pack the sequence to handle var lengths\n",
        "        packed_embedded= nn.utils.rnn.pack_padded_sequence(\n",
        "            embedded, text_lengths.cpu(), batch_first= True, enforce_sorted= False\n",
        "        )\n",
        "\n",
        "        packed_output, (hidden, cell)= self.lstm(packed_embedded)\n",
        "\n",
        "        if self.lstm.bidirectional:\n",
        "            # Concatenate the final forward and backward hidden states\n",
        "            hidden= self.dropout(torch.cat((hidden[-2, :, :], hidden[-1, :, :]), dim= 1))\n",
        "        else:\n",
        "            hidden= self.dropout(hidden[-1, :, :])\n",
        "\n",
        "        output= self.fc(hidden)\n",
        "\n",
        "        return output"
      ]
    },
    {
      "cell_type": "code",
      "execution_count": 13,
      "id": "747a1293",
      "metadata": {
        "id": "747a1293"
      },
      "outputs": [],
      "source": [
        "def train_bpe_model(model, train_loader, val_loader, optimizer, criterion, scheduler, device, n_epochs= 10):\n",
        "\n",
        "    model.to(device)\n",
        "    train_losses= []\n",
        "    train_accuracies= []\n",
        "    val_losses= []\n",
        "    val_accuracies= []\n",
        "\n",
        "    # Early Stopping\n",
        "    best_val_accuracy= 0\n",
        "    min_delta= 0.2\n",
        "    patience= 3\n",
        "    epochs_with_no_improvement= 0\n",
        "\n",
        "    for epoch in range(1, n_epochs):\n",
        "        model.train()\n",
        "        train_loss= 0\n",
        "        all_predictions= []\n",
        "        all_labels= []\n",
        "        train_loss= 0\n",
        "\n",
        "        for batch in train_loader:\n",
        "\n",
        "            input_ids= batch['input_ids'].to(device)\n",
        "            attention_mask= batch['attention_mask'].to(device)\n",
        "            labels= batch['labels'].to(device)\n",
        "\n",
        "            optimizer.zero_grad()\n",
        "            predictions= model(input_ids, attention_mask).squeeze(1)\n",
        "            loss= criterion(predictions, labels.float())\n",
        "\n",
        "            loss.backward()\n",
        "            optimizer.step()\n",
        "\n",
        "            train_loss+= loss.item()\n",
        "            binary_preds= torch.round(torch.sigmoid(predictions))\n",
        "            binary_preds= binary_preds.detach()\n",
        "            all_predictions.extend(binary_preds.cpu().numpy())\n",
        "            all_labels.extend(labels.cpu().numpy())\n",
        "\n",
        "        avg_train_loss= train_loss / len(train_loader)\n",
        "        train_losses.append(avg_train_loss)\n",
        "\n",
        "        accuracy= accuracy_score(all_labels, all_predictions)\n",
        "        train_accuracies.append(accuracy)\n",
        "\n",
        "        model.eval()\n",
        "        val_loss= 0\n",
        "        all_predictions= []\n",
        "        all_labels= []\n",
        "\n",
        "        with torch.no_grad():\n",
        "            for batch in val_loader:\n",
        "                input_ids= batch['input_ids'].to(device)\n",
        "                attention_mask= batch['attention_mask'].to(device)\n",
        "                labels= batch['labels'].to(device)\n",
        "\n",
        "\n",
        "                predictions= model(input_ids, attention_mask).squeeze(1)\n",
        "                loss= criterion(predictions, labels.float())\n",
        "                val_loss+= loss.item()\n",
        "\n",
        "                binary_preds= torch.round(torch.sigmoid(predictions))\n",
        "                binary_preds= binary_preds.detach()\n",
        "                all_predictions.extend(binary_preds.cpu().numpy())\n",
        "                all_labels.extend(labels.cpu().numpy())\n",
        "\n",
        "            avg_val_loss= val_loss / len(val_loader)\n",
        "            val_losses.append(avg_val_loss)\n",
        "\n",
        "            accuracy= accuracy_score(all_labels, all_predictions)\n",
        "            val_accuracies.append(accuracy)\n",
        "            scheduler.step(avg_val_loss)\n",
        "\n",
        "        epochs= [e for e in range(1, epoch+1)]\n",
        "        print(f\"Epoch: {epoch}\")\n",
        "        print(f\"-\"*30)\n",
        "        print(f\"Train Loss: {avg_train_loss:.3f} | Train Accuracy: {100 * train_accuracies[-1]:.2f}%\")\n",
        "        print(f\"Val Loss: {avg_val_loss:.3f} | Val Accuracy: {100 * val_accuracies[-1]:.2f}%\")\n",
        "\n",
        "        if best_val_accuracy + min_delta < val_accuracies[-1]:\n",
        "            best_val_accuracy= val_accuracies[-1]\n",
        "            epochs_with_no_improvement= 0\n",
        "        else:\n",
        "            epochs_with_no_improvement+= 1\n",
        "        if epochs_with_no_improvement >= patience:\n",
        "            print(f\"Early stopping triggerred during epoch {epoch}, No improvement in {patience} epochs\")\n",
        "            break\n",
        "\n",
        "    print(\"=\"*80)\n",
        "    return {\n",
        "        'train_losses': train_losses,\n",
        "        'train_accuracies': train_accuracies,\n",
        "        'val_losses': val_losses,\n",
        "        'val_accuracies': val_accuracies,\n",
        "        'epochs': epochs\n",
        "    }"
      ]
    },
    {
      "cell_type": "code",
      "execution_count": 14,
      "id": "135e3706",
      "metadata": {
        "colab": {
          "base_uri": "https://localhost:8080/"
        },
        "id": "135e3706",
        "outputId": "1c29cb05-a5b3-4483-c2e3-04f4781a3dcf"
      },
      "outputs": [
        {
          "output_type": "stream",
          "name": "stdout",
          "text": [
            "Epoch: 1\n",
            "------------------------------\n",
            "Train Loss: 0.619 | Train Accuracy: 65.85%\n",
            "Val Loss: 0.671 | Val Accuracy: 56.37%\n",
            "Epoch: 2\n",
            "------------------------------\n",
            "Train Loss: 0.484 | Train Accuracy: 76.02%\n",
            "Val Loss: 0.281 | Val Accuracy: 88.81%\n",
            "Epoch: 3\n",
            "------------------------------\n",
            "Train Loss: 0.227 | Train Accuracy: 91.23%\n",
            "Val Loss: 0.241 | Val Accuracy: 90.20%\n",
            "Epoch: 4\n",
            "------------------------------\n",
            "Train Loss: 0.146 | Train Accuracy: 94.97%\n",
            "Val Loss: 0.244 | Val Accuracy: 90.54%\n",
            "Epoch: 5\n",
            "------------------------------\n",
            "Train Loss: 0.091 | Train Accuracy: 97.05%\n",
            "Val Loss: 0.296 | Val Accuracy: 90.34%\n",
            "Early stopping triggerred during epoch 5, No improvement in 3 epochs\n",
            "================================================================================\n"
          ]
        }
      ],
      "source": [
        "torch.manual_seed(42)\n",
        "EMBEDDING_DIM= 128\n",
        "HIDDEN_DIM= 256\n",
        "OUTPUT_DIM= 1\n",
        "N_LAYERS= 2\n",
        "BIDIRECTIONAL= True\n",
        "DROPOUT= 0.3\n",
        "LEARNING_RATE= 0.001\n",
        "\n",
        "\n",
        "model= BPELSTM(\n",
        "    vocab_size,\n",
        "    embedding_dim= EMBEDDING_DIM,\n",
        "    hidden_dim= HIDDEN_DIM,\n",
        "    output_dim= OUTPUT_DIM,\n",
        "    n_layers= N_LAYERS,\n",
        "    bidirectional= BIDIRECTIONAL,\n",
        "    dropout= DROPOUT\n",
        ")\n",
        "\n",
        "optimizer= torch.optim.Adam(model.parameters(), lr= LEARNING_RATE)\n",
        "scheduler= torch.optim.lr_scheduler.ReduceLROnPlateau(optimizer, mode= 'min', factor= 0.1, patience= 3)\n",
        "criterion= nn.BCEWithLogitsLoss()\n",
        "device= torch.device('cuda' if torch.cuda.is_available() else 'cpu')\n",
        "\n",
        "history= train_bpe_model(model, train_loader, val_loader, optimizer, criterion, scheduler, device)"
      ]
    },
    {
      "cell_type": "code",
      "execution_count": 15,
      "id": "55345d40",
      "metadata": {
        "colab": {
          "base_uri": "https://localhost:8080/",
          "height": 613
        },
        "id": "55345d40",
        "outputId": "80a50773-5e76-42b1-f2ca-7d3eab33f982"
      },
      "outputs": [
        {
          "output_type": "display_data",
          "data": {
            "text/plain": [
              "<Figure size 1600x700 with 2 Axes>"
            ],
            "image/png": "[encoded data removed]"
          },
          "metadata": {}
        }
      ],
      "source": [
        "fig, axes= plt.subplots(1, 2, figsize= (16, 7))\n",
        "\n",
        "axes[0].plot(history['epochs'], history['train_losses'], label= 'Train', alpha= 0.7)\n",
        "axes[0].plot(history['epochs'], history['val_losses'], label= 'Val', linewidth= 2)\n",
        "axes[0].grid(True)\n",
        "axes[0].set_xlabel('Epoch')\n",
        "axes[0].set_ylabel('Loss')\n",
        "axes[0].set_title('LSTM BPE Loss')\n",
        "axes[0].legend()\n",
        "\n",
        "axes[1].plot(history['epochs'], history['train_accuracies'], label= 'Train', alpha= 0.7)\n",
        "axes[1].plot(history['epochs'], history['val_accuracies'], label= 'Val', linewidth= 2)\n",
        "axes[1].grid(True)\n",
        "axes[1].set_xlabel('Epoch')\n",
        "axes[1].set_ylabel('Accuracy (%)')\n",
        "axes[1].set_title('LSTM BPE Accuracy')\n",
        "axes[1].legend()\n",
        "\n",
        "\n",
        "plt.tight_layout()\n",
        "plt.show()"
      ]
    },
    {
      "cell_type": "code",
      "source": [
        "torch.save(model.state_dict(), artifacts_dir+\"LSTM_BPE.pth\")"
      ],
      "metadata": {
        "id": "Ghing4jrT2b1"
      },
      "id": "Ghing4jrT2b1",
      "execution_count": 16,
      "outputs": []
    },
    {
      "cell_type": "code",
      "source": [
        "def predict_sentiment_bpe(review_text, model, tokenizer, device, max_length=512):\n",
        "    \"\"\"\n",
        "    Predict sentiment for a single review using BPE tokenization\n",
        "    \"\"\"\n",
        "    # Clean the text (using your clean_text function)\n",
        "    cleaned_text = clean_text(review_text)\n",
        "\n",
        "    # Tokenize with BPE\n",
        "    encoding = tokenizer.encode(cleaned_text)\n",
        "\n",
        "    # Get token IDs and attention mask\n",
        "    input_ids = encoding.ids\n",
        "    attention_mask = [1] * len(input_ids)\n",
        "\n",
        "    # Truncate if necessary\n",
        "    if len(input_ids) > max_length:\n",
        "        input_ids = input_ids[:max_length]\n",
        "        attention_mask = attention_mask[:max_length]\n",
        "\n",
        "    # Pad if necessary\n",
        "    padding_length = max_length - len(input_ids)\n",
        "    if padding_length > 0:\n",
        "        input_ids = input_ids + [tokenizer.token_to_id(\"[PAD]\")] * padding_length\n",
        "        attention_mask = attention_mask + [0] * padding_length\n",
        "\n",
        "    # Convert to tensors and add batch dimension\n",
        "    input_tensor = torch.tensor(input_ids, dtype=torch.long).unsqueeze(0).to(device)\n",
        "    attention_tensor = torch.tensor(attention_mask, dtype=torch.long).unsqueeze(0).to(device)\n",
        "\n",
        "    # Set model to evaluation mode\n",
        "    model.eval()\n",
        "\n",
        "    # Make prediction\n",
        "    with torch.no_grad():\n",
        "        output = model(input_tensor, attention_tensor)\n",
        "        probability = torch.sigmoid(output).item()\n",
        "        prediction = 1 if probability > 0.5 else 0\n",
        "\n",
        "    return prediction, probability"
      ],
      "metadata": {
        "id": "rNVcC3UaUGGI"
      },
      "id": "rNVcC3UaUGGI",
      "execution_count": 17,
      "outputs": []
    },
    {
      "cell_type": "code",
      "source": [
        "review= \"\"\"Just a sweet movie,\n",
        "\n",
        "which is lovely, with beautiful decors. Doesnt deserve the hate it received.\n",
        "\n",
        "Loved the animals and the songs. Gal Gadot is not great as queen. Rachel Zegler is good as always.\n",
        "\n",
        "The dwarfs are funny, with good jokes and lots of gimmicks. The 'prince' is a bit too goofy.\n",
        "\n",
        "His mixed band of merry men does not add much. The end scene was nice, could have been a bit longer.\n",
        "\n",
        "All together I really enjoyed it and can recommend it to many audiences of all ages.\n",
        "\n",
        "Go Watch out in the cinema, where the beautiful backgrounds will be extra great. A modern fairytale.\n",
        "\n",
        "The makers should be proud and ignore the haters.\"\"\"\n",
        "\n",
        "prediction, confidence = predict_sentiment_bpe(review, model, bpe_tokenizer, device)\n",
        "sentiment = \"Positive\" if prediction == 1 else \"Negative\"\n",
        "print(f\"Review : {review}\")\n",
        "print(f\"BPE LSTM Prediction: {sentiment} (Confidence: {confidence:.4f})\")"
      ],
      "metadata": {
        "colab": {
          "base_uri": "https://localhost:8080/"
        },
        "id": "aAKJUp1JUzSo",
        "outputId": "1144a804-6af6-4331-80a4-26311697f3eb"
      },
      "id": "aAKJUp1JUzSo",
      "execution_count": 18,
      "outputs": [
        {
          "output_type": "stream",
          "name": "stdout",
          "text": [
            "Review : Just a sweet movie, \n",
            "\n",
            "which is lovely, with beautiful decors. Doesnt deserve the hate it received.\n",
            "\n",
            "Loved the animals and the songs. Gal Gadot is not great as queen. Rachel Zegler is good as always.\n",
            "\n",
            "The dwarfs are funny, with good jokes and lots of gimmicks. The 'prince' is a bit too goofy.\n",
            "\n",
            "His mixed band of merry men does not add much. The end scene was nice, could have been a bit longer. \n",
            "\n",
            "All together I really enjoyed it and can recommend it to many audiences of all ages. \n",
            "\n",
            "Go Watch out in the cinema, where the beautiful backgrounds will be extra great. A modern fairytale. \n",
            "\n",
            "The makers should be proud and ignore the haters.\n",
            "BPE LSTM Prediction: Positive (Confidence: 0.9987)\n"
          ]
        }
      ]
    }
  ],
  "metadata": {
    "kernelspec": {
      "display_name": "Python 3",
      "name": "python3"
    },
    "language_info": {
      "codemirror_mode": {
        "name": "ipython",
        "version": 3
      },
      "file_extension": ".py",
      "mimetype": "text/x-python",
      "name": "python",
      "nbconvert_exporter": "python",
      "pygments_lexer": "ipython3",
      "version": "3.12.3"
    },
    "colab": {
      "provenance": [],
      "machine_shape": "hm",
      "gpuType": "L4"
    },
    "accelerator": "GPU"
  },
  "nbformat": 4,
  "nbformat_minor": 5
}