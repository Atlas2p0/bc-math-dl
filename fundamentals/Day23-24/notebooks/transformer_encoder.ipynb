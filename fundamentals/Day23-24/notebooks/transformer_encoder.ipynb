{
  "cells": [
    {
      "cell_type": "code",
      "execution_count": 55,
      "id": "ab695da6",
      "metadata": {
        "id": "ab695da6"
      },
      "outputs": [],
      "source": [
        "import pandas as pd\n",
        "import os\n",
        "from tokenizers import Tokenizer\n",
        "from tokenizers.models import BPE\n",
        "from tokenizers.trainers import BpeTrainer\n",
        "from tokenizers.pre_tokenizers import Whitespace\n",
        "from tokenizers.processors import TemplateProcessing\n",
        "from tokenizers import normalizers\n",
        "from tokenizers.normalizers import NFD, StripAccents, Lowercase\n",
        "import torch\n",
        "from torch.utils.data import Dataset, DataLoader\n",
        "from torch import nn\n",
        "from sklearn.model_selection import train_test_split\n",
        "from sklearn.metrics import accuracy_score\n",
        "import matplotlib.pyplot as plt\n",
        "import re\n",
        "import requests\n",
        "import random\n",
        "from functools import partial\n",
        "import math\n",
        "import matplotlib.pyplot as plt\n",
        "import numpy as np"
      ]
    },
    {
      "cell_type": "markdown",
      "id": "227ae906",
      "metadata": {
        "id": "227ae906"
      },
      "source": [
        "# Masked Language Modeling and Transformer related Code"
      ]
    },
    {
      "cell_type": "code",
      "execution_count": 56,
      "id": "615783aa",
      "metadata": {
        "id": "615783aa"
      },
      "outputs": [],
      "source": [
        "# Directories\n",
        "cwd= os.getcwd()\n",
        "data_dir= cwd + \"/data/\"\n",
        "artifacts_dir= cwd + \"/artifacts/\""
      ]
    },
    {
      "cell_type": "code",
      "execution_count": 57,
      "id": "ade703a0",
      "metadata": {
        "colab": {
          "base_uri": "https://localhost:8080/"
        },
        "id": "ade703a0",
        "outputId": "063e7e25-1948-4b17-bee8-0b25e4da3da1"
      },
      "outputs": [
        {
          "output_type": "stream",
          "name": "stdout",
          "text": [
            "Length of text: 1115394\n",
            "First 500 Chars\n",
            "\n",
            "==================================================\n",
            "\n",
            "Successfully saved corpus to: /content/data/corpus.txt\n",
            "File size: 1115394 bytes\n"
          ]
        }
      ],
      "source": [
        "url = \"https://raw.githubusercontent.com/karpathy/char-rnn/master/data/tinyshakespeare/input.txt\"\n",
        "response = requests.get(url)\n",
        "text = response.text\n",
        "\n",
        "if response.status_code == 200:\n",
        "    text = response.text\n",
        "    print(f\"Length of text: {len(text)}\")\n",
        "    print(\"First 500 Chars\")\n",
        "    print(\"\\n\" + \"=\" * 50 + \"\\n\")\n",
        "\n",
        "    corpus_path = os.path.join(data_dir, \"corpus.txt\")\n",
        "    with open(corpus_path, 'w', encoding='utf-8') as f:\n",
        "        f.write(text)\n",
        "\n",
        "    print(f\"Successfully saved corpus to: {corpus_path}\")\n",
        "    print(f\"File size: {os.path.getsize(corpus_path)} bytes\")\n",
        "\n",
        "else:\n",
        "    print(f\"Failed to download text. Status code: {response.status_code}\")\n"
      ]
    },
    {
      "cell_type": "code",
      "execution_count": 58,
      "id": "e76ae071",
      "metadata": {
        "id": "e76ae071"
      },
      "outputs": [],
      "source": [
        "with open(corpus_path, 'r', encoding= 'utf-8') as f:\n",
        "    text= f.read()\n",
        "\n",
        "texts= re.split(r'(?<=[.!?]) +', text)\n",
        "split_idx= int(0.9 * len(texts))\n",
        "train_sentences= texts[:split_idx]\n",
        "val_sentences= texts[split_idx:]"
      ]
    },
    {
      "cell_type": "code",
      "execution_count": 59,
      "id": "3b8aba2a",
      "metadata": {
        "id": "3b8aba2a"
      },
      "outputs": [],
      "source": [
        "def train_bpe_tokenizer(texts, vocab_size= 30000, min_frequency= 2):\n",
        "    # Initialize a tokenizer\n",
        "    tokenizer= Tokenizer(BPE(unk_token= '[UNK]'))\n",
        "    # Add normalizers\n",
        "    tokenizer.normalizer= normalizers.Sequence([NFD(), StripAccents(), Lowercase()])\n",
        "    # Use whitespace pre-tokenization\n",
        "    tokenizer.pre_tokenizer= Whitespace()\n",
        "    special_tokens= [\"[UNK]\", \"[PAD]\", \"[CLS]\", \"[SEP]\", \"[MASK]\"]\n",
        "    # Initialize trainer\n",
        "    trainer= BpeTrainer(\n",
        "        vocab_size= vocab_size,\n",
        "        special_tokens= special_tokens,\n",
        "        min_frequency= min_frequency,\n",
        "        show_progress= True\n",
        "    )\n",
        "\n",
        "    # Train the tokenizer\n",
        "    tokenizer.train_from_iterator(texts, trainer=trainer)\n",
        "\n",
        "    cls_id= tokenizer.token_to_id(\"[CLS]\")\n",
        "    sep_id= tokenizer.token_to_id(\"[SEP]\")\n",
        "\n",
        "    if cls_id is not None and sep_id is not None:\n",
        "\n",
        "        tokenizer.post_processor = TemplateProcessing(\n",
        "            single=\"[CLS] $A [SEP]\",\n",
        "            pair=\"[CLS] $A [SEP] $B:1 [SEP]:1\",\n",
        "            special_tokens=[\n",
        "                (\"[CLS]\", cls_id),\n",
        "                (\"[SEP]\", sep_id),\n",
        "            ],\n",
        "        )\n",
        "    else:\n",
        "        print(\"Warning: [CLS] or [SEP] tokens not found in vocabulary\")\n",
        "\n",
        "    return tokenizer"
      ]
    },
    {
      "cell_type": "code",
      "execution_count": 60,
      "id": "8da28383",
      "metadata": {
        "id": "8da28383"
      },
      "outputs": [],
      "source": [
        "tokenizer= train_bpe_tokenizer(train_sentences, vocab_size= 10000, min_frequency= 2)\n",
        "tokenizer.save(artifacts_dir+\"mlm_tokenizer.json\")"
      ]
    },
    {
      "cell_type": "code",
      "execution_count": 61,
      "id": "bbe1ff2c",
      "metadata": {
        "colab": {
          "base_uri": "https://localhost:8080/"
        },
        "id": "bbe1ff2c",
        "outputId": "54d1c6fd-198c-48a9-a348-57cb03cd8d5c"
      },
      "outputs": [
        {
          "output_type": "stream",
          "name": "stdout",
          "text": [
            "['[CLS]', 'to', 'be', ',', 'or', 'not', 'to', 'be', ':', 'that', 'is', 'the', 'question', '.', '[SEP]']\n",
            "[2, 57, 69, 9, 48, 91, 57, 69, 13, 81, 51, 47, 2356, 11, 3]\n"
          ]
        }
      ],
      "source": [
        "mlm_tokenizer= Tokenizer.from_file(artifacts_dir + \"mlm_tokenizer.json\")\n",
        "encoded= mlm_tokenizer.encode(\"To be, or not to be: That is the question.\")\n",
        "print(encoded.tokens)\n",
        "print(encoded.ids)"
      ]
    },
    {
      "cell_type": "code",
      "execution_count": 62,
      "id": "1344e26e",
      "metadata": {
        "colab": {
          "base_uri": "https://localhost:8080/"
        },
        "id": "1344e26e",
        "outputId": "79c9e611-3a05-4be5-e78d-745d44673308"
      },
      "outputs": [
        {
          "output_type": "execute_result",
          "data": {
            "text/plain": [
              "4"
            ]
          },
          "metadata": {},
          "execution_count": 62
        }
      ],
      "source": [
        "mask_token_id= mlm_tokenizer.token_to_id(\"[MASK]\")\n",
        "mask_token_id"
      ]
    },
    {
      "cell_type": "code",
      "execution_count": 63,
      "id": "6101622b",
      "metadata": {
        "colab": {
          "base_uri": "https://localhost:8080/"
        },
        "id": "6101622b",
        "outputId": "65048448-0a31-4480-99cd-a52accece8e3"
      },
      "outputs": [
        {
          "output_type": "stream",
          "name": "stdout",
          "text": [
            "Training tokens: 253249\n",
            "Val token ids: 20991\n"
          ]
        }
      ],
      "source": [
        "def tokenize_dataset(sentences, tokenizer):\n",
        "    all_token_ids= []\n",
        "    for sentence in sentences:\n",
        "        encoding= tokenizer.encode(sentence)\n",
        "        all_token_ids.extend(encoding.ids)\n",
        "    return all_token_ids\n",
        "\n",
        "train_token_ids= tokenize_dataset(train_sentences, tokenizer)\n",
        "val_token_ids= tokenize_dataset(val_sentences, tokenizer)\n",
        "\n",
        "print(f\"Training tokens: {len(train_token_ids)}\")\n",
        "print(f\"Val token ids: {len(val_token_ids)}\")"
      ]
    },
    {
      "cell_type": "code",
      "execution_count": 64,
      "id": "10cfe01e",
      "metadata": {
        "id": "10cfe01e"
      },
      "outputs": [],
      "source": [
        "class MLMShakespeareDataset(Dataset):\n",
        "    def __init__(self,\n",
        "                 sentences,\n",
        "                 tokenizer,\n",
        "                 max_length= 512):\n",
        "\n",
        "        self.tokenizer= tokenizer\n",
        "        self.max_length= max_length\n",
        "        self.mask_token_id= tokenizer.token_to_id(\"[MASK]\")\n",
        "        self.pad_token_id= tokenizer.token_to_id(\"[PAD]\")\n",
        "\n",
        "        self.sentences= sentences\n",
        "    def __len__(self):\n",
        "        return len(self.sentences)\n",
        "\n",
        "    def __getitem__(self, idx):\n",
        "        # Get the token IDs for the sentence\n",
        "        return self.sentences[idx]\n"
      ]
    },
    {
      "cell_type": "code",
      "execution_count": 65,
      "id": "3206cef6",
      "metadata": {
        "id": "3206cef6"
      },
      "outputs": [],
      "source": [
        "def custom_collate_fn(batch, tokenizer, max_length, mask_probability= 0.15):\n",
        "    mask_token_id= tokenizer.token_to_id(\"[MASK]\")\n",
        "    pad_token_id= tokenizer.token_to_id(\"[PAD]\")\n",
        "\n",
        "    special_token_ids= [tokenizer.token_to_id(\"[UNK]\"),\n",
        "                        pad_token_id,\n",
        "                        tokenizer.token_to_id(\"[CLS]\"),\n",
        "                        tokenizer.token_to_id(\"[SEP]\"),\n",
        "                        mask_token_id]\n",
        "\n",
        "    batch_input_ids= []\n",
        "    batch_labels= []\n",
        "    batch_attention_mask= []\n",
        "\n",
        "    for text in batch:\n",
        "        # 1. Tokenize text\n",
        "        encoding= tokenizer.encode(text)\n",
        "        token_ids= encoding.ids[:max_length] # Truncating\n",
        "\n",
        "        # 2. Init arrays for this sample\n",
        "        input_ids= token_ids.copy()\n",
        "        labels= [-100] * len(token_ids) # Using -100 to fill because it's ignored by PyTorch's CE Loss\n",
        "\n",
        "        # 3. Apply Masking (80/10/10 rule)\n",
        "        for i, token_id in enumerate(token_ids):\n",
        "            if token_id in special_token_ids:\n",
        "                continue\n",
        "            if random.random() < mask_probability:\n",
        "                labels[i]= token_id\n",
        "                rand= random.random()\n",
        "                if rand < 0.8:\n",
        "                    # 80%: mask token with mask_id\n",
        "                    input_ids[i]= mask_token_id\n",
        "                elif rand < 0.9:\n",
        "                    # 10%: Choose random token to hide current token\n",
        "                    all_vocab_ids= list(tokenizer.get_vocab().values())\n",
        "                    regular_ids= [id_ for id_ in all_vocab_ids if id_ not in special_token_ids]\n",
        "                    input_ids[i]= random.choice(regular_ids)\n",
        "                # else: 10% leave unchanged input_ids[i] is already token_id (original token)\n",
        "\n",
        "        batch_input_ids.append(input_ids)\n",
        "        batch_labels.append(labels)\n",
        "        # Actual length of this seq before padding\n",
        "        batch_attention_mask.append([1] * len(token_ids))\n",
        "\n",
        "    # 4. Pad the batch to the longest seq in this batch (or max_len)\n",
        "    # Find max length in current batch\n",
        "    batch_max_len= max(len(ids) for ids in batch_input_ids)\n",
        "    batch_max_len= min(batch_max_len, max_length)\n",
        "    padded_input_ids= []\n",
        "    padded_labels= []\n",
        "    padded_attention_mask= []\n",
        "\n",
        "    for i in range(len(batch)):\n",
        "        ids= batch_input_ids[i]\n",
        "        lbls= batch_labels[i]\n",
        "        mask= batch_attention_mask[i]\n",
        "\n",
        "        # How much padding do we need?\n",
        "        padding_length= batch_max_len - len(ids)\n",
        "\n",
        "        # Pad seqs\n",
        "        padded_input_ids.append(ids + [pad_token_id] * padding_length)\n",
        "        padded_labels.append(lbls + [-100] * padding_length) # Pad labels with -100\n",
        "        padded_attention_mask.append(mask + [0] * padding_length) # Pad mask with 0s\n",
        "    # 5. Convert to tensors and ret\n",
        "    return {\n",
        "        'input_ids': torch.tensor(padded_input_ids, dtype= torch.long),\n",
        "        'labels': torch.tensor(padded_labels, dtype= torch.long),\n",
        "        'attention_mask': torch.tensor(padded_attention_mask, dtype= torch.long)\n",
        "    }\n"
      ]
    },
    {
      "cell_type": "code",
      "execution_count": 66,
      "id": "cee96ed6",
      "metadata": {
        "id": "cee96ed6"
      },
      "outputs": [],
      "source": [
        "# Get the special token IDs from your trained tokenizer\n",
        "mask_token_id = tokenizer.token_to_id(\"[MASK]\") # e.g., 4\n",
        "pad_token_id = tokenizer.token_to_id(\"[PAD]\")   # e.g., 1\n",
        "\n",
        "# Create the datasets\n",
        "mlm_train_dataset = MLMShakespeareDataset(train_sentences, mlm_tokenizer)\n",
        "mlm_val_dataset = MLMShakespeareDataset(val_sentences, mlm_tokenizer)\n",
        "\n",
        "# Create DataLoaders\n",
        "mlm_train_loader= DataLoader(mlm_train_dataset, batch_size= 32, shuffle= True,\n",
        "                         collate_fn= partial(\n",
        "                             custom_collate_fn,\n",
        "                             tokenizer= mlm_tokenizer,\n",
        "                             max_length= 512,\n",
        "                             mask_probability= 0.15)\n",
        "                             )\n",
        "mlm_val_loader= DataLoader(mlm_val_dataset, batch_size= 32, shuffle= True,\n",
        "                         collate_fn= partial(\n",
        "                             custom_collate_fn,\n",
        "                             tokenizer= mlm_tokenizer,\n",
        "                             max_length= 512,\n",
        "                             mask_probability= 0.15)\n",
        "                             )"
      ]
    },
    {
      "cell_type": "code",
      "execution_count": 67,
      "id": "b2a7f330",
      "metadata": {
        "colab": {
          "base_uri": "https://localhost:8080/",
          "height": 35
        },
        "id": "b2a7f330",
        "outputId": "3fc7d208-53ff-4279-bd1a-9ccc90879125"
      },
      "outputs": [
        {
          "output_type": "execute_result",
          "data": {
            "text/plain": [
              "'thou see thing undo on when thou art dead and rotten , come hither .'"
            ],
            "application/vnd.google.colaboratory.intrinsic+json": {
              "type": "string"
            }
          },
          "metadata": {},
          "execution_count": 67
        }
      ],
      "source": [
        "batch= next(iter(mlm_train_loader))\n",
        "mlm_tokenizer.decode(batch['input_ids'][5].tolist())"
      ]
    },
    {
      "cell_type": "code",
      "execution_count": 68,
      "id": "378cea27",
      "metadata": {
        "id": "378cea27"
      },
      "outputs": [],
      "source": [
        "class PositionalEncoding(nn.Module):\n",
        "    def __init__(self, d_model, max_len= 512):\n",
        "        super().__init__()\n",
        "        # Create a long enough positional encoding mat\n",
        "        pe= torch.zeros(max_len, d_model)\n",
        "        position= torch.arange(0, max_len, dtype= torch.float).unsqueeze(1)\n",
        "        div_term= torch.exp(torch.arange(0, d_model, 2).float() * (-math.log(10000.0) / d_model))\n",
        "\n",
        "        pe[:, 0::2]= torch.sin(position * div_term)\n",
        "        pe[:, 1::2]= torch.cos(position * div_term)\n",
        "\n",
        "        # Register as a buffer (not a param)\n",
        "        self.register_buffer('pe', pe.unsqueeze(0))\n",
        "\n",
        "    def forward(self, x):\n",
        "        return x + self.pe[:, :x.size(1)]\n",
        "\n",
        "class TinyTransformerMLM(nn.Module):\n",
        "    def __init__(self,\n",
        "                 vocab_size,\n",
        "                 d_model= 512,\n",
        "                 nhead= 4,\n",
        "                 num_layers= 2,\n",
        "                 dim_feedforward= 512,\n",
        "                 dropout= 0.3,\n",
        "                 max_seq_len= 512):\n",
        "\n",
        "        super().__init__()\n",
        "        self.d_model= d_model\n",
        "        self.token_embedding= nn.Embedding(vocab_size, d_model)\n",
        "        self.positional_encoding= PositionalEncoding(d_model, max_seq_len)\n",
        "        self.dropout= nn.Dropout()\n",
        "\n",
        "        # Transformer encoder layers\n",
        "        encoder_layer= nn.TransformerEncoderLayer(\n",
        "            d_model= d_model,\n",
        "            nhead= nhead,\n",
        "            dim_feedforward= dim_feedforward,\n",
        "            dropout= dropout,\n",
        "            activation= 'gelu',\n",
        "            batch_first= True\n",
        "        )\n",
        "\n",
        "        self.transformer_encoder= nn.TransformerEncoder(\n",
        "            encoder_layer,\n",
        "            num_layers= num_layers\n",
        "        )\n",
        "\n",
        "        # Output  layer for vocab pred\n",
        "        self.output_layer= nn.Linear(d_model, vocab_size)\n",
        "\n",
        "        self._init_weights()\n",
        "    def _init_weights(self):\n",
        "        # Initialize embedding weights\n",
        "        nn.init.normal_(self.token_embedding.weight, mean= 0.0, std= 0.02)\n",
        "\n",
        "        # Initialize output layer weights\n",
        "        nn.init.normal_(self.output_layer.weight, mean= 0.0, std= 0.02)\n",
        "        nn.init.zeros_(self.output_layer.bias)\n",
        "\n",
        "        # Will use PyTorch defaults for transformer weights\n",
        "\n",
        "    def forward(self, input_ids, attention_mask):\n",
        "        # Create embeddings\n",
        "        token_embeddings= self.token_embedding(input_ids)\n",
        "\n",
        "        # Scale embeddings\n",
        "        token_embeddings*= math.sqrt(self.d_model)\n",
        "\n",
        "        # Add pos encoding\n",
        "        token_embeddings= self.positional_encoding(token_embeddings)\n",
        "\n",
        "        # Apply dropout\n",
        "        token_embeddings= self.dropout(token_embeddings)\n",
        "\n",
        "        # Create mask for transformer\n",
        "        # Transformer expects mask where 0 means \"attend\" and 1 means \"don't attend\"\n",
        "        # Our attention_mask is 1 for real tokens and 0 for padding\n",
        "        # So we need to invert it: padding_mask = (attention_mask == 0)\n",
        "        padding_mask= (attention_mask == 0)\n",
        "\n",
        "        # Pass through transformer encoder\n",
        "        encoder_output= self.transformer_encoder(\n",
        "            src= token_embeddings,\n",
        "            src_key_padding_mask= padding_mask\n",
        "        )\n",
        "        # Project to vocab\n",
        "        logits= self.output_layer(encoder_output)\n",
        "        return logits"
      ]
    },
    {
      "cell_type": "code",
      "execution_count": 69,
      "id": "0393e94b",
      "metadata": {
        "id": "0393e94b"
      },
      "outputs": [],
      "source": [
        "def train_transformer(model, train_loader, val_loader,\n",
        "                      optimizer, criterion, scheduler, device, num_epochs):\n",
        "    model= model.to(device)\n",
        "\n",
        "    train_losses= []\n",
        "    train_perplexity_history= []\n",
        "    val_losses= []\n",
        "    val_perplexity_history= []\n",
        "\n",
        "    # Early Stopping\n",
        "    best_val_loss= float('inf')\n",
        "    patience= 5\n",
        "    epochs_with_no_improvement= 0\n",
        "\n",
        "    for epoch in range(1, num_epochs + 1):\n",
        "\n",
        "        model.train()\n",
        "        # Metrics Tracking\n",
        "        train_loss= 0\n",
        "        total_correct= 0\n",
        "        total_masked_tokens= 0\n",
        "\n",
        "        for batch in train_loader:\n",
        "            input_ids= batch['input_ids'].to(device)\n",
        "            labels= batch['labels'].to(device)\n",
        "            attention_mask= batch['attention_mask'].to(device)\n",
        "\n",
        "            optimizer.zero_grad()\n",
        "            logits= model(input_ids, attention_mask)\n",
        "\n",
        "            # Calculate loss only on masked tokens\n",
        "            loss= criterion(logits.view(-1, logits.size(-1)), labels.view(-1))\n",
        "            loss.backward()\n",
        "            # Gradient clipping\n",
        "            torch.nn.utils.clip_grad_norm_(model.parameters(), max_norm= 1.0)\n",
        "            optimizer.step()\n",
        "\n",
        "            train_loss+= loss.item()\n",
        "\n",
        "\n",
        "        # Log History\n",
        "        avg_train_loss= train_loss / len(train_loader)\n",
        "        train_losses.append(avg_train_loss)\n",
        "\n",
        "        train_perplexity= torch.exp(torch.tensor(avg_train_loss)).item()\n",
        "        train_perplexity_history.append(train_perplexity)\n",
        "\n",
        "        # Eval and Eval Metrics\n",
        "        model.eval()\n",
        "        val_loss= 0\n",
        "\n",
        "        with torch.no_grad():\n",
        "            for batch in val_loader:\n",
        "                input_ids= batch['input_ids'].to(device)\n",
        "                labels= batch['labels'].to(device)\n",
        "                attention_mask= batch['attention_mask'].to(device)\n",
        "\n",
        "                logits= model(input_ids, attention_mask)\n",
        "                loss= criterion(logits.view(-1, logits.size(-1)), labels.view(-1))\n",
        "                val_loss+= loss.item()\n",
        "\n",
        "            avg_val_loss= val_loss / len(val_loader)\n",
        "            val_losses.append(avg_val_loss)\n",
        "\n",
        "            val_perplexity= torch.exp(torch.tensor(avg_val_loss)).item()\n",
        "            val_perplexity_history.append(val_perplexity)\n",
        "            scheduler.step(avg_val_loss)\n",
        "\n",
        "        epochs= list(range(1, epoch+1))\n",
        "        print(f\"Epoch: {epoch}\")\n",
        "        print(f\"-\"*30)\n",
        "        print(f\"Train Loss: {avg_train_loss:.3f} | Train Perplexity: {train_perplexity:.4f}\")\n",
        "        print(f\"Val Loss: {avg_val_loss:.3f} | Val Perplexity: {val_perplexity:.4f}\")\n",
        "\n",
        "        if best_val_loss > avg_val_loss:\n",
        "            best_val_loss= avg_val_loss\n",
        "            epochs_with_no_improvement= 0\n",
        "        else:\n",
        "            epochs_with_no_improvement+= 1\n",
        "        if epochs_with_no_improvement >= patience:\n",
        "            print(f\"Early stopping triggered during epoch {epoch}, No substantial improvements in {patience} epochs\")\n",
        "            break\n",
        "\n",
        "    print(\"=\"* 80)\n",
        "    return {\n",
        "        \"train_losses\": train_losses,\n",
        "        \"train_perplexities\": train_perplexity_history,\n",
        "        \"val_losses\": val_losses,\n",
        "        \"val_perplexities\": val_perplexity_history,\n",
        "        \"epochs\": epochs\n",
        "    }"
      ]
    },
    {
      "cell_type": "code",
      "execution_count": 70,
      "id": "7ecf258e",
      "metadata": {
        "colab": {
          "base_uri": "https://localhost:8080/"
        },
        "id": "7ecf258e",
        "outputId": "4179f514-1b3a-4183-9953-ba3b35b03fe2"
      },
      "outputs": [
        {
          "output_type": "stream",
          "name": "stdout",
          "text": [
            "Epoch: 1\n",
            "------------------------------\n",
            "Train Loss: 6.660 | Train Perplexity: 780.7671\n",
            "Val Loss: 6.559 | Val Perplexity: 705.5389\n",
            "Epoch: 2\n",
            "------------------------------\n",
            "Train Loss: 6.340 | Train Perplexity: 566.8170\n",
            "Val Loss: 6.521 | Val Perplexity: 679.1060\n",
            "Epoch: 3\n",
            "------------------------------\n",
            "Train Loss: 6.220 | Train Perplexity: 502.7715\n",
            "Val Loss: 6.258 | Val Perplexity: 522.3167\n",
            "Epoch: 4\n",
            "------------------------------\n",
            "Train Loss: 6.067 | Train Perplexity: 431.3050\n",
            "Val Loss: 6.177 | Val Perplexity: 481.6113\n",
            "Epoch: 5\n",
            "------------------------------\n",
            "Train Loss: 5.978 | Train Perplexity: 394.5168\n",
            "Val Loss: 6.187 | Val Perplexity: 486.2845\n",
            "Epoch: 6\n",
            "------------------------------\n",
            "Train Loss: 5.946 | Train Perplexity: 382.1956\n",
            "Val Loss: 6.091 | Val Perplexity: 441.9143\n",
            "Epoch: 7\n",
            "------------------------------\n",
            "Train Loss: 5.862 | Train Perplexity: 351.3663\n",
            "Val Loss: 6.021 | Val Perplexity: 411.7990\n",
            "Epoch: 8\n",
            "------------------------------\n",
            "Train Loss: 5.847 | Train Perplexity: 346.3059\n",
            "Val Loss: 5.939 | Val Perplexity: 379.7341\n",
            "Epoch: 9\n",
            "------------------------------\n",
            "Train Loss: 5.793 | Train Perplexity: 328.0932\n",
            "Val Loss: 6.077 | Val Perplexity: 435.6755\n",
            "Epoch: 10\n",
            "------------------------------\n",
            "Train Loss: 5.800 | Train Perplexity: 330.2665\n",
            "Val Loss: 5.958 | Val Perplexity: 386.8239\n",
            "Epoch: 11\n",
            "------------------------------\n",
            "Train Loss: 5.762 | Train Perplexity: 317.9990\n",
            "Val Loss: 5.989 | Val Perplexity: 398.9383\n",
            "Epoch: 12\n",
            "------------------------------\n",
            "Train Loss: 5.714 | Train Perplexity: 302.9303\n",
            "Val Loss: 6.020 | Val Perplexity: 411.3781\n",
            "Epoch: 13\n",
            "------------------------------\n",
            "Train Loss: 5.684 | Train Perplexity: 294.2494\n",
            "Val Loss: 6.040 | Val Perplexity: 419.9072\n",
            "Early stopping triggered during epoch 13, No substantial improvements in 5 epochs\n",
            "================================================================================\n"
          ]
        }
      ],
      "source": [
        "torch.manual_seed(42)\n",
        "mlm_vocab_size= mlm_tokenizer.get_vocab_size()\n",
        "transformer_model= TinyTransformerMLM(vocab_size= mlm_vocab_size)\n",
        "LEARNING_RATE= 5e-4\n",
        "NUM_EPOCHS= 30\n",
        "transformer_optim= torch.optim.Adam(transformer_model.parameters(), lr= LEARNING_RATE)\n",
        "transformer_scheduler= torch.optim.lr_scheduler.ReduceLROnPlateau(transformer_optim, mode= 'min', factor= 0.2, patience= 5)\n",
        "criterion= nn.CrossEntropyLoss(ignore_index= -100)\n",
        "device= torch.device('cuda' if torch.cuda.is_available() else 'cpu')\n",
        "transformer_history= train_transformer(transformer_model, mlm_train_loader, mlm_val_loader,\n",
        "                  transformer_optim, criterion, transformer_scheduler, device,\n",
        "                  num_epochs= NUM_EPOCHS)\n"
      ]
    },
    {
      "cell_type": "markdown",
      "id": "5af566be",
      "metadata": {
        "id": "5af566be"
      },
      "source": [
        "# Causal LM and baseline LSTM"
      ]
    },
    {
      "cell_type": "code",
      "execution_count": 71,
      "id": "1649166b",
      "metadata": {
        "colab": {
          "base_uri": "https://localhost:8080/"
        },
        "id": "1649166b",
        "outputId": "f899bd8c-0336-4528-c4b4-706f175e371c"
      },
      "outputs": [
        {
          "output_type": "stream",
          "name": "stdout",
          "text": [
            "Total lines: 40000\n",
            "Train lines: 36000\n",
            "Val lines: 4000\n"
          ]
        }
      ],
      "source": [
        "with open(data_dir+\"corpus.txt\", 'r', encoding= 'utf-8') as f:\n",
        "    full_text= f.read()\n",
        "\n",
        "all_lines= full_text.splitlines()\n",
        "\n",
        "# Perform Data Splitting\n",
        "split_idx= int(0.9 * len(all_lines))\n",
        "train_lines= all_lines[:split_idx]\n",
        "val_lines= all_lines[split_idx:]\n",
        "\n",
        "print(f\"Total lines: {len(all_lines)}\")\n",
        "print(f\"Train lines: {len(train_lines)}\")\n",
        "print(f\"Val lines: {len(val_lines)}\")"
      ]
    },
    {
      "cell_type": "code",
      "execution_count": 72,
      "id": "63d8539b",
      "metadata": {
        "id": "63d8539b"
      },
      "outputs": [],
      "source": [
        "causal_tokenizer= train_bpe_tokenizer(train_lines, vocab_size= 10000, min_frequency= 2)\n",
        "causal_tokenizer.save(artifacts_dir + \"causal_tokenizer.json\")\n",
        "\n",
        "# Write splits into files\n",
        "with open(data_dir + \"train_split.txt\", 'w', encoding= 'utf-8') as f:\n",
        "    f.write(\"\\n\".join(train_lines))\n",
        "with open(data_dir + \"val_split.txt\", 'w', encoding= 'utf-8') as f:\n",
        "    f.write(\"\\n\".join(val_lines))"
      ]
    },
    {
      "cell_type": "code",
      "execution_count": 73,
      "id": "9b4df9ab",
      "metadata": {
        "id": "9b4df9ab"
      },
      "outputs": [],
      "source": [
        "class CausalShakespeareDataset(Dataset):\n",
        "    def __init__(\n",
        "            self,\n",
        "            corpus_path,\n",
        "            tokenizer_path,\n",
        "            sequence_length= 256,\n",
        "            stride= 64\n",
        "    ):\n",
        "        super().__init__()\n",
        "        self.corpus_path= corpus_path\n",
        "        self.tokenizer_path= tokenizer_path\n",
        "        self.sequence_length= sequence_length\n",
        "        self.stride= stride\n",
        "\n",
        "        # Load BPE tokenizer\n",
        "        self.tokenizer= Tokenizer.from_file(tokenizer_path)\n",
        "        self.vocab_size= self.tokenizer.get_vocab_size()\n",
        "\n",
        "        # Tokenizing the raw text corpus\n",
        "        with open(corpus_path, 'r', encoding= 'utf-8') as f:\n",
        "            self.raw_text= f.read()\n",
        "\n",
        "        encoding= self.tokenizer.encode(self.raw_text)\n",
        "        self.tokens= encoding.ids\n",
        "\n",
        "        # Create sequences for training\n",
        "        self.sequences= self._create_sequences()\n",
        "\n",
        "        # Show a sample of tokenization for sanity checking\n",
        "        self._show_tokenization_sample()\n",
        "\n",
        "    def _create_sequences(self):\n",
        "        sequences= []\n",
        "        start= 0\n",
        "        while start + self.sequence_length <= len(self.tokens):\n",
        "            sequence= self.tokens[start:start+self.sequence_length]\n",
        "            sequences.append(sequence)\n",
        "            start+= self.stride\n",
        "        return sequences\n",
        "\n",
        "    def _show_tokenization_sample(self):\n",
        "        print(f\"Tokenization Sample (Seq Len: {self.sequence_length})\")\n",
        "        sample_text= \"All the world's a stage, and all the\"\n",
        "        encoding= self.tokenizer.encode(sample_text)\n",
        "        sample_tokens= encoding.tokens\n",
        "        sample_ids= encoding.ids\n",
        "        print(\"Raw Text\")\n",
        "        print(f\"'{sample_text}'\")\n",
        "        print(\"Tokenized:\")\n",
        "        print(sample_tokens)\n",
        "        print(\"Token IDs: \")\n",
        "        print(sample_ids)\n",
        "    def __len__(self):\n",
        "        return len(self.sequences)\n",
        "    def __getitem__(self, idx):\n",
        "        sequence= self.sequences[idx]\n",
        "        input_seq= torch.tensor(sequence[:-1], dtype= torch.long)\n",
        "        target_seq= torch.tensor(sequence[1:], dtype= torch.long)\n",
        "        return {\n",
        "            'input_ids': input_seq,\n",
        "            'labels': target_seq\n",
        "        }\n",
        "    def get_tokenize(self):\n",
        "        return self.tokenizer"
      ]
    },
    {
      "cell_type": "code",
      "execution_count": 74,
      "id": "07b635a6",
      "metadata": {
        "id": "07b635a6"
      },
      "outputs": [],
      "source": [
        "class LSTM(nn.Module):\n",
        "    def __init__(\n",
        "            self,\n",
        "            vocab_size,\n",
        "            embedding_dim,\n",
        "            hidden_dim,\n",
        "            n_layers,\n",
        "            dropout\n",
        "    ):\n",
        "        super().__init__()\n",
        "        self.embedding= nn.Embedding(vocab_size, embedding_dim)\n",
        "        self.lstm= nn.LSTM(\n",
        "            embedding_dim,\n",
        "            hidden_dim,\n",
        "            num_layers= n_layers,\n",
        "            dropout= dropout,\n",
        "            batch_first= True\n",
        "        )\n",
        "        self.fc= nn.Linear(hidden_dim, vocab_size)\n",
        "        self.dropout= nn.Dropout(dropout)\n",
        "    def forward(self, x, hidden= None):\n",
        "        embedded= self.dropout(self.embedding(x))\n",
        "        output, hidden= self.lstm(embedded, hidden)\n",
        "        output= self.dropout(output)\n",
        "        logits= self.fc(output)\n",
        "        return logits, hidden"
      ]
    },
    {
      "cell_type": "code",
      "execution_count": 75,
      "id": "c159a5cc",
      "metadata": {
        "colab": {
          "base_uri": "https://localhost:8080/"
        },
        "id": "c159a5cc",
        "outputId": "ab57b5a2-5212-4424-db9b-b34ec811b82f"
      },
      "outputs": [
        {
          "output_type": "stream",
          "name": "stdout",
          "text": [
            "Tokenization Sample (Seq Len: 256)\n",
            "Raw Text\n",
            "'All the world's a stage, and all the'\n",
            "Tokenized:\n",
            "['[CLS]', 'all', 'the', 'world', \"'\", 's', 'a', 'stage', ',', 'and', 'all', 'the', '[SEP]']\n",
            "Token IDs: \n",
            "[2, 116, 47, 531, 8, 34, 16, 5917, 9, 55, 116, 47, 3]\n",
            "Tokenization Sample (Seq Len: 256)\n",
            "Raw Text\n",
            "'All the world's a stage, and all the'\n",
            "Tokenized:\n",
            "['[CLS]', 'all', 'the', 'world', \"'\", 's', 'a', 'stage', ',', 'and', 'all', 'the', '[SEP]']\n",
            "Token IDs: \n",
            "[2, 116, 47, 531, 8, 34, 16, 5917, 9, 55, 116, 47, 3]\n"
          ]
        },
        {
          "output_type": "execute_result",
          "data": {
            "text/plain": [
              "{'input_ids': tensor([   2,  290,  546,   13,  465,   85, 1561,  396, 1477,    9,  363,   60,\n",
              "          317,   11,  116,   13,  317,    9,  317,   11,  290,  546,   13,   59,\n",
              "          138,  116, 2525,  934,   57,  583,  197,   57, 6614,   15,  116,   13,\n",
              "         2525,   11, 2525,   11,  290,  546,   13,  290,    9,   59,  229, 2298,\n",
              "          627,   51, 2080, 1313,   57,   47,  728,   11,  116,   13,   85,  229,\n",
              "            8,   35,    9,   85,  229,    8,   35,   11,  290,  546,   13,  172,\n",
              "           88,  758,  124,    9,   55,   85,    8,   56,  117, 1217,   53,  104,\n",
              "          294, 3947,   11,   51,    8,   35,   16, 6069,   15,  116,   13,   61,\n",
              "          201, 7833,   52,    8,   35,   14,  172,   72,   69,  442,   13,  486,\n",
              "            9,  486,    5,  472,  546,   13,  146,  332,    9,  178, 1346,   11,\n",
              "          290,  546,   13,   85,  138, 8287,  512, 1346,    9,   47, 3247,  178,\n",
              "           11,  131, 2656, 8067,   52,  207, 8782,   88,   13,  156,  217,  207,\n",
              "         1008,   88,  110,   47, 8756,    9,  745,   72,  251, 3468,    9,   85,\n",
              "          565, 2083,  217, 5953,  415,   88, 3241, 2351,   14,  110,  217,  337,\n",
              "           85,  138,  312,  624,   13,   47, 6674,   81, 2883, 4667,   88,    9,\n",
              "           47, 3688,   64,  104, 3003,    9,   51,   79,   44, 4546,  801,   57,\n",
              "         3075,  424,  228, 7672,   14,  104, 4860,   51,   16, 1356,   57,  220,\n",
              "          172,   88, 1283,  112,   95,  104, 6318,    9,   87,   85, 1401, 7374,\n",
              "           13,   77,   47, 1058,  229,   24,  317,  112,   46, 5508,   77, 3931,\n",
              "            9,   91,   46, 5631,   77, 1283,   11,  472,  546,   13,  207,   59,\n",
              "         1561, 5745,  510, 2298,  627,   15,  116,   13,  510,  124,  290,   13,\n",
              "           66,    8,   34]),\n",
              " 'labels': tensor([ 290,  546,   13,  465,   85, 1561,  396, 1477,    9,  363,   60,  317,\n",
              "           11,  116,   13,  317,    9,  317,   11,  290,  546,   13,   59,  138,\n",
              "          116, 2525,  934,   57,  583,  197,   57, 6614,   15,  116,   13, 2525,\n",
              "           11, 2525,   11,  290,  546,   13,  290,    9,   59,  229, 2298,  627,\n",
              "           51, 2080, 1313,   57,   47,  728,   11,  116,   13,   85,  229,    8,\n",
              "           35,    9,   85,  229,    8,   35,   11,  290,  546,   13,  172,   88,\n",
              "          758,  124,    9,   55,   85,    8,   56,  117, 1217,   53,  104,  294,\n",
              "         3947,   11,   51,    8,   35,   16, 6069,   15,  116,   13,   61,  201,\n",
              "         7833,   52,    8,   35,   14,  172,   72,   69,  442,   13,  486,    9,\n",
              "          486,    5,  472,  546,   13,  146,  332,    9,  178, 1346,   11,  290,\n",
              "          546,   13,   85,  138, 8287,  512, 1346,    9,   47, 3247,  178,   11,\n",
              "          131, 2656, 8067,   52,  207, 8782,   88,   13,  156,  217,  207, 1008,\n",
              "           88,  110,   47, 8756,    9,  745,   72,  251, 3468,    9,   85,  565,\n",
              "         2083,  217, 5953,  415,   88, 3241, 2351,   14,  110,  217,  337,   85,\n",
              "          138,  312,  624,   13,   47, 6674,   81, 2883, 4667,   88,    9,   47,\n",
              "         3688,   64,  104, 3003,    9,   51,   79,   44, 4546,  801,   57, 3075,\n",
              "          424,  228, 7672,   14,  104, 4860,   51,   16, 1356,   57,  220,  172,\n",
              "           88, 1283,  112,   95,  104, 6318,    9,   87,   85, 1401, 7374,   13,\n",
              "           77,   47, 1058,  229,   24,  317,  112,   46, 5508,   77, 3931,    9,\n",
              "           91,   46, 5631,   77, 1283,   11,  472,  546,   13,  207,   59, 1561,\n",
              "         5745,  510, 2298,  627,   15,  116,   13,  510,  124,  290,   13,   66,\n",
              "            8,   34,   16])}"
            ]
          },
          "metadata": {},
          "execution_count": 75
        }
      ],
      "source": [
        "causal_train_dataset= CausalShakespeareDataset(\n",
        "    corpus_path= data_dir + \"train_split.txt\",\n",
        "    tokenizer_path= artifacts_dir + \"causal_tokenizer.json\",\n",
        "    sequence_length= 256,\n",
        "    stride= 64\n",
        ")\n",
        "causal_val_dataset= CausalShakespeareDataset(\n",
        "    corpus_path= data_dir + \"val_split.txt\",\n",
        "    tokenizer_path= artifacts_dir + \"causal_tokenizer.json\",\n",
        "    sequence_length= 256,\n",
        "    stride= 64\n",
        ")\n",
        "\n",
        "causal_train_dataset[0]"
      ]
    },
    {
      "cell_type": "code",
      "execution_count": 76,
      "id": "5adf9050",
      "metadata": {
        "colab": {
          "base_uri": "https://localhost:8080/",
          "height": 142
        },
        "id": "5adf9050",
        "outputId": "d4e38eea-ca41-4d30-e362-a948905cbde8"
      },
      "outputs": [
        {
          "output_type": "execute_result",
          "data": {
            "text/plain": [
              "\", not afeard ; delay ' d , but nothing alter ' d : what i was , i am ; more straining on for pl uc king back , not following my leash un willingly . camillo : gracious my lord , you know your father ' s temper : at this time he will allow no speech , which i do guess you do not purpose to him ; and as hardly will he endure your sight as yet , i fear : then , till the fury of his highness set tle , come not before him . florizel : i not purpose it . i think , camillo ? camillo : even he , my lord . perdita : how often have i told you ' twould be thus ! how often said , my dignity would last but till ' twere known ! florizel : it cannot fail but by the violation of my faith ; and then let nature crush the sides o ' the earth together and mar the seeds within ! lift up thy looks : from my succession wipe me , father ; i am heir to my affection . camillo : be advised . florizel : i am , and by my fancy : if my reason will thereto be obedient , i have reason ; if not , my senses , better pleased with madness , do bid it welcome . camillo : this is desperate , sir . florizel : so call it\""
            ],
            "application/vnd.google.colaboratory.intrinsic+json": {
              "type": "string"
            }
          },
          "metadata": {},
          "execution_count": 76
        }
      ],
      "source": [
        "causal_train_loader= DataLoader(causal_train_dataset, batch_size= 32, shuffle= True)\n",
        "causal_val_loader= DataLoader(causal_val_dataset, batch_size= 32, shuffle= False)\n",
        "\n",
        "batch= next(iter(causal_train_loader))\n",
        "causal_tokenizer.decode(batch['input_ids'][0].tolist())"
      ]
    },
    {
      "cell_type": "code",
      "execution_count": 77,
      "id": "7576815e",
      "metadata": {
        "id": "7576815e"
      },
      "outputs": [],
      "source": [
        "def train_lstm_language_model(model, train_loader, val_loader, optimizer, criterion, scheduler, device, num_epochs):\n",
        "  model= model.to(device)\n",
        "\n",
        "  train_losses= []\n",
        "  train_perplexities= []\n",
        "  val_losses= []\n",
        "  val_perplexities= []\n",
        "\n",
        "  # Early stopping params\n",
        "  best_val_loss= float('inf')\n",
        "  patience= 5\n",
        "  epochs_with_no_improvement= 0\n",
        "\n",
        "  for epoch in range(1, num_epochs + 1):\n",
        "    # Training\n",
        "    model.train()\n",
        "    train_loss= 0\n",
        "    total_train_tokens= 0\n",
        "\n",
        "    for batch in train_loader:\n",
        "      input_ids= batch['input_ids'].to(device)\n",
        "      labels= batch['labels'].to(device)\n",
        "\n",
        "      # Forward\n",
        "      optimizer.zero_grad()\n",
        "      logits, _= model(input_ids)\n",
        "\n",
        "      # Calculate loss\n",
        "      loss= criterion(logits.view(-1, logits.size(-1)), labels.view(-1))\n",
        "\n",
        "      # Backward\n",
        "      loss.backward()\n",
        "      torch.nn.utils.clip_grad_norm(model.parameters(), max_norm= 1.0)\n",
        "      optimizer.step()\n",
        "\n",
        "      train_loss+= loss.item()\n",
        "      total_train_tokens+= labels.numel()\n",
        "\n",
        "    avg_train_loss= train_loss / len(train_loader)\n",
        "    train_perplexity= torch.exp(torch.tensor(avg_train_loss)).item()\n",
        "    train_losses.append(avg_train_loss)\n",
        "    train_perplexities.append(train_perplexity)\n",
        "\n",
        "    # Validation phase\n",
        "    model.eval()\n",
        "    val_loss= 0\n",
        "    with torch.no_grad():\n",
        "      for batch in val_loader:\n",
        "        input_ids= batch['input_ids'].to(device)\n",
        "        labels= batch['labels'].to(device)\n",
        "\n",
        "        logits, _= model(input_ids)\n",
        "        loss= criterion(logits.view(-1, logits.size(-1)), labels.view(-1))\n",
        "\n",
        "        val_loss+= loss.item()\n",
        "\n",
        "      # Calculate average validation and perplexity\n",
        "      avg_val_loss= val_loss / len(val_loader)\n",
        "      val_perplexity= torch.exp(torch.tensor(avg_val_loss)).item()\n",
        "      val_losses.append(avg_val_loss)\n",
        "      val_perplexities.append(val_perplexity)\n",
        "\n",
        "      scheduler.step(avg_val_loss)\n",
        "\n",
        "    print(f\"Epoch {epoch}/{num_epochs}\")\n",
        "    print(f\"Train Loss: {avg_train_loss:.4f} | Train Perplexity: {train_perplexity:.4f}\")\n",
        "    print(f\"Val Loss: {avg_val_loss:.4f} | Val Perplexity {val_perplexity:.4f}\")\n",
        "    print(\"-\"*50)\n",
        "\n",
        "    if avg_val_loss < best_val_loss:\n",
        "      best_val_loss= avg_val_loss\n",
        "      epochs_with_no_improvement= 0\n",
        "    else:\n",
        "      epochs_with_no_improvement+= 1\n",
        "    if epochs_with_no_improvement >= patience:\n",
        "      print(f\"Early Stopping triggered during epoch {epoch}\")\n",
        "      break\n",
        "\n",
        "  epochs= list(range(1, epoch + 1))\n",
        "  print(\"=\"*80)\n",
        "  return {\n",
        "      \"train_losses\": train_losses,\n",
        "      \"train_perplexities\": train_perplexities,\n",
        "      \"val_losses\": val_losses,\n",
        "      \"val_perplexities\": val_perplexities\n",
        "  }"
      ]
    },
    {
      "cell_type": "code",
      "source": [
        "torch.manual_seed(42)\n",
        "# Initialize LSTM model\n",
        "vocab_size = causal_train_dataset.vocab_size\n",
        "embedding_dim = 128\n",
        "hidden_dim = 256\n",
        "n_layers = 2\n",
        "dropout = 0.3\n",
        "\n",
        "lstm_model = LSTM(vocab_size, embedding_dim, hidden_dim, n_layers, dropout)\n",
        "\n",
        "# Set up training parameters\n",
        "learning_rate = 0.001\n",
        "num_epochs = 20\n",
        "\n",
        "# Initialize optimizer and scheduler\n",
        "lstm_optimizer = torch.optim.Adam(lstm_model.parameters(), lr=learning_rate)\n",
        "lstm_scheduler = torch.optim.lr_scheduler.ReduceLROnPlateau(\n",
        "    lstm_optimizer, mode='min', factor=0.5, patience=3, min_lr=1e-5\n",
        ")\n",
        "\n",
        "# Loss function (no ignore_index needed for causal LM)\n",
        "criterion = nn.CrossEntropyLoss()\n",
        "\n",
        "# Train the model\n",
        "lstm_history = train_lstm_language_model(\n",
        "    lstm_model, causal_train_loader, causal_val_loader,\n",
        "    lstm_optimizer, criterion, lstm_scheduler, device, num_epochs\n",
        ")"
      ],
      "metadata": {
        "colab": {
          "base_uri": "https://localhost:8080/"
        },
        "id": "bAjC_GUVu4pK",
        "outputId": "23ae24f1-62ef-439a-eae5-16fca1ae8925"
      },
      "id": "bAjC_GUVu4pK",
      "execution_count": 78,
      "outputs": [
        {
          "output_type": "stream",
          "name": "stderr",
          "text": [
            "/tmp/ipython-input-2182300539.py:33: FutureWarning: `torch.nn.utils.clip_grad_norm` is now deprecated in favor of `torch.nn.utils.clip_grad_norm_`.\n",
            "  torch.nn.utils.clip_grad_norm(model.parameters(), max_norm= 1.0)\n"
          ]
        },
        {
          "output_type": "stream",
          "name": "stdout",
          "text": [
            "Epoch 1/20\n",
            "Train Loss: 6.5559 | Train Perplexity: 703.3595\n",
            "Val Loss: 6.4276 | Val Perplexity 618.6631\n",
            "--------------------------------------------------\n",
            "Epoch 2/20\n",
            "Train Loss: 6.2957 | Train Perplexity: 542.2087\n",
            "Val Loss: 6.4193 | Val Perplexity 613.5718\n",
            "--------------------------------------------------\n",
            "Epoch 3/20\n",
            "Train Loss: 6.1580 | Train Perplexity: 472.4659\n",
            "Val Loss: 6.1915 | Val Perplexity 488.5622\n",
            "--------------------------------------------------\n",
            "Epoch 4/20\n",
            "Train Loss: 5.8916 | Train Perplexity: 362.0008\n",
            "Val Loss: 6.0054 | Val Perplexity 405.6098\n",
            "--------------------------------------------------\n",
            "Epoch 5/20\n",
            "Train Loss: 5.6841 | Train Perplexity: 294.1666\n",
            "Val Loss: 5.8986 | Val Perplexity 364.5272\n",
            "--------------------------------------------------\n",
            "Epoch 6/20\n",
            "Train Loss: 5.5325 | Train Perplexity: 252.7805\n",
            "Val Loss: 5.8112 | Val Perplexity 334.0113\n",
            "--------------------------------------------------\n",
            "Epoch 7/20\n",
            "Train Loss: 5.4204 | Train Perplexity: 225.9708\n",
            "Val Loss: 5.7415 | Val Perplexity 311.5230\n",
            "--------------------------------------------------\n",
            "Epoch 8/20\n",
            "Train Loss: 5.3314 | Train Perplexity: 206.7339\n",
            "Val Loss: 5.6913 | Val Perplexity 296.2678\n",
            "--------------------------------------------------\n",
            "Epoch 9/20\n",
            "Train Loss: 5.2544 | Train Perplexity: 191.4092\n",
            "Val Loss: 5.6467 | Val Perplexity 283.3525\n",
            "--------------------------------------------------\n",
            "Epoch 10/20\n",
            "Train Loss: 5.1859 | Train Perplexity: 178.7339\n",
            "Val Loss: 5.6168 | Val Perplexity 275.0091\n",
            "--------------------------------------------------\n",
            "Epoch 11/20\n",
            "Train Loss: 5.1273 | Train Perplexity: 168.5564\n",
            "Val Loss: 5.5916 | Val Perplexity 268.1568\n",
            "--------------------------------------------------\n",
            "Epoch 12/20\n",
            "Train Loss: 5.0733 | Train Perplexity: 159.6982\n",
            "Val Loss: 5.5759 | Val Perplexity 263.9830\n",
            "--------------------------------------------------\n",
            "Epoch 13/20\n",
            "Train Loss: 5.0252 | Train Perplexity: 152.1949\n",
            "Val Loss: 5.5497 | Val Perplexity 257.1497\n",
            "--------------------------------------------------\n",
            "Epoch 14/20\n",
            "Train Loss: 4.9778 | Train Perplexity: 145.1546\n",
            "Val Loss: 5.5495 | Val Perplexity 257.1119\n",
            "--------------------------------------------------\n",
            "Epoch 15/20\n",
            "Train Loss: 4.9347 | Train Perplexity: 139.0318\n",
            "Val Loss: 5.5322 | Val Perplexity 252.7063\n",
            "--------------------------------------------------\n",
            "Epoch 16/20\n",
            "Train Loss: 4.8943 | Train Perplexity: 133.5240\n",
            "Val Loss: 5.5360 | Val Perplexity 253.6619\n",
            "--------------------------------------------------\n",
            "Epoch 17/20\n",
            "Train Loss: 4.8540 | Train Perplexity: 128.2502\n",
            "Val Loss: 5.5218 | Val Perplexity 250.0875\n",
            "--------------------------------------------------\n",
            "Epoch 18/20\n",
            "Train Loss: 4.8156 | Train Perplexity: 123.4158\n",
            "Val Loss: 5.5248 | Val Perplexity 250.8330\n",
            "--------------------------------------------------\n",
            "Epoch 19/20\n",
            "Train Loss: 4.7780 | Train Perplexity: 118.8695\n",
            "Val Loss: 5.5212 | Val Perplexity 249.9278\n",
            "--------------------------------------------------\n",
            "Epoch 20/20\n",
            "Train Loss: 4.7412 | Train Perplexity: 114.5687\n",
            "Val Loss: 5.5231 | Val Perplexity 250.4213\n",
            "--------------------------------------------------\n",
            "================================================================================\n"
          ]
        }
      ]
    },
    {
      "cell_type": "code",
      "source": [
        "def plot_model_comparison(transformer_history, lstm_history):\n",
        "  fig, axes= plt.subplots(2, 2, figsize= (15, 10))\n",
        "  fig.suptitle(\"Model Performance Comparison: Transformer vs LSTM\", fontsize= 16, fontweight= 'bold')\n",
        "\n",
        "  max_epochs= max(len(transformer_history['train_losses']), len(lstm_history['train_losses']))\n",
        "\n",
        "  transformer_epochs= range(1, len(transformer_history['train_losses']) + 1)\n",
        "  lstm_epochs= range(1, len(lstm_history['train_losses']) + 1)\n",
        "\n",
        "  ax1= axes[0,0]\n",
        "  # Plot 1: Training Loss\n",
        "  ax1.plot(transformer_epochs, transformer_history['train_losses'],\n",
        "           'b-', label= 'Transformer', linewidth= 2)\n",
        "  ax1.plot(lstm_epochs, lstm_history['train_losses'],\n",
        "           'r-', label= 'LSTM', linewidth= 2)\n",
        "  ax1.set_xlabel('Epochs')\n",
        "  ax1.set_ylabel('Loss')\n",
        "  ax1.set_title('Training Loss')\n",
        "  ax1.legend()\n",
        "  ax1.grid(True, linestyle= '--', alpha= 0.7)\n",
        "  ax1.set_xlim(1, max_epochs)\n",
        "\n",
        "  # Plot 2: Validation Loss\n",
        "  ax2= axes[0, 1]\n",
        "  ax2.plot(transformer_epochs, transformer_history['val_losses'],\n",
        "           'b-', label= 'Transformer', linewidth= 2)\n",
        "  ax2.plot(lstm_epochs, lstm_history['val_losses'],\n",
        "           'r-', label= 'LSTM', linewidth= 2)\n",
        "  ax2.set_xlabel('Epochs')\n",
        "  ax2.set_ylabel('Loss')\n",
        "  ax2.set_title('Validation Loss')\n",
        "  ax2.legend()\n",
        "  ax2.grid(True, linestyle= '--', alpha= 0.7)\n",
        "  ax2.set_xlim(1, max_epochs)\n",
        "\n",
        "  # Plot 3: Training Perplexity\n",
        "  ax3= axes[1,0]\n",
        "  ax3.plot(transformer_epochs, transformer_history['train_perplexities'],\n",
        "           'b-', label= 'Transformer', linewidth= 2)\n",
        "  ax3.plot(lstm_epochs, lstm_history['train_perplexities'],\n",
        "           'r-', label= 'LSTM', linewidth= 2)\n",
        "  ax3.set_xlabel('Epochs')\n",
        "  ax3.set_ylabel('Perplexity')\n",
        "  ax3.set_title('Train Perplexity')\n",
        "  ax3.legend()\n",
        "  ax3.grid(True, linestyle= '--', alpha= 0.7)\n",
        "  ax3.set_xlim(1, max_epochs)\n",
        "\n",
        "  # Plot 4: Validation Perplexity\n",
        "  ax4= axes[1,1]\n",
        "  ax4.plot(transformer_epochs, transformer_history['val_perplexities'],\n",
        "           'b-', label= 'Transformer', linewidth= 2)\n",
        "  ax4.plot(lstm_epochs, lstm_history['val_perplexities'],\n",
        "           'r-', label= 'LSTM', linewidth= 2)\n",
        "  ax4.set_xlabel('Epochs')\n",
        "  ax4.set_ylabel('Perplexity')\n",
        "  ax4.set_title('Validation Perplexity')\n",
        "  ax4.legend()\n",
        "  ax4.grid(True, linestyle= '--', alpha= 0.7)\n",
        "  ax4.set_xlim(1, max_epochs)\n",
        "\n",
        "  plt.tight_layout()\n",
        "  plt.subplots_adjust(top= 0.93)\n",
        "  plt.show()\n",
        "\n",
        "plot_model_comparison(transformer_history, lstm_history)"
      ],
      "metadata": {
        "colab": {
          "base_uri": "https://localhost:8080/",
          "height": 925
        },
        "id": "jDdS3i6izaGi",
        "outputId": "600795ed-4bf8-4e41-e176-7b2e55fbad63"
      },
      "id": "jDdS3i6izaGi",
      "execution_count": 79,
      "outputs": [
        {
          "output_type": "display_data",
          "data": {
            "text/plain": [
              "<Figure size 1500x1000 with 4 Axes>"
            ],
            "image/png": "[encoded data removed]"
          },
          "metadata": {}
        }
      ]
    }
  ],
  "metadata": {
    "kernelspec": {
      "display_name": "Python 3",
      "name": "python3"
    },
    "language_info": {
      "codemirror_mode": {
        "name": "ipython",
        "version": 3
      },
      "file_extension": ".py",
      "mimetype": "text/x-python",
      "name": "python",
      "nbconvert_exporter": "python",
      "pygments_lexer": "ipython3",
      "version": "3.12.3"
    },
    "colab": {
      "provenance": [],
      "machine_shape": "hm",
      "gpuType": "L4"
    },
    "accelerator": "GPU"
  },
  "nbformat": 4,
  "nbformat_minor": 5
}